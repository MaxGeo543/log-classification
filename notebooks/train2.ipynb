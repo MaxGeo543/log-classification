{
 "cells": [
  {
   "cell_type": "markdown",
   "id": "a297fabe",
   "metadata": {},
   "source": [
    "First import all neccessary modules"
   ]
  },
  {
   "cell_type": "code",
   "execution_count": 1,
   "id": "ce1c93f3",
   "metadata": {},
   "outputs": [],
   "source": [
    "from datetime import datetime\n",
    "from preprocess import Preprocessor\n",
    "import numpy as np\n",
    "from keras.models import Sequential\n",
    "from keras.layers import LSTM, Dense\n",
    "from keras.metrics import Accuracy, Precision, Recall\n",
    "from keras.callbacks import EarlyStopping\n",
    "from sklearn.metrics import classification_report, confusion_matrix, f1_score\n",
    "import matplotlib.pyplot as plt\n",
    "import seaborn as sns\n",
    "from message_encoder import *\n",
    "from keras.optimizers import Adam, RMSprop, SGD, Nadam"
   ]
  },
  {
   "cell_type": "markdown",
   "id": "dfee08c1",
   "metadata": {},
   "source": [
    "Next we define all hyperparameters for the Training of the LSTM module. "
   ]
  },
  {
   "cell_type": "code",
   "execution_count": 2,
   "id": "6f4b3568",
   "metadata": {},
   "outputs": [],
   "source": [
    "# hyper parameters\n",
    "# preprocessing\n",
    "log_files = [i for i in range(745, 760)]            # list of ints representing the numbers of log files to use\n",
    "logs_per_class = 100                                # How many datapoints per class should be collected if available\n",
    "window_size = 20                                    # how many log messages to be considered in a single data point from sliding window\n",
    "encoding_output_size = 16                           # size to be passed to the message_encoder, note that this is not neccessairily the shape of the output\n",
    "message_encoder = TextVectorizationEncoder(10000, True, encoding_output_size) # the message_encoder to be used. Can be TextVectorizationEncoder (uses keras.layers.TextVectorizer), BERTEncoder (only uses the BERT tokenizer) or BERTEmbeddingEncoder (also uses the BERT model)\n",
    "test_ratio = 0.2                                    # percantage of the collected data that should be used for testing rather than training\n",
    "extended_datetime_features = False                  # bool, whether the preprocessing should use a multitude of normalized features extracted from the date \n",
    "# lstm architecture\n",
    "lstm_layers = 1                                     # int, how many lstm layers to use\n",
    "lstm_units_per_layer = 50                           # int, how many lstm units per layer to use\n",
    "dropout = 0.0                                       # float, which dropout value to use, 0.0 is equivalent to not using any dropout\n",
    "recurrent_dropout = 0.0                             # float, same as with regular dropout\n",
    "# training\n",
    "epochs = 1000                                       # number of iterations to train\n",
    "batch_size = 32                                     # int, number of samples processed before updating the model weights.\n",
    "early_stopping_monitor = \"val_loss\"                 # what value to monitor for early_stopping. can be 'loss', 'val_loss', 'accuracy', 'val_accuracy', 'precision', 'val_precision', 'recall', 'val_recall', 'f1_score', 'val_f1_score'\n",
    "early_stopping_patience = 10                        # int, number of epochs to wait after no improvement, if this is greater than epochs, EarlyStopping will not apply\n",
    "early_stopping_restore_best = True                  # bool, if true keeps the best weights, not the final ones.\n",
    "validation_split = 0.1\n",
    "learning_rate = 0.001                               # float to specify learning rate of the optimizer\n",
    "optimizer = Adam(learning_rate=learning_rate)       # optimizer, can be one of Adam, RMSprop, SGD (can have momentum parameter), Nadam\n"
   ]
  },
  {
   "cell_type": "markdown",
   "id": "af08da64",
   "metadata": {},
   "source": [
    "Next we load logs and preprocess the data. "
   ]
  },
  {
   "cell_type": "code",
   "execution_count": 3,
   "id": "47994355",
   "metadata": {},
   "outputs": [
    {
     "name": "stdout",
     "output_type": "stream",
     "text": [
      "Current log file: C:/Users/Askion/Documents/agmge/log-classification/data/CCI/CCLog-backup.745.log\n"
     ]
    },
    {
     "data": {
      "application/vnd.jupyter.widget-view+json": {
       "model_id": "ca77224175724feba728d0f789010487",
       "version_major": 2,
       "version_minor": 0
      },
      "text/plain": [
       "parsing log file:   0%|          | 0/811279 [00:00<?, ?it/s]"
      ]
     },
     "metadata": {},
     "output_type": "display_data"
    },
    {
     "data": {
      "application/vnd.jupyter.widget-view+json": {
       "model_id": "8b5b8debe9ee485cab83d22295c11d1d",
       "version_major": 2,
       "version_minor": 0
      },
      "text/plain": [
       "annotating events:   0%|          | 0/807974 [00:00<?, ?it/s]"
      ]
     },
     "metadata": {},
     "output_type": "display_data"
    },
    {
     "name": "stdout",
     "output_type": "stream",
     "text": [
      "Current State counts:\n",
      "  - 0 : 100\n",
      "  - 3 : 100\n",
      "  - 2 : 14\n",
      "  - 1 : 4\n",
      "Current log file: C:/Users/Askion/Documents/agmge/log-classification/data/CCI/CCLog-backup.746.log\n"
     ]
    },
    {
     "data": {
      "application/vnd.jupyter.widget-view+json": {
       "model_id": "a58e2b6595ff4ff0a1561aebb109e670",
       "version_major": 2,
       "version_minor": 0
      },
      "text/plain": [
       "parsing log file:   0%|          | 0/322863 [00:00<?, ?it/s]"
      ]
     },
     "metadata": {},
     "output_type": "display_data"
    },
    {
     "data": {
      "application/vnd.jupyter.widget-view+json": {
       "model_id": "1a1966f4b4954b829929f43222dc1208",
       "version_major": 2,
       "version_minor": 0
      },
      "text/plain": [
       "annotating events:   0%|          | 0/314649 [00:00<?, ?it/s]"
      ]
     },
     "metadata": {},
     "output_type": "display_data"
    },
    {
     "name": "stdout",
     "output_type": "stream",
     "text": [
      "Current State counts:\n",
      "  - 0 : 100\n",
      "  - 3 : 100\n",
      "  - 2 : 34\n",
      "  - 1 : 10\n",
      "Current log file: C:/Users/Askion/Documents/agmge/log-classification/data/CCI/CCLog-backup.747.log\n"
     ]
    },
    {
     "data": {
      "application/vnd.jupyter.widget-view+json": {
       "model_id": "4e236481dd2b4556a2c94cfca7f3886b",
       "version_major": 2,
       "version_minor": 0
      },
      "text/plain": [
       "parsing log file:   0%|          | 0/185821 [00:00<?, ?it/s]"
      ]
     },
     "metadata": {},
     "output_type": "display_data"
    },
    {
     "data": {
      "application/vnd.jupyter.widget-view+json": {
       "model_id": "4f9733cbe576417988bc1bab178171d4",
       "version_major": 2,
       "version_minor": 0
      },
      "text/plain": [
       "annotating events:   0%|          | 0/178255 [00:00<?, ?it/s]"
      ]
     },
     "metadata": {},
     "output_type": "display_data"
    },
    {
     "name": "stdout",
     "output_type": "stream",
     "text": [
      "Current State counts:\n",
      "  - 0 : 100\n",
      "  - 3 : 100\n",
      "  - 2 : 62\n",
      "  - 1 : 10\n",
      "Current log file: C:/Users/Askion/Documents/agmge/log-classification/data/CCI/CCLog-backup.748.log\n"
     ]
    },
    {
     "data": {
      "application/vnd.jupyter.widget-view+json": {
       "model_id": "e4bbd4a235364ed3b0f986e367170fc7",
       "version_major": 2,
       "version_minor": 0
      },
      "text/plain": [
       "parsing log file:   0%|          | 0/217424 [00:00<?, ?it/s]"
      ]
     },
     "metadata": {},
     "output_type": "display_data"
    },
    {
     "data": {
      "application/vnd.jupyter.widget-view+json": {
       "model_id": "c047c32d6fff45b3b1b4acfc3a900bd9",
       "version_major": 2,
       "version_minor": 0
      },
      "text/plain": [
       "annotating events:   0%|          | 0/207352 [00:00<?, ?it/s]"
      ]
     },
     "metadata": {},
     "output_type": "display_data"
    },
    {
     "name": "stdout",
     "output_type": "stream",
     "text": [
      "Current State counts:\n",
      "  - 0 : 100\n",
      "  - 3 : 100\n",
      "  - 2 : 100\n",
      "  - 1 : 19\n",
      "Current log file: C:/Users/Askion/Documents/agmge/log-classification/data/CCI/CCLog-backup.749.log\n"
     ]
    },
    {
     "data": {
      "application/vnd.jupyter.widget-view+json": {
       "model_id": "f32969e89bb04f69ad0609182e1e0b6c",
       "version_major": 2,
       "version_minor": 0
      },
      "text/plain": [
       "parsing log file:   0%|          | 0/86349 [00:00<?, ?it/s]"
      ]
     },
     "metadata": {},
     "output_type": "display_data"
    },
    {
     "data": {
      "application/vnd.jupyter.widget-view+json": {
       "model_id": "403501e142df4c5c84455740c4e2225d",
       "version_major": 2,
       "version_minor": 0
      },
      "text/plain": [
       "annotating events:   0%|          | 0/76720 [00:00<?, ?it/s]"
      ]
     },
     "metadata": {},
     "output_type": "display_data"
    },
    {
     "name": "stdout",
     "output_type": "stream",
     "text": [
      "Current State counts:\n",
      "  - 0 : 100\n",
      "  - 3 : 100\n",
      "  - 2 : 100\n",
      "  - 1 : 37\n",
      "Current log file: C:/Users/Askion/Documents/agmge/log-classification/data/CCI/CCLog-backup.750.log\n"
     ]
    },
    {
     "data": {
      "application/vnd.jupyter.widget-view+json": {
       "model_id": "2c645faaf3b84fa5a7a1462e0faebbae",
       "version_major": 2,
       "version_minor": 0
      },
      "text/plain": [
       "parsing log file:   0%|          | 0/104128 [00:00<?, ?it/s]"
      ]
     },
     "metadata": {},
     "output_type": "display_data"
    },
    {
     "data": {
      "application/vnd.jupyter.widget-view+json": {
       "model_id": "0a8e572993434eed90a18ea99a1bd673",
       "version_major": 2,
       "version_minor": 0
      },
      "text/plain": [
       "annotating events:   0%|          | 0/103928 [00:00<?, ?it/s]"
      ]
     },
     "metadata": {},
     "output_type": "display_data"
    },
    {
     "name": "stdout",
     "output_type": "stream",
     "text": [
      "Current State counts:\n",
      "  - 0 : 100\n",
      "  - 3 : 100\n",
      "  - 2 : 100\n",
      "  - 1 : 55\n",
      "Current log file: C:/Users/Askion/Documents/agmge/log-classification/data/CCI/CCLog-backup.751.log\n"
     ]
    },
    {
     "data": {
      "application/vnd.jupyter.widget-view+json": {
       "model_id": "b49422fadd6f497faba2c52f8c752607",
       "version_major": 2,
       "version_minor": 0
      },
      "text/plain": [
       "parsing log file:   0%|          | 0/103334 [00:00<?, ?it/s]"
      ]
     },
     "metadata": {},
     "output_type": "display_data"
    },
    {
     "data": {
      "application/vnd.jupyter.widget-view+json": {
       "model_id": "bec2dd38702a4b99878dc9f28d68d6f8",
       "version_major": 2,
       "version_minor": 0
      },
      "text/plain": [
       "annotating events:   0%|          | 0/103134 [00:00<?, ?it/s]"
      ]
     },
     "metadata": {},
     "output_type": "display_data"
    },
    {
     "name": "stdout",
     "output_type": "stream",
     "text": [
      "Current State counts:\n",
      "  - 0 : 100\n",
      "  - 3 : 100\n",
      "  - 2 : 100\n",
      "  - 1 : 73\n",
      "Current log file: C:/Users/Askion/Documents/agmge/log-classification/data/CCI/CCLog-backup.752.log\n"
     ]
    },
    {
     "data": {
      "application/vnd.jupyter.widget-view+json": {
       "model_id": "1e720edb49594760b034e988eab27864",
       "version_major": 2,
       "version_minor": 0
      },
      "text/plain": [
       "parsing log file:   0%|          | 0/102980 [00:00<?, ?it/s]"
      ]
     },
     "metadata": {},
     "output_type": "display_data"
    },
    {
     "data": {
      "application/vnd.jupyter.widget-view+json": {
       "model_id": "3f45db7d7c4c42ed88a55b697b748f44",
       "version_major": 2,
       "version_minor": 0
      },
      "text/plain": [
       "annotating events:   0%|          | 0/102703 [00:00<?, ?it/s]"
      ]
     },
     "metadata": {},
     "output_type": "display_data"
    },
    {
     "name": "stdout",
     "output_type": "stream",
     "text": [
      "Current State counts:\n",
      "  - 0 : 100\n",
      "  - 3 : 100\n",
      "  - 2 : 100\n",
      "  - 1 : 91\n",
      "Current log file: C:/Users/Askion/Documents/agmge/log-classification/data/CCI/CCLog-backup.753.log\n"
     ]
    },
    {
     "data": {
      "application/vnd.jupyter.widget-view+json": {
       "model_id": "a70c9650886040b0baa7426fad0f1a3e",
       "version_major": 2,
       "version_minor": 0
      },
      "text/plain": [
       "parsing log file:   0%|          | 0/301697 [00:00<?, ?it/s]"
      ]
     },
     "metadata": {},
     "output_type": "display_data"
    },
    {
     "data": {
      "application/vnd.jupyter.widget-view+json": {
       "model_id": "89002e70daed4e6e87c0b0882e5b00b5",
       "version_major": 2,
       "version_minor": 0
      },
      "text/plain": [
       "annotating events:   0%|          | 0/253791 [00:00<?, ?it/s]"
      ]
     },
     "metadata": {},
     "output_type": "display_data"
    },
    {
     "name": "stdout",
     "output_type": "stream",
     "text": [
      "Current State counts:\n",
      "  - 0 : 100\n",
      "  - 3 : 100\n",
      "  - 2 : 100\n",
      "  - 1 : 100\n",
      "All states have the desired log count\n"
     ]
    }
   ],
   "source": [
    "# preprocessing\n",
    "pp = Preprocessor(log_files, \n",
    "                  message_encoder, \n",
    "                  logs_per_class=logs_per_class, \n",
    "                  window_size=window_size, \n",
    "                  extended_datetime_features=extended_datetime_features, \n",
    "                  volatile=True)\n",
    "train_data, test_data = pp.stratified_split(test_ratio=test_ratio)\n",
    "X_train, y_train = zip(*train_data)\n",
    "X_test, y_test = zip(*test_data)\n",
    "\n",
    "X_train = np.array(X_train)\n",
    "y_train = np.array(y_train)\n",
    "X_test = np.array(X_test)\n",
    "y_test = np.array(y_test)"
   ]
  },
  {
   "cell_type": "markdown",
   "id": "dfdf3506",
   "metadata": {},
   "source": [
    "Define the model architecture for the LSTM, then train the LSTM model. "
   ]
  },
  {
   "cell_type": "code",
   "execution_count": 4,
   "id": "67e8f58a",
   "metadata": {},
   "outputs": [
    {
     "name": "stdout",
     "output_type": "stream",
     "text": [
      "Epoch 1/1000\n"
     ]
    },
    {
     "name": "stderr",
     "output_type": "stream",
     "text": [
      "c:\\Users\\Askion\\Documents\\agmge\\log-classification\\venv\\Lib\\site-packages\\keras\\src\\layers\\rnn\\rnn.py:199: UserWarning: Do not pass an `input_shape`/`input_dim` argument to a layer. When using Sequential models, prefer using an `Input(shape)` object as the first layer in the model instead.\n",
      "  super().__init__(**kwargs)\n"
     ]
    },
    {
     "name": "stdout",
     "output_type": "stream",
     "text": [
      "\u001b[1m9/9\u001b[0m \u001b[32m━━━━━━━━━━━━━━━━━━━━\u001b[0m\u001b[37m\u001b[0m \u001b[1m2s\u001b[0m 50ms/step - accuracy: 0.3689 - loss: 1.5960 - val_accuracy: 0.1875 - val_loss: 1.7791\n",
      "Epoch 2/1000\n",
      "\u001b[1m9/9\u001b[0m \u001b[32m━━━━━━━━━━━━━━━━━━━━\u001b[0m\u001b[37m\u001b[0m \u001b[1m0s\u001b[0m 14ms/step - accuracy: 0.3921 - loss: 1.4858 - val_accuracy: 0.2812 - val_loss: 1.6742\n",
      "Epoch 3/1000\n",
      "\u001b[1m9/9\u001b[0m \u001b[32m━━━━━━━━━━━━━━━━━━━━\u001b[0m\u001b[37m\u001b[0m \u001b[1m0s\u001b[0m 15ms/step - accuracy: 0.4284 - loss: 1.4116 - val_accuracy: 0.2812 - val_loss: 1.5861\n",
      "Epoch 4/1000\n",
      "\u001b[1m9/9\u001b[0m \u001b[32m━━━━━━━━━━━━━━━━━━━━\u001b[0m\u001b[37m\u001b[0m \u001b[1m0s\u001b[0m 14ms/step - accuracy: 0.4023 - loss: 1.3562 - val_accuracy: 0.2812 - val_loss: 1.5115\n",
      "Epoch 5/1000\n",
      "\u001b[1m9/9\u001b[0m \u001b[32m━━━━━━━━━━━━━━━━━━━━\u001b[0m\u001b[37m\u001b[0m \u001b[1m0s\u001b[0m 14ms/step - accuracy: 0.4229 - loss: 1.2772 - val_accuracy: 0.3125 - val_loss: 1.3947\n",
      "Epoch 6/1000\n",
      "\u001b[1m9/9\u001b[0m \u001b[32m━━━━━━━━━━━━━━━━━━━━\u001b[0m\u001b[37m\u001b[0m \u001b[1m0s\u001b[0m 14ms/step - accuracy: 0.4638 - loss: 1.2230 - val_accuracy: 0.3125 - val_loss: 1.3227\n",
      "Epoch 7/1000\n",
      "\u001b[1m9/9\u001b[0m \u001b[32m━━━━━━━━━━━━━━━━━━━━\u001b[0m\u001b[37m\u001b[0m \u001b[1m0s\u001b[0m 15ms/step - accuracy: 0.5094 - loss: 1.1610 - val_accuracy: 0.3438 - val_loss: 1.2502\n",
      "Epoch 8/1000\n",
      "\u001b[1m9/9\u001b[0m \u001b[32m━━━━━━━━━━━━━━━━━━━━\u001b[0m\u001b[37m\u001b[0m \u001b[1m0s\u001b[0m 14ms/step - accuracy: 0.5171 - loss: 1.1154 - val_accuracy: 0.3438 - val_loss: 1.1949\n",
      "Epoch 9/1000\n",
      "\u001b[1m9/9\u001b[0m \u001b[32m━━━━━━━━━━━━━━━━━━━━\u001b[0m\u001b[37m\u001b[0m \u001b[1m0s\u001b[0m 15ms/step - accuracy: 0.5113 - loss: 1.0628 - val_accuracy: 0.3438 - val_loss: 1.1350\n",
      "Epoch 10/1000\n",
      "\u001b[1m9/9\u001b[0m \u001b[32m━━━━━━━━━━━━━━━━━━━━\u001b[0m\u001b[37m\u001b[0m \u001b[1m0s\u001b[0m 14ms/step - accuracy: 0.4943 - loss: 1.0420 - val_accuracy: 0.3438 - val_loss: 1.0919\n",
      "Epoch 11/1000\n",
      "\u001b[1m9/9\u001b[0m \u001b[32m━━━━━━━━━━━━━━━━━━━━\u001b[0m\u001b[37m\u001b[0m \u001b[1m0s\u001b[0m 14ms/step - accuracy: 0.5609 - loss: 0.9607 - val_accuracy: 0.3438 - val_loss: 1.0553\n",
      "Epoch 12/1000\n",
      "\u001b[1m9/9\u001b[0m \u001b[32m━━━━━━━━━━━━━━━━━━━━\u001b[0m\u001b[37m\u001b[0m \u001b[1m0s\u001b[0m 14ms/step - accuracy: 0.5171 - loss: 0.9833 - val_accuracy: 0.3438 - val_loss: 1.0140\n",
      "Epoch 13/1000\n",
      "\u001b[1m9/9\u001b[0m \u001b[32m━━━━━━━━━━━━━━━━━━━━\u001b[0m\u001b[37m\u001b[0m \u001b[1m0s\u001b[0m 14ms/step - accuracy: 0.5270 - loss: 0.9413 - val_accuracy: 0.3438 - val_loss: 0.9863\n",
      "Epoch 14/1000\n",
      "\u001b[1m9/9\u001b[0m \u001b[32m━━━━━━━━━━━━━━━━━━━━\u001b[0m\u001b[37m\u001b[0m \u001b[1m0s\u001b[0m 14ms/step - accuracy: 0.5785 - loss: 0.9079 - val_accuracy: 0.6875 - val_loss: 0.9590\n",
      "Epoch 15/1000\n",
      "\u001b[1m9/9\u001b[0m \u001b[32m━━━━━━━━━━━━━━━━━━━━\u001b[0m\u001b[37m\u001b[0m \u001b[1m0s\u001b[0m 14ms/step - accuracy: 0.7708 - loss: 0.9029 - val_accuracy: 0.6875 - val_loss: 0.9352\n",
      "Epoch 16/1000\n",
      "\u001b[1m9/9\u001b[0m \u001b[32m━━━━━━━━━━━━━━━━━━━━\u001b[0m\u001b[37m\u001b[0m \u001b[1m0s\u001b[0m 15ms/step - accuracy: 0.7332 - loss: 0.9017 - val_accuracy: 0.6875 - val_loss: 0.9234\n",
      "Epoch 17/1000\n",
      "\u001b[1m9/9\u001b[0m \u001b[32m━━━━━━━━━━━━━━━━━━━━\u001b[0m\u001b[37m\u001b[0m \u001b[1m0s\u001b[0m 15ms/step - accuracy: 0.7354 - loss: 0.8814 - val_accuracy: 0.6875 - val_loss: 0.9058\n",
      "Epoch 18/1000\n",
      "\u001b[1m9/9\u001b[0m \u001b[32m━━━━━━━━━━━━━━━━━━━━\u001b[0m\u001b[37m\u001b[0m \u001b[1m0s\u001b[0m 13ms/step - accuracy: 0.7627 - loss: 0.8676 - val_accuracy: 0.6875 - val_loss: 0.8889\n",
      "Epoch 19/1000\n",
      "\u001b[1m9/9\u001b[0m \u001b[32m━━━━━━━━━━━━━━━━━━━━\u001b[0m\u001b[37m\u001b[0m \u001b[1m0s\u001b[0m 14ms/step - accuracy: 0.7515 - loss: 0.8533 - val_accuracy: 0.6875 - val_loss: 0.8667\n",
      "Epoch 20/1000\n",
      "\u001b[1m9/9\u001b[0m \u001b[32m━━━━━━━━━━━━━━━━━━━━\u001b[0m\u001b[37m\u001b[0m \u001b[1m0s\u001b[0m 15ms/step - accuracy: 0.6874 - loss: 0.8620 - val_accuracy: 0.6875 - val_loss: 0.8515\n",
      "Epoch 21/1000\n",
      "\u001b[1m9/9\u001b[0m \u001b[32m━━━━━━━━━━━━━━━━━━━━\u001b[0m\u001b[37m\u001b[0m \u001b[1m0s\u001b[0m 15ms/step - accuracy: 0.7070 - loss: 0.8266 - val_accuracy: 0.6875 - val_loss: 0.8381\n",
      "Epoch 22/1000\n",
      "\u001b[1m9/9\u001b[0m \u001b[32m━━━━━━━━━━━━━━━━━━━━\u001b[0m\u001b[37m\u001b[0m \u001b[1m0s\u001b[0m 16ms/step - accuracy: 0.7366 - loss: 0.7830 - val_accuracy: 0.6875 - val_loss: 0.8280\n",
      "Epoch 23/1000\n",
      "\u001b[1m9/9\u001b[0m \u001b[32m━━━━━━━━━━━━━━━━━━━━\u001b[0m\u001b[37m\u001b[0m \u001b[1m0s\u001b[0m 15ms/step - accuracy: 0.7517 - loss: 0.7884 - val_accuracy: 0.6875 - val_loss: 0.8166\n",
      "Epoch 24/1000\n",
      "\u001b[1m9/9\u001b[0m \u001b[32m━━━━━━━━━━━━━━━━━━━━\u001b[0m\u001b[37m\u001b[0m \u001b[1m0s\u001b[0m 14ms/step - accuracy: 0.7118 - loss: 0.8101 - val_accuracy: 0.6875 - val_loss: 0.8034\n",
      "Epoch 25/1000\n",
      "\u001b[1m9/9\u001b[0m \u001b[32m━━━━━━━━━━━━━━━━━━━━\u001b[0m\u001b[37m\u001b[0m \u001b[1m0s\u001b[0m 16ms/step - accuracy: 0.7722 - loss: 0.7732 - val_accuracy: 0.6875 - val_loss: 0.7929\n",
      "Epoch 26/1000\n",
      "\u001b[1m9/9\u001b[0m \u001b[32m━━━━━━━━━━━━━━━━━━━━\u001b[0m\u001b[37m\u001b[0m \u001b[1m0s\u001b[0m 16ms/step - accuracy: 0.7432 - loss: 0.7881 - val_accuracy: 0.6875 - val_loss: 0.7786\n",
      "Epoch 27/1000\n",
      "\u001b[1m9/9\u001b[0m \u001b[32m━━━━━━━━━━━━━━━━━━━━\u001b[0m\u001b[37m\u001b[0m \u001b[1m0s\u001b[0m 16ms/step - accuracy: 0.7734 - loss: 0.7498 - val_accuracy: 0.6875 - val_loss: 0.7701\n",
      "Epoch 28/1000\n",
      "\u001b[1m9/9\u001b[0m \u001b[32m━━━━━━━━━━━━━━━━━━━━\u001b[0m\u001b[37m\u001b[0m \u001b[1m0s\u001b[0m 17ms/step - accuracy: 0.6978 - loss: 0.7794 - val_accuracy: 0.6875 - val_loss: 0.7611\n",
      "Epoch 29/1000\n",
      "\u001b[1m9/9\u001b[0m \u001b[32m━━━━━━━━━━━━━━━━━━━━\u001b[0m\u001b[37m\u001b[0m \u001b[1m0s\u001b[0m 14ms/step - accuracy: 0.7426 - loss: 0.7709 - val_accuracy: 0.6875 - val_loss: 0.7526\n",
      "Epoch 30/1000\n",
      "\u001b[1m9/9\u001b[0m \u001b[32m━━━━━━━━━━━━━━━━━━━━\u001b[0m\u001b[37m\u001b[0m \u001b[1m0s\u001b[0m 14ms/step - accuracy: 0.7444 - loss: 0.7240 - val_accuracy: 0.6875 - val_loss: 0.7468\n",
      "Epoch 31/1000\n",
      "\u001b[1m9/9\u001b[0m \u001b[32m━━━━━━━━━━━━━━━━━━━━\u001b[0m\u001b[37m\u001b[0m \u001b[1m0s\u001b[0m 14ms/step - accuracy: 0.7273 - loss: 0.7263 - val_accuracy: 0.6875 - val_loss: 0.7399\n",
      "Epoch 32/1000\n",
      "\u001b[1m9/9\u001b[0m \u001b[32m━━━━━━━━━━━━━━━━━━━━\u001b[0m\u001b[37m\u001b[0m \u001b[1m0s\u001b[0m 14ms/step - accuracy: 0.7437 - loss: 0.7249 - val_accuracy: 0.6875 - val_loss: 0.7319\n",
      "Epoch 33/1000\n",
      "\u001b[1m9/9\u001b[0m \u001b[32m━━━━━━━━━━━━━━━━━━━━\u001b[0m\u001b[37m\u001b[0m \u001b[1m0s\u001b[0m 15ms/step - accuracy: 0.7566 - loss: 0.7331 - val_accuracy: 0.6875 - val_loss: 0.7261\n",
      "Epoch 34/1000\n",
      "\u001b[1m9/9\u001b[0m \u001b[32m━━━━━━━━━━━━━━━━━━━━\u001b[0m\u001b[37m\u001b[0m \u001b[1m0s\u001b[0m 15ms/step - accuracy: 0.7618 - loss: 0.6990 - val_accuracy: 0.6875 - val_loss: 0.7193\n",
      "Epoch 35/1000\n",
      "\u001b[1m9/9\u001b[0m \u001b[32m━━━━━━━━━━━━━━━━━━━━\u001b[0m\u001b[37m\u001b[0m \u001b[1m0s\u001b[0m 14ms/step - accuracy: 0.7598 - loss: 0.6857 - val_accuracy: 0.6875 - val_loss: 0.7123\n",
      "Epoch 36/1000\n",
      "\u001b[1m9/9\u001b[0m \u001b[32m━━━━━━━━━━━━━━━━━━━━\u001b[0m\u001b[37m\u001b[0m \u001b[1m0s\u001b[0m 14ms/step - accuracy: 0.7372 - loss: 0.6961 - val_accuracy: 0.6875 - val_loss: 0.7065\n",
      "Epoch 37/1000\n",
      "\u001b[1m9/9\u001b[0m \u001b[32m━━━━━━━━━━━━━━━━━━━━\u001b[0m\u001b[37m\u001b[0m \u001b[1m0s\u001b[0m 14ms/step - accuracy: 0.7305 - loss: 0.7005 - val_accuracy: 0.6875 - val_loss: 0.6989\n",
      "Epoch 38/1000\n",
      "\u001b[1m9/9\u001b[0m \u001b[32m━━━━━━━━━━━━━━━━━━━━\u001b[0m\u001b[37m\u001b[0m \u001b[1m0s\u001b[0m 15ms/step - accuracy: 0.7621 - loss: 0.6957 - val_accuracy: 0.6875 - val_loss: 0.6953\n",
      "Epoch 39/1000\n",
      "\u001b[1m9/9\u001b[0m \u001b[32m━━━━━━━━━━━━━━━━━━━━\u001b[0m\u001b[37m\u001b[0m \u001b[1m0s\u001b[0m 15ms/step - accuracy: 0.7508 - loss: 0.6877 - val_accuracy: 0.6875 - val_loss: 0.6909\n",
      "Epoch 40/1000\n",
      "\u001b[1m9/9\u001b[0m \u001b[32m━━━━━━━━━━━━━━━━━━━━\u001b[0m\u001b[37m\u001b[0m \u001b[1m0s\u001b[0m 14ms/step - accuracy: 0.7237 - loss: 0.7048 - val_accuracy: 0.6875 - val_loss: 0.6849\n",
      "Epoch 41/1000\n",
      "\u001b[1m9/9\u001b[0m \u001b[32m━━━━━━━━━━━━━━━━━━━━\u001b[0m\u001b[37m\u001b[0m \u001b[1m0s\u001b[0m 13ms/step - accuracy: 0.7155 - loss: 0.7004 - val_accuracy: 0.6875 - val_loss: 0.6812\n",
      "Epoch 42/1000\n",
      "\u001b[1m9/9\u001b[0m \u001b[32m━━━━━━━━━━━━━━━━━━━━\u001b[0m\u001b[37m\u001b[0m \u001b[1m0s\u001b[0m 15ms/step - accuracy: 0.7717 - loss: 0.6542 - val_accuracy: 0.6875 - val_loss: 0.6763\n",
      "Epoch 43/1000\n",
      "\u001b[1m9/9\u001b[0m \u001b[32m━━━━━━━━━━━━━━━━━━━━\u001b[0m\u001b[37m\u001b[0m \u001b[1m0s\u001b[0m 14ms/step - accuracy: 0.7552 - loss: 0.6628 - val_accuracy: 0.6875 - val_loss: 0.6707\n",
      "Epoch 44/1000\n",
      "\u001b[1m9/9\u001b[0m \u001b[32m━━━━━━━━━━━━━━━━━━━━\u001b[0m\u001b[37m\u001b[0m \u001b[1m0s\u001b[0m 16ms/step - accuracy: 0.7902 - loss: 0.6664 - val_accuracy: 0.6875 - val_loss: 0.6646\n",
      "Epoch 45/1000\n",
      "\u001b[1m9/9\u001b[0m \u001b[32m━━━━━━━━━━━━━━━━━━━━\u001b[0m\u001b[37m\u001b[0m \u001b[1m0s\u001b[0m 14ms/step - accuracy: 0.7704 - loss: 0.6600 - val_accuracy: 0.6875 - val_loss: 0.6595\n",
      "Epoch 46/1000\n",
      "\u001b[1m9/9\u001b[0m \u001b[32m━━━━━━━━━━━━━━━━━━━━\u001b[0m\u001b[37m\u001b[0m \u001b[1m0s\u001b[0m 14ms/step - accuracy: 0.7686 - loss: 0.6796 - val_accuracy: 0.6875 - val_loss: 0.6566\n",
      "Epoch 47/1000\n",
      "\u001b[1m9/9\u001b[0m \u001b[32m━━━━━━━━━━━━━━━━━━━━\u001b[0m\u001b[37m\u001b[0m \u001b[1m0s\u001b[0m 15ms/step - accuracy: 0.7769 - loss: 0.6782 - val_accuracy: 0.6875 - val_loss: 0.6545\n",
      "Epoch 48/1000\n",
      "\u001b[1m9/9\u001b[0m \u001b[32m━━━━━━━━━━━━━━━━━━━━\u001b[0m\u001b[37m\u001b[0m \u001b[1m0s\u001b[0m 15ms/step - accuracy: 0.7828 - loss: 0.6374 - val_accuracy: 0.6875 - val_loss: 0.6493\n",
      "Epoch 49/1000\n",
      "\u001b[1m9/9\u001b[0m \u001b[32m━━━━━━━━━━━━━━━━━━━━\u001b[0m\u001b[37m\u001b[0m \u001b[1m0s\u001b[0m 14ms/step - accuracy: 0.7829 - loss: 0.6203 - val_accuracy: 0.6875 - val_loss: 0.6453\n",
      "Epoch 50/1000\n",
      "\u001b[1m9/9\u001b[0m \u001b[32m━━━━━━━━━━━━━━━━━━━━\u001b[0m\u001b[37m\u001b[0m \u001b[1m0s\u001b[0m 14ms/step - accuracy: 0.7508 - loss: 0.6442 - val_accuracy: 0.6875 - val_loss: 0.6411\n",
      "Epoch 51/1000\n",
      "\u001b[1m9/9\u001b[0m \u001b[32m━━━━━━━━━━━━━━━━━━━━\u001b[0m\u001b[37m\u001b[0m \u001b[1m0s\u001b[0m 15ms/step - accuracy: 0.8014 - loss: 0.6332 - val_accuracy: 0.6875 - val_loss: 0.6381\n",
      "Epoch 52/1000\n",
      "\u001b[1m9/9\u001b[0m \u001b[32m━━━━━━━━━━━━━━━━━━━━\u001b[0m\u001b[37m\u001b[0m \u001b[1m0s\u001b[0m 14ms/step - accuracy: 0.7779 - loss: 0.6598 - val_accuracy: 0.6875 - val_loss: 0.6342\n",
      "Epoch 53/1000\n",
      "\u001b[1m9/9\u001b[0m \u001b[32m━━━━━━━━━━━━━━━━━━━━\u001b[0m\u001b[37m\u001b[0m \u001b[1m0s\u001b[0m 15ms/step - accuracy: 0.7923 - loss: 0.6473 - val_accuracy: 0.6875 - val_loss: 0.6308\n",
      "Epoch 54/1000\n",
      "\u001b[1m9/9\u001b[0m \u001b[32m━━━━━━━━━━━━━━━━━━━━\u001b[0m\u001b[37m\u001b[0m \u001b[1m0s\u001b[0m 15ms/step - accuracy: 0.7434 - loss: 0.6351 - val_accuracy: 0.6875 - val_loss: 0.6272\n",
      "Epoch 55/1000\n",
      "\u001b[1m9/9\u001b[0m \u001b[32m━━━━━━━━━━━━━━━━━━━━\u001b[0m\u001b[37m\u001b[0m \u001b[1m0s\u001b[0m 14ms/step - accuracy: 0.7643 - loss: 0.6319 - val_accuracy: 0.6875 - val_loss: 0.6230\n",
      "Epoch 56/1000\n",
      "\u001b[1m9/9\u001b[0m \u001b[32m━━━━━━━━━━━━━━━━━━━━\u001b[0m\u001b[37m\u001b[0m \u001b[1m0s\u001b[0m 15ms/step - accuracy: 0.7942 - loss: 0.6128 - val_accuracy: 0.6875 - val_loss: 0.6209\n",
      "Epoch 57/1000\n",
      "\u001b[1m9/9\u001b[0m \u001b[32m━━━━━━━━━━━━━━━━━━━━\u001b[0m\u001b[37m\u001b[0m \u001b[1m0s\u001b[0m 14ms/step - accuracy: 0.7620 - loss: 0.6203 - val_accuracy: 0.6875 - val_loss: 0.6167\n",
      "Epoch 58/1000\n",
      "\u001b[1m9/9\u001b[0m \u001b[32m━━━━━━━━━━━━━━━━━━━━\u001b[0m\u001b[37m\u001b[0m \u001b[1m0s\u001b[0m 15ms/step - accuracy: 0.7845 - loss: 0.6075 - val_accuracy: 0.6875 - val_loss: 0.6141\n",
      "Epoch 59/1000\n",
      "\u001b[1m9/9\u001b[0m \u001b[32m━━━━━━━━━━━━━━━━━━━━\u001b[0m\u001b[37m\u001b[0m \u001b[1m0s\u001b[0m 15ms/step - accuracy: 0.7830 - loss: 0.6248 - val_accuracy: 0.6875 - val_loss: 0.6114\n",
      "Epoch 60/1000\n",
      "\u001b[1m9/9\u001b[0m \u001b[32m━━━━━━━━━━━━━━━━━━━━\u001b[0m\u001b[37m\u001b[0m \u001b[1m0s\u001b[0m 15ms/step - accuracy: 0.7795 - loss: 0.5982 - val_accuracy: 0.6875 - val_loss: 0.6083\n",
      "Epoch 61/1000\n",
      "\u001b[1m9/9\u001b[0m \u001b[32m━━━━━━━━━━━━━━━━━━━━\u001b[0m\u001b[37m\u001b[0m \u001b[1m0s\u001b[0m 15ms/step - accuracy: 0.7663 - loss: 0.6205 - val_accuracy: 0.6875 - val_loss: 0.6053\n",
      "Epoch 62/1000\n",
      "\u001b[1m9/9\u001b[0m \u001b[32m━━━━━━━━━━━━━━━━━━━━\u001b[0m\u001b[37m\u001b[0m \u001b[1m0s\u001b[0m 15ms/step - accuracy: 0.7452 - loss: 0.6479 - val_accuracy: 0.6875 - val_loss: 0.6025\n",
      "Epoch 63/1000\n",
      "\u001b[1m9/9\u001b[0m \u001b[32m━━━━━━━━━━━━━━━━━━━━\u001b[0m\u001b[37m\u001b[0m \u001b[1m0s\u001b[0m 15ms/step - accuracy: 0.8042 - loss: 0.5972 - val_accuracy: 0.6875 - val_loss: 0.6009\n",
      "Epoch 64/1000\n",
      "\u001b[1m9/9\u001b[0m \u001b[32m━━━━━━━━━━━━━━━━━━━━\u001b[0m\u001b[37m\u001b[0m \u001b[1m0s\u001b[0m 15ms/step - accuracy: 0.7837 - loss: 0.5851 - val_accuracy: 0.6875 - val_loss: 0.5973\n",
      "Epoch 65/1000\n",
      "\u001b[1m9/9\u001b[0m \u001b[32m━━━━━━━━━━━━━━━━━━━━\u001b[0m\u001b[37m\u001b[0m \u001b[1m0s\u001b[0m 15ms/step - accuracy: 0.7811 - loss: 0.5855 - val_accuracy: 0.6875 - val_loss: 0.5948\n",
      "Epoch 66/1000\n",
      "\u001b[1m9/9\u001b[0m \u001b[32m━━━━━━━━━━━━━━━━━━━━\u001b[0m\u001b[37m\u001b[0m \u001b[1m0s\u001b[0m 15ms/step - accuracy: 0.7807 - loss: 0.6200 - val_accuracy: 0.6875 - val_loss: 0.5925\n",
      "Epoch 67/1000\n",
      "\u001b[1m9/9\u001b[0m \u001b[32m━━━━━━━━━━━━━━━━━━━━\u001b[0m\u001b[37m\u001b[0m \u001b[1m0s\u001b[0m 15ms/step - accuracy: 0.7806 - loss: 0.5842 - val_accuracy: 0.6875 - val_loss: 0.5897\n",
      "Epoch 68/1000\n",
      "\u001b[1m9/9\u001b[0m \u001b[32m━━━━━━━━━━━━━━━━━━━━\u001b[0m\u001b[37m\u001b[0m \u001b[1m0s\u001b[0m 15ms/step - accuracy: 0.7641 - loss: 0.6040 - val_accuracy: 0.6875 - val_loss: 0.5872\n",
      "Epoch 69/1000\n",
      "\u001b[1m9/9\u001b[0m \u001b[32m━━━━━━━━━━━━━━━━━━━━\u001b[0m\u001b[37m\u001b[0m \u001b[1m0s\u001b[0m 14ms/step - accuracy: 0.7714 - loss: 0.5939 - val_accuracy: 0.6875 - val_loss: 0.5846\n",
      "Epoch 70/1000\n",
      "\u001b[1m9/9\u001b[0m \u001b[32m━━━━━━━━━━━━━━━━━━━━\u001b[0m\u001b[37m\u001b[0m \u001b[1m0s\u001b[0m 12ms/step - accuracy: 0.7995 - loss: 0.5786 - val_accuracy: 0.6875 - val_loss: 0.5819\n",
      "Epoch 71/1000\n",
      "\u001b[1m9/9\u001b[0m \u001b[32m━━━━━━━━━━━━━━━━━━━━\u001b[0m\u001b[37m\u001b[0m \u001b[1m0s\u001b[0m 15ms/step - accuracy: 0.7657 - loss: 0.6105 - val_accuracy: 0.6875 - val_loss: 0.5787\n",
      "Epoch 72/1000\n",
      "\u001b[1m9/9\u001b[0m \u001b[32m━━━━━━━━━━━━━━━━━━━━\u001b[0m\u001b[37m\u001b[0m \u001b[1m0s\u001b[0m 15ms/step - accuracy: 0.7903 - loss: 0.5936 - val_accuracy: 0.6875 - val_loss: 0.5776\n",
      "Epoch 73/1000\n",
      "\u001b[1m9/9\u001b[0m \u001b[32m━━━━━━━━━━━━━━━━━━━━\u001b[0m\u001b[37m\u001b[0m \u001b[1m0s\u001b[0m 15ms/step - accuracy: 0.7958 - loss: 0.5860 - val_accuracy: 0.6875 - val_loss: 0.5752\n",
      "Epoch 74/1000\n",
      "\u001b[1m9/9\u001b[0m \u001b[32m━━━━━━━━━━━━━━━━━━━━\u001b[0m\u001b[37m\u001b[0m \u001b[1m0s\u001b[0m 14ms/step - accuracy: 0.7731 - loss: 0.5794 - val_accuracy: 0.6875 - val_loss: 0.5729\n",
      "Epoch 75/1000\n",
      "\u001b[1m9/9\u001b[0m \u001b[32m━━━━━━━━━━━━━━━━━━━━\u001b[0m\u001b[37m\u001b[0m \u001b[1m0s\u001b[0m 19ms/step - accuracy: 0.7871 - loss: 0.5699 - val_accuracy: 0.6875 - val_loss: 0.5692\n",
      "Epoch 76/1000\n",
      "\u001b[1m9/9\u001b[0m \u001b[32m━━━━━━━━━━━━━━━━━━━━\u001b[0m\u001b[37m\u001b[0m \u001b[1m0s\u001b[0m 16ms/step - accuracy: 0.7833 - loss: 0.5757 - val_accuracy: 0.6875 - val_loss: 0.5678\n",
      "Epoch 77/1000\n",
      "\u001b[1m9/9\u001b[0m \u001b[32m━━━━━━━━━━━━━━━━━━━━\u001b[0m\u001b[37m\u001b[0m \u001b[1m0s\u001b[0m 15ms/step - accuracy: 0.7842 - loss: 0.5734 - val_accuracy: 0.6875 - val_loss: 0.5663\n",
      "Epoch 78/1000\n",
      "\u001b[1m9/9\u001b[0m \u001b[32m━━━━━━━━━━━━━━━━━━━━\u001b[0m\u001b[37m\u001b[0m \u001b[1m0s\u001b[0m 15ms/step - accuracy: 0.7557 - loss: 0.5943 - val_accuracy: 0.6875 - val_loss: 0.5642\n",
      "Epoch 79/1000\n",
      "\u001b[1m9/9\u001b[0m \u001b[32m━━━━━━━━━━━━━━━━━━━━\u001b[0m\u001b[37m\u001b[0m \u001b[1m0s\u001b[0m 17ms/step - accuracy: 0.7760 - loss: 0.5864 - val_accuracy: 0.6875 - val_loss: 0.5622\n",
      "Epoch 80/1000\n",
      "\u001b[1m9/9\u001b[0m \u001b[32m━━━━━━━━━━━━━━━━━━━━\u001b[0m\u001b[37m\u001b[0m \u001b[1m0s\u001b[0m 15ms/step - accuracy: 0.7695 - loss: 0.5785 - val_accuracy: 0.6875 - val_loss: 0.5597\n",
      "Epoch 81/1000\n",
      "\u001b[1m9/9\u001b[0m \u001b[32m━━━━━━━━━━━━━━━━━━━━\u001b[0m\u001b[37m\u001b[0m \u001b[1m0s\u001b[0m 14ms/step - accuracy: 0.7618 - loss: 0.5550 - val_accuracy: 0.6875 - val_loss: 0.5578\n",
      "Epoch 82/1000\n",
      "\u001b[1m9/9\u001b[0m \u001b[32m━━━━━━━━━━━━━━━━━━━━\u001b[0m\u001b[37m\u001b[0m \u001b[1m0s\u001b[0m 15ms/step - accuracy: 0.7950 - loss: 0.5776 - val_accuracy: 0.6875 - val_loss: 0.5550\n",
      "Epoch 83/1000\n",
      "\u001b[1m9/9\u001b[0m \u001b[32m━━━━━━━━━━━━━━━━━━━━\u001b[0m\u001b[37m\u001b[0m \u001b[1m0s\u001b[0m 17ms/step - accuracy: 0.7484 - loss: 0.5980 - val_accuracy: 0.6875 - val_loss: 0.5543\n",
      "Epoch 84/1000\n",
      "\u001b[1m9/9\u001b[0m \u001b[32m━━━━━━━━━━━━━━━━━━━━\u001b[0m\u001b[37m\u001b[0m \u001b[1m0s\u001b[0m 15ms/step - accuracy: 0.7772 - loss: 0.5515 - val_accuracy: 0.6875 - val_loss: 0.5526\n",
      "Epoch 85/1000\n",
      "\u001b[1m9/9\u001b[0m \u001b[32m━━━━━━━━━━━━━━━━━━━━\u001b[0m\u001b[37m\u001b[0m \u001b[1m0s\u001b[0m 16ms/step - accuracy: 0.7809 - loss: 0.5583 - val_accuracy: 0.6875 - val_loss: 0.5496\n",
      "Epoch 86/1000\n",
      "\u001b[1m9/9\u001b[0m \u001b[32m━━━━━━━━━━━━━━━━━━━━\u001b[0m\u001b[37m\u001b[0m \u001b[1m0s\u001b[0m 15ms/step - accuracy: 0.7403 - loss: 0.5917 - val_accuracy: 0.6875 - val_loss: 0.5487\n",
      "Epoch 87/1000\n",
      "\u001b[1m9/9\u001b[0m \u001b[32m━━━━━━━━━━━━━━━━━━━━\u001b[0m\u001b[37m\u001b[0m \u001b[1m0s\u001b[0m 15ms/step - accuracy: 0.7735 - loss: 0.5445 - val_accuracy: 0.6875 - val_loss: 0.5472\n",
      "Epoch 88/1000\n",
      "\u001b[1m9/9\u001b[0m \u001b[32m━━━━━━━━━━━━━━━━━━━━\u001b[0m\u001b[37m\u001b[0m \u001b[1m0s\u001b[0m 15ms/step - accuracy: 0.7903 - loss: 0.5264 - val_accuracy: 0.6875 - val_loss: 0.5441\n",
      "Epoch 89/1000\n",
      "\u001b[1m9/9\u001b[0m \u001b[32m━━━━━━━━━━━━━━━━━━━━\u001b[0m\u001b[37m\u001b[0m \u001b[1m0s\u001b[0m 22ms/step - accuracy: 0.7973 - loss: 0.5702 - val_accuracy: 0.6875 - val_loss: 0.5429\n",
      "Epoch 90/1000\n",
      "\u001b[1m9/9\u001b[0m \u001b[32m━━━━━━━━━━━━━━━━━━━━\u001b[0m\u001b[37m\u001b[0m \u001b[1m0s\u001b[0m 16ms/step - accuracy: 0.7776 - loss: 0.5719 - val_accuracy: 0.6875 - val_loss: 0.5410\n",
      "Epoch 91/1000\n",
      "\u001b[1m9/9\u001b[0m \u001b[32m━━━━━━━━━━━━━━━━━━━━\u001b[0m\u001b[37m\u001b[0m \u001b[1m0s\u001b[0m 15ms/step - accuracy: 0.7845 - loss: 0.5220 - val_accuracy: 0.6875 - val_loss: 0.5395\n",
      "Epoch 92/1000\n",
      "\u001b[1m9/9\u001b[0m \u001b[32m━━━━━━━━━━━━━━━━━━━━\u001b[0m\u001b[37m\u001b[0m \u001b[1m0s\u001b[0m 13ms/step - accuracy: 0.8089 - loss: 0.5217 - val_accuracy: 0.6875 - val_loss: 0.5387\n",
      "Epoch 93/1000\n",
      "\u001b[1m9/9\u001b[0m \u001b[32m━━━━━━━━━━━━━━━━━━━━\u001b[0m\u001b[37m\u001b[0m \u001b[1m0s\u001b[0m 15ms/step - accuracy: 0.7705 - loss: 0.5319 - val_accuracy: 0.6875 - val_loss: 0.5370\n",
      "Epoch 94/1000\n",
      "\u001b[1m9/9\u001b[0m \u001b[32m━━━━━━━━━━━━━━━━━━━━\u001b[0m\u001b[37m\u001b[0m \u001b[1m0s\u001b[0m 15ms/step - accuracy: 0.7908 - loss: 0.5513 - val_accuracy: 0.6875 - val_loss: 0.5362\n",
      "Epoch 95/1000\n",
      "\u001b[1m9/9\u001b[0m \u001b[32m━━━━━━━━━━━━━━━━━━━━\u001b[0m\u001b[37m\u001b[0m \u001b[1m0s\u001b[0m 15ms/step - accuracy: 0.8026 - loss: 0.5040 - val_accuracy: 0.6875 - val_loss: 0.5340\n",
      "Epoch 96/1000\n",
      "\u001b[1m9/9\u001b[0m \u001b[32m━━━━━━━━━━━━━━━━━━━━\u001b[0m\u001b[37m\u001b[0m \u001b[1m0s\u001b[0m 14ms/step - accuracy: 0.7525 - loss: 0.5497 - val_accuracy: 0.6875 - val_loss: 0.5316\n",
      "Epoch 97/1000\n",
      "\u001b[1m9/9\u001b[0m \u001b[32m━━━━━━━━━━━━━━━━━━━━\u001b[0m\u001b[37m\u001b[0m \u001b[1m0s\u001b[0m 14ms/step - accuracy: 0.8001 - loss: 0.5255 - val_accuracy: 0.6875 - val_loss: 0.5300\n",
      "Epoch 98/1000\n",
      "\u001b[1m9/9\u001b[0m \u001b[32m━━━━━━━━━━━━━━━━━━━━\u001b[0m\u001b[37m\u001b[0m \u001b[1m0s\u001b[0m 15ms/step - accuracy: 0.7853 - loss: 0.5531 - val_accuracy: 0.6875 - val_loss: 0.5290\n",
      "Epoch 99/1000\n",
      "\u001b[1m9/9\u001b[0m \u001b[32m━━━━━━━━━━━━━━━━━━━━\u001b[0m\u001b[37m\u001b[0m \u001b[1m0s\u001b[0m 15ms/step - accuracy: 0.7861 - loss: 0.5247 - val_accuracy: 0.6875 - val_loss: 0.5263\n",
      "Epoch 100/1000\n",
      "\u001b[1m9/9\u001b[0m \u001b[32m━━━━━━━━━━━━━━━━━━━━\u001b[0m\u001b[37m\u001b[0m \u001b[1m0s\u001b[0m 16ms/step - accuracy: 0.7828 - loss: 0.5477 - val_accuracy: 0.6875 - val_loss: 0.5256\n",
      "Epoch 101/1000\n",
      "\u001b[1m9/9\u001b[0m \u001b[32m━━━━━━━━━━━━━━━━━━━━\u001b[0m\u001b[37m\u001b[0m \u001b[1m0s\u001b[0m 15ms/step - accuracy: 0.7989 - loss: 0.5154 - val_accuracy: 0.6875 - val_loss: 0.5247\n",
      "Epoch 102/1000\n",
      "\u001b[1m9/9\u001b[0m \u001b[32m━━━━━━━━━━━━━━━━━━━━\u001b[0m\u001b[37m\u001b[0m \u001b[1m0s\u001b[0m 14ms/step - accuracy: 0.7873 - loss: 0.5194 - val_accuracy: 0.6875 - val_loss: 0.5228\n",
      "Epoch 103/1000\n",
      "\u001b[1m9/9\u001b[0m \u001b[32m━━━━━━━━━━━━━━━━━━━━\u001b[0m\u001b[37m\u001b[0m \u001b[1m0s\u001b[0m 15ms/step - accuracy: 0.7809 - loss: 0.5559 - val_accuracy: 0.6875 - val_loss: 0.5210\n",
      "Epoch 104/1000\n",
      "\u001b[1m9/9\u001b[0m \u001b[32m━━━━━━━━━━━━━━━━━━━━\u001b[0m\u001b[37m\u001b[0m \u001b[1m0s\u001b[0m 15ms/step - accuracy: 0.7690 - loss: 0.5259 - val_accuracy: 0.6875 - val_loss: 0.5194\n",
      "Epoch 105/1000\n",
      "\u001b[1m9/9\u001b[0m \u001b[32m━━━━━━━━━━━━━━━━━━━━\u001b[0m\u001b[37m\u001b[0m \u001b[1m0s\u001b[0m 15ms/step - accuracy: 0.8025 - loss: 0.4927 - val_accuracy: 0.6875 - val_loss: 0.5187\n",
      "Epoch 106/1000\n",
      "\u001b[1m9/9\u001b[0m \u001b[32m━━━━━━━━━━━━━━━━━━━━\u001b[0m\u001b[37m\u001b[0m \u001b[1m0s\u001b[0m 15ms/step - accuracy: 0.8028 - loss: 0.4989 - val_accuracy: 0.6875 - val_loss: 0.5180\n",
      "Epoch 107/1000\n",
      "\u001b[1m9/9\u001b[0m \u001b[32m━━━━━━━━━━━━━━━━━━━━\u001b[0m\u001b[37m\u001b[0m \u001b[1m0s\u001b[0m 14ms/step - accuracy: 0.7735 - loss: 0.5080 - val_accuracy: 0.6875 - val_loss: 0.5152\n",
      "Epoch 108/1000\n",
      "\u001b[1m9/9\u001b[0m \u001b[32m━━━━━━━━━━━━━━━━━━━━\u001b[0m\u001b[37m\u001b[0m \u001b[1m0s\u001b[0m 15ms/step - accuracy: 0.7736 - loss: 0.5023 - val_accuracy: 0.6875 - val_loss: 0.5144\n",
      "Epoch 109/1000\n",
      "\u001b[1m9/9\u001b[0m \u001b[32m━━━━━━━━━━━━━━━━━━━━\u001b[0m\u001b[37m\u001b[0m \u001b[1m0s\u001b[0m 17ms/step - accuracy: 0.7556 - loss: 0.5385 - val_accuracy: 0.6875 - val_loss: 0.5126\n",
      "Epoch 110/1000\n",
      "\u001b[1m9/9\u001b[0m \u001b[32m━━━━━━━━━━━━━━━━━━━━\u001b[0m\u001b[37m\u001b[0m \u001b[1m0s\u001b[0m 15ms/step - accuracy: 0.8157 - loss: 0.4821 - val_accuracy: 0.6875 - val_loss: 0.5129\n",
      "Epoch 111/1000\n",
      "\u001b[1m9/9\u001b[0m \u001b[32m━━━━━━━━━━━━━━━━━━━━\u001b[0m\u001b[37m\u001b[0m \u001b[1m0s\u001b[0m 15ms/step - accuracy: 0.8024 - loss: 0.5059 - val_accuracy: 0.6875 - val_loss: 0.5107\n",
      "Epoch 112/1000\n",
      "\u001b[1m9/9\u001b[0m \u001b[32m━━━━━━━━━━━━━━━━━━━━\u001b[0m\u001b[37m\u001b[0m \u001b[1m0s\u001b[0m 17ms/step - accuracy: 0.7602 - loss: 0.5474 - val_accuracy: 0.6875 - val_loss: 0.5099\n",
      "Epoch 113/1000\n",
      "\u001b[1m9/9\u001b[0m \u001b[32m━━━━━━━━━━━━━━━━━━━━\u001b[0m\u001b[37m\u001b[0m \u001b[1m0s\u001b[0m 13ms/step - accuracy: 0.7865 - loss: 0.4974 - val_accuracy: 0.6875 - val_loss: 0.5080\n",
      "Epoch 114/1000\n",
      "\u001b[1m9/9\u001b[0m \u001b[32m━━━━━━━━━━━━━━━━━━━━\u001b[0m\u001b[37m\u001b[0m \u001b[1m0s\u001b[0m 15ms/step - accuracy: 0.7623 - loss: 0.5207 - val_accuracy: 0.6875 - val_loss: 0.5069\n",
      "Epoch 115/1000\n",
      "\u001b[1m9/9\u001b[0m \u001b[32m━━━━━━━━━━━━━━━━━━━━\u001b[0m\u001b[37m\u001b[0m \u001b[1m0s\u001b[0m 15ms/step - accuracy: 0.8136 - loss: 0.4769 - val_accuracy: 0.6875 - val_loss: 0.5051\n",
      "Epoch 116/1000\n",
      "\u001b[1m9/9\u001b[0m \u001b[32m━━━━━━━━━━━━━━━━━━━━\u001b[0m\u001b[37m\u001b[0m \u001b[1m0s\u001b[0m 17ms/step - accuracy: 0.7643 - loss: 0.5257 - val_accuracy: 0.6875 - val_loss: 0.5045\n",
      "Epoch 117/1000\n",
      "\u001b[1m9/9\u001b[0m \u001b[32m━━━━━━━━━━━━━━━━━━━━\u001b[0m\u001b[37m\u001b[0m \u001b[1m0s\u001b[0m 15ms/step - accuracy: 0.7827 - loss: 0.5485 - val_accuracy: 0.6875 - val_loss: 0.5032\n",
      "Epoch 118/1000\n",
      "\u001b[1m9/9\u001b[0m \u001b[32m━━━━━━━━━━━━━━━━━━━━\u001b[0m\u001b[37m\u001b[0m \u001b[1m0s\u001b[0m 13ms/step - accuracy: 0.7677 - loss: 0.5239 - val_accuracy: 0.6875 - val_loss: 0.5027\n",
      "Epoch 119/1000\n",
      "\u001b[1m9/9\u001b[0m \u001b[32m━━━━━━━━━━━━━━━━━━━━\u001b[0m\u001b[37m\u001b[0m \u001b[1m0s\u001b[0m 15ms/step - accuracy: 0.8042 - loss: 0.4991 - val_accuracy: 0.6875 - val_loss: 0.5018\n",
      "Epoch 120/1000\n",
      "\u001b[1m9/9\u001b[0m \u001b[32m━━━━━━━━━━━━━━━━━━━━\u001b[0m\u001b[37m\u001b[0m \u001b[1m0s\u001b[0m 17ms/step - accuracy: 0.7787 - loss: 0.5210 - val_accuracy: 0.6875 - val_loss: 0.4997\n",
      "Epoch 121/1000\n",
      "\u001b[1m9/9\u001b[0m \u001b[32m━━━━━━━━━━━━━━━━━━━━\u001b[0m\u001b[37m\u001b[0m \u001b[1m0s\u001b[0m 16ms/step - accuracy: 0.7950 - loss: 0.5012 - val_accuracy: 0.6875 - val_loss: 0.4990\n",
      "Epoch 122/1000\n",
      "\u001b[1m9/9\u001b[0m \u001b[32m━━━━━━━━━━━━━━━━━━━━\u001b[0m\u001b[37m\u001b[0m \u001b[1m0s\u001b[0m 14ms/step - accuracy: 0.8100 - loss: 0.5096 - val_accuracy: 0.6875 - val_loss: 0.4978\n",
      "Epoch 123/1000\n",
      "\u001b[1m9/9\u001b[0m \u001b[32m━━━━━━━━━━━━━━━━━━━━\u001b[0m\u001b[37m\u001b[0m \u001b[1m0s\u001b[0m 14ms/step - accuracy: 0.7724 - loss: 0.5183 - val_accuracy: 0.6875 - val_loss: 0.4979\n",
      "Epoch 124/1000\n",
      "\u001b[1m9/9\u001b[0m \u001b[32m━━━━━━━━━━━━━━━━━━━━\u001b[0m\u001b[37m\u001b[0m \u001b[1m0s\u001b[0m 16ms/step - accuracy: 0.7977 - loss: 0.5152 - val_accuracy: 0.6875 - val_loss: 0.4965\n",
      "Epoch 125/1000\n",
      "\u001b[1m9/9\u001b[0m \u001b[32m━━━━━━━━━━━━━━━━━━━━\u001b[0m\u001b[37m\u001b[0m \u001b[1m0s\u001b[0m 15ms/step - accuracy: 0.7647 - loss: 0.5043 - val_accuracy: 0.6875 - val_loss: 0.4945\n",
      "Epoch 126/1000\n",
      "\u001b[1m9/9\u001b[0m \u001b[32m━━━━━━━━━━━━━━━━━━━━\u001b[0m\u001b[37m\u001b[0m \u001b[1m0s\u001b[0m 12ms/step - accuracy: 0.7748 - loss: 0.4616 - val_accuracy: 0.6875 - val_loss: 0.4923\n",
      "Epoch 127/1000\n",
      "\u001b[1m9/9\u001b[0m \u001b[32m━━━━━━━━━━━━━━━━━━━━\u001b[0m\u001b[37m\u001b[0m \u001b[1m0s\u001b[0m 14ms/step - accuracy: 0.7927 - loss: 0.4728 - val_accuracy: 0.6875 - val_loss: 0.4913\n",
      "Epoch 128/1000\n",
      "\u001b[1m9/9\u001b[0m \u001b[32m━━━━━━━━━━━━━━━━━━━━\u001b[0m\u001b[37m\u001b[0m \u001b[1m0s\u001b[0m 14ms/step - accuracy: 0.7807 - loss: 0.4854 - val_accuracy: 0.6875 - val_loss: 0.4916\n",
      "Epoch 129/1000\n",
      "\u001b[1m9/9\u001b[0m \u001b[32m━━━━━━━━━━━━━━━━━━━━\u001b[0m\u001b[37m\u001b[0m \u001b[1m0s\u001b[0m 20ms/step - accuracy: 0.7912 - loss: 0.5362 - val_accuracy: 0.6875 - val_loss: 0.4907\n",
      "Epoch 130/1000\n",
      "\u001b[1m9/9\u001b[0m \u001b[32m━━━━━━━━━━━━━━━━━━━━\u001b[0m\u001b[37m\u001b[0m \u001b[1m0s\u001b[0m 14ms/step - accuracy: 0.7435 - loss: 0.5388 - val_accuracy: 0.6875 - val_loss: 0.4889\n",
      "Epoch 131/1000\n",
      "\u001b[1m9/9\u001b[0m \u001b[32m━━━━━━━━━━━━━━━━━━━━\u001b[0m\u001b[37m\u001b[0m \u001b[1m0s\u001b[0m 15ms/step - accuracy: 0.8195 - loss: 0.4471 - val_accuracy: 0.6875 - val_loss: 0.4892\n",
      "Epoch 132/1000\n",
      "\u001b[1m9/9\u001b[0m \u001b[32m━━━━━━━━━━━━━━━━━━━━\u001b[0m\u001b[37m\u001b[0m \u001b[1m0s\u001b[0m 14ms/step - accuracy: 0.7689 - loss: 0.4840 - val_accuracy: 0.6875 - val_loss: 0.4875\n",
      "Epoch 133/1000\n",
      "\u001b[1m9/9\u001b[0m \u001b[32m━━━━━━━━━━━━━━━━━━━━\u001b[0m\u001b[37m\u001b[0m \u001b[1m0s\u001b[0m 15ms/step - accuracy: 0.7929 - loss: 0.4783 - val_accuracy: 0.6875 - val_loss: 0.4853\n",
      "Epoch 134/1000\n",
      "\u001b[1m9/9\u001b[0m \u001b[32m━━━━━━━━━━━━━━━━━━━━\u001b[0m\u001b[37m\u001b[0m \u001b[1m0s\u001b[0m 12ms/step - accuracy: 0.8051 - loss: 0.4401 - val_accuracy: 0.6875 - val_loss: 0.4848\n",
      "Epoch 135/1000\n",
      "\u001b[1m9/9\u001b[0m \u001b[32m━━━━━━━━━━━━━━━━━━━━\u001b[0m\u001b[37m\u001b[0m \u001b[1m0s\u001b[0m 15ms/step - accuracy: 0.7905 - loss: 0.5030 - val_accuracy: 0.6875 - val_loss: 0.4845\n",
      "Epoch 136/1000\n",
      "\u001b[1m9/9\u001b[0m \u001b[32m━━━━━━━━━━━━━━━━━━━━\u001b[0m\u001b[37m\u001b[0m \u001b[1m0s\u001b[0m 17ms/step - accuracy: 0.7686 - loss: 0.4870 - val_accuracy: 0.6875 - val_loss: 0.4831\n",
      "Epoch 137/1000\n",
      "\u001b[1m9/9\u001b[0m \u001b[32m━━━━━━━━━━━━━━━━━━━━\u001b[0m\u001b[37m\u001b[0m \u001b[1m0s\u001b[0m 15ms/step - accuracy: 0.7616 - loss: 0.5097 - val_accuracy: 0.6875 - val_loss: 0.4825\n",
      "Epoch 138/1000\n",
      "\u001b[1m9/9\u001b[0m \u001b[32m━━━━━━━━━━━━━━━━━━━━\u001b[0m\u001b[37m\u001b[0m \u001b[1m0s\u001b[0m 17ms/step - accuracy: 0.7587 - loss: 0.4860 - val_accuracy: 0.6875 - val_loss: 0.4819\n",
      "Epoch 139/1000\n",
      "\u001b[1m9/9\u001b[0m \u001b[32m━━━━━━━━━━━━━━━━━━━━\u001b[0m\u001b[37m\u001b[0m \u001b[1m0s\u001b[0m 14ms/step - accuracy: 0.7622 - loss: 0.4808 - val_accuracy: 0.6875 - val_loss: 0.4818\n",
      "Epoch 140/1000\n",
      "\u001b[1m9/9\u001b[0m \u001b[32m━━━━━━━━━━━━━━━━━━━━\u001b[0m\u001b[37m\u001b[0m \u001b[1m0s\u001b[0m 15ms/step - accuracy: 0.8041 - loss: 0.4640 - val_accuracy: 0.6875 - val_loss: 0.4797\n",
      "Epoch 141/1000\n",
      "\u001b[1m9/9\u001b[0m \u001b[32m━━━━━━━━━━━━━━━━━━━━\u001b[0m\u001b[37m\u001b[0m \u001b[1m0s\u001b[0m 16ms/step - accuracy: 0.7778 - loss: 0.4929 - val_accuracy: 0.6875 - val_loss: 0.4791\n",
      "Epoch 142/1000\n",
      "\u001b[1m9/9\u001b[0m \u001b[32m━━━━━━━━━━━━━━━━━━━━\u001b[0m\u001b[37m\u001b[0m \u001b[1m0s\u001b[0m 15ms/step - accuracy: 0.8043 - loss: 0.4882 - val_accuracy: 0.6875 - val_loss: 0.4790\n",
      "Epoch 143/1000\n",
      "\u001b[1m9/9\u001b[0m \u001b[32m━━━━━━━━━━━━━━━━━━━━\u001b[0m\u001b[37m\u001b[0m \u001b[1m0s\u001b[0m 16ms/step - accuracy: 0.7905 - loss: 0.4771 - val_accuracy: 0.6875 - val_loss: 0.4771\n",
      "Epoch 144/1000\n",
      "\u001b[1m9/9\u001b[0m \u001b[32m━━━━━━━━━━━━━━━━━━━━\u001b[0m\u001b[37m\u001b[0m \u001b[1m0s\u001b[0m 16ms/step - accuracy: 0.7809 - loss: 0.4757 - val_accuracy: 0.6875 - val_loss: 0.4764\n",
      "Epoch 145/1000\n",
      "\u001b[1m9/9\u001b[0m \u001b[32m━━━━━━━━━━━━━━━━━━━━\u001b[0m\u001b[37m\u001b[0m \u001b[1m0s\u001b[0m 15ms/step - accuracy: 0.7845 - loss: 0.5051 - val_accuracy: 0.6875 - val_loss: 0.4751\n",
      "Epoch 146/1000\n",
      "\u001b[1m9/9\u001b[0m \u001b[32m━━━━━━━━━━━━━━━━━━━━\u001b[0m\u001b[37m\u001b[0m \u001b[1m0s\u001b[0m 20ms/step - accuracy: 0.7925 - loss: 0.4792 - val_accuracy: 0.6875 - val_loss: 0.4749\n",
      "Epoch 147/1000\n",
      "\u001b[1m9/9\u001b[0m \u001b[32m━━━━━━━━━━━━━━━━━━━━\u001b[0m\u001b[37m\u001b[0m \u001b[1m0s\u001b[0m 17ms/step - accuracy: 0.8083 - loss: 0.4542 - val_accuracy: 0.6875 - val_loss: 0.4745\n",
      "Epoch 148/1000\n",
      "\u001b[1m9/9\u001b[0m \u001b[32m━━━━━━━━━━━━━━━━━━━━\u001b[0m\u001b[37m\u001b[0m \u001b[1m0s\u001b[0m 18ms/step - accuracy: 0.7621 - loss: 0.4839 - val_accuracy: 0.6875 - val_loss: 0.4723\n",
      "Epoch 149/1000\n",
      "\u001b[1m9/9\u001b[0m \u001b[32m━━━━━━━━━━━━━━━━━━━━\u001b[0m\u001b[37m\u001b[0m \u001b[1m0s\u001b[0m 14ms/step - accuracy: 0.8085 - loss: 0.4421 - val_accuracy: 0.6875 - val_loss: 0.4716\n",
      "Epoch 150/1000\n",
      "\u001b[1m9/9\u001b[0m \u001b[32m━━━━━━━━━━━━━━━━━━━━\u001b[0m\u001b[37m\u001b[0m \u001b[1m0s\u001b[0m 16ms/step - accuracy: 0.7910 - loss: 0.4756 - val_accuracy: 0.6875 - val_loss: 0.4717\n",
      "Epoch 151/1000\n",
      "\u001b[1m9/9\u001b[0m \u001b[32m━━━━━━━━━━━━━━━━━━━━\u001b[0m\u001b[37m\u001b[0m \u001b[1m0s\u001b[0m 16ms/step - accuracy: 0.7929 - loss: 0.4673 - val_accuracy: 0.6875 - val_loss: 0.4711\n",
      "Epoch 152/1000\n",
      "\u001b[1m9/9\u001b[0m \u001b[32m━━━━━━━━━━━━━━━━━━━━\u001b[0m\u001b[37m\u001b[0m \u001b[1m0s\u001b[0m 17ms/step - accuracy: 0.7865 - loss: 0.4709 - val_accuracy: 0.6875 - val_loss: 0.4694\n",
      "Epoch 153/1000\n",
      "\u001b[1m9/9\u001b[0m \u001b[32m━━━━━━━━━━━━━━━━━━━━\u001b[0m\u001b[37m\u001b[0m \u001b[1m0s\u001b[0m 17ms/step - accuracy: 0.7750 - loss: 0.4831 - val_accuracy: 0.6875 - val_loss: 0.4686\n",
      "Epoch 154/1000\n",
      "\u001b[1m9/9\u001b[0m \u001b[32m━━━━━━━━━━━━━━━━━━━━\u001b[0m\u001b[37m\u001b[0m \u001b[1m0s\u001b[0m 17ms/step - accuracy: 0.8018 - loss: 0.4918 - val_accuracy: 0.6875 - val_loss: 0.4678\n",
      "Epoch 155/1000\n",
      "\u001b[1m9/9\u001b[0m \u001b[32m━━━━━━━━━━━━━━━━━━━━\u001b[0m\u001b[37m\u001b[0m \u001b[1m0s\u001b[0m 19ms/step - accuracy: 0.8193 - loss: 0.4454 - val_accuracy: 0.6875 - val_loss: 0.4690\n",
      "Epoch 156/1000\n",
      "\u001b[1m9/9\u001b[0m \u001b[32m━━━━━━━━━━━━━━━━━━━━\u001b[0m\u001b[37m\u001b[0m \u001b[1m0s\u001b[0m 16ms/step - accuracy: 0.7696 - loss: 0.5103 - val_accuracy: 0.6875 - val_loss: 0.4676\n",
      "Epoch 157/1000\n",
      "\u001b[1m9/9\u001b[0m \u001b[32m━━━━━━━━━━━━━━━━━━━━\u001b[0m\u001b[37m\u001b[0m \u001b[1m0s\u001b[0m 15ms/step - accuracy: 0.8244 - loss: 0.4483 - val_accuracy: 0.6875 - val_loss: 0.4670\n",
      "Epoch 158/1000\n",
      "\u001b[1m9/9\u001b[0m \u001b[32m━━━━━━━━━━━━━━━━━━━━\u001b[0m\u001b[37m\u001b[0m \u001b[1m0s\u001b[0m 16ms/step - accuracy: 0.7732 - loss: 0.4414 - val_accuracy: 0.6875 - val_loss: 0.4648\n",
      "Epoch 159/1000\n",
      "\u001b[1m9/9\u001b[0m \u001b[32m━━━━━━━━━━━━━━━━━━━━\u001b[0m\u001b[37m\u001b[0m \u001b[1m0s\u001b[0m 15ms/step - accuracy: 0.7931 - loss: 0.4576 - val_accuracy: 0.6875 - val_loss: 0.4631\n",
      "Epoch 160/1000\n",
      "\u001b[1m9/9\u001b[0m \u001b[32m━━━━━━━━━━━━━━━━━━━━\u001b[0m\u001b[37m\u001b[0m \u001b[1m0s\u001b[0m 15ms/step - accuracy: 0.8177 - loss: 0.4329 - val_accuracy: 0.6875 - val_loss: 0.4629\n",
      "Epoch 161/1000\n",
      "\u001b[1m9/9\u001b[0m \u001b[32m━━━━━━━━━━━━━━━━━━━━\u001b[0m\u001b[37m\u001b[0m \u001b[1m0s\u001b[0m 17ms/step - accuracy: 0.7502 - loss: 0.4998 - val_accuracy: 0.6875 - val_loss: 0.4614\n",
      "Epoch 162/1000\n",
      "\u001b[1m9/9\u001b[0m \u001b[32m━━━━━━━━━━━━━━━━━━━━\u001b[0m\u001b[37m\u001b[0m \u001b[1m0s\u001b[0m 16ms/step - accuracy: 0.7912 - loss: 0.4931 - val_accuracy: 0.6875 - val_loss: 0.4621\n",
      "Epoch 163/1000\n",
      "\u001b[1m9/9\u001b[0m \u001b[32m━━━━━━━━━━━━━━━━━━━━\u001b[0m\u001b[37m\u001b[0m \u001b[1m0s\u001b[0m 17ms/step - accuracy: 0.7949 - loss: 0.4720 - val_accuracy: 0.6875 - val_loss: 0.4612\n",
      "Epoch 164/1000\n",
      "\u001b[1m9/9\u001b[0m \u001b[32m━━━━━━━━━━━━━━━━━━━━\u001b[0m\u001b[37m\u001b[0m \u001b[1m0s\u001b[0m 23ms/step - accuracy: 0.7914 - loss: 0.4648 - val_accuracy: 0.6875 - val_loss: 0.4606\n",
      "Epoch 165/1000\n",
      "\u001b[1m9/9\u001b[0m \u001b[32m━━━━━━━━━━━━━━━━━━━━\u001b[0m\u001b[37m\u001b[0m \u001b[1m0s\u001b[0m 17ms/step - accuracy: 0.8039 - loss: 0.4368 - val_accuracy: 0.6875 - val_loss: 0.4600\n",
      "Epoch 166/1000\n",
      "\u001b[1m9/9\u001b[0m \u001b[32m━━━━━━━━━━━━━━━━━━━━\u001b[0m\u001b[37m\u001b[0m \u001b[1m0s\u001b[0m 16ms/step - accuracy: 0.7983 - loss: 0.4573 - val_accuracy: 0.6875 - val_loss: 0.4589\n",
      "Epoch 167/1000\n",
      "\u001b[1m9/9\u001b[0m \u001b[32m━━━━━━━━━━━━━━━━━━━━\u001b[0m\u001b[37m\u001b[0m \u001b[1m0s\u001b[0m 14ms/step - accuracy: 0.8061 - loss: 0.4475 - val_accuracy: 0.6875 - val_loss: 0.4600\n",
      "Epoch 168/1000\n",
      "\u001b[1m9/9\u001b[0m \u001b[32m━━━━━━━━━━━━━━━━━━━━\u001b[0m\u001b[37m\u001b[0m \u001b[1m0s\u001b[0m 15ms/step - accuracy: 0.8242 - loss: 0.4472 - val_accuracy: 0.6875 - val_loss: 0.4595\n",
      "Epoch 169/1000\n",
      "\u001b[1m9/9\u001b[0m \u001b[32m━━━━━━━━━━━━━━━━━━━━\u001b[0m\u001b[37m\u001b[0m \u001b[1m0s\u001b[0m 17ms/step - accuracy: 0.7879 - loss: 0.4972 - val_accuracy: 0.6875 - val_loss: 0.4577\n",
      "Epoch 170/1000\n",
      "\u001b[1m9/9\u001b[0m \u001b[32m━━━━━━━━━━━━━━━━━━━━\u001b[0m\u001b[37m\u001b[0m \u001b[1m0s\u001b[0m 17ms/step - accuracy: 0.7679 - loss: 0.4589 - val_accuracy: 0.6875 - val_loss: 0.4552\n",
      "Epoch 171/1000\n",
      "\u001b[1m9/9\u001b[0m \u001b[32m━━━━━━━━━━━━━━━━━━━━\u001b[0m\u001b[37m\u001b[0m \u001b[1m0s\u001b[0m 15ms/step - accuracy: 0.7606 - loss: 0.4776 - val_accuracy: 0.6875 - val_loss: 0.4546\n",
      "Epoch 172/1000\n",
      "\u001b[1m9/9\u001b[0m \u001b[32m━━━━━━━━━━━━━━━━━━━━\u001b[0m\u001b[37m\u001b[0m \u001b[1m0s\u001b[0m 15ms/step - accuracy: 0.7886 - loss: 0.4443 - val_accuracy: 0.6875 - val_loss: 0.4546\n",
      "Epoch 173/1000\n",
      "\u001b[1m9/9\u001b[0m \u001b[32m━━━━━━━━━━━━━━━━━━━━\u001b[0m\u001b[37m\u001b[0m \u001b[1m0s\u001b[0m 15ms/step - accuracy: 0.7612 - loss: 0.4518 - val_accuracy: 0.6875 - val_loss: 0.4537\n",
      "Epoch 174/1000\n",
      "\u001b[1m9/9\u001b[0m \u001b[32m━━━━━━━━━━━━━━━━━━━━\u001b[0m\u001b[37m\u001b[0m \u001b[1m0s\u001b[0m 15ms/step - accuracy: 0.7794 - loss: 0.4606 - val_accuracy: 0.6875 - val_loss: 0.4533\n",
      "Epoch 175/1000\n",
      "\u001b[1m9/9\u001b[0m \u001b[32m━━━━━━━━━━━━━━━━━━━━\u001b[0m\u001b[37m\u001b[0m \u001b[1m0s\u001b[0m 15ms/step - accuracy: 0.7860 - loss: 0.4536 - val_accuracy: 0.6875 - val_loss: 0.4534\n",
      "Epoch 176/1000\n",
      "\u001b[1m9/9\u001b[0m \u001b[32m━━━━━━━━━━━━━━━━━━━━\u001b[0m\u001b[37m\u001b[0m \u001b[1m0s\u001b[0m 15ms/step - accuracy: 0.7600 - loss: 0.4954 - val_accuracy: 0.6875 - val_loss: 0.4524\n",
      "Epoch 177/1000\n",
      "\u001b[1m9/9\u001b[0m \u001b[32m━━━━━━━━━━━━━━━━━━━━\u001b[0m\u001b[37m\u001b[0m \u001b[1m0s\u001b[0m 15ms/step - accuracy: 0.7810 - loss: 0.4674 - val_accuracy: 0.6875 - val_loss: 0.4529\n",
      "Epoch 178/1000\n",
      "\u001b[1m9/9\u001b[0m \u001b[32m━━━━━━━━━━━━━━━━━━━━\u001b[0m\u001b[37m\u001b[0m \u001b[1m0s\u001b[0m 14ms/step - accuracy: 0.7893 - loss: 0.4525 - val_accuracy: 0.6875 - val_loss: 0.4520\n",
      "Epoch 179/1000\n",
      "\u001b[1m9/9\u001b[0m \u001b[32m━━━━━━━━━━━━━━━━━━━━\u001b[0m\u001b[37m\u001b[0m \u001b[1m0s\u001b[0m 15ms/step - accuracy: 0.7781 - loss: 0.4577 - val_accuracy: 0.6875 - val_loss: 0.4495\n",
      "Epoch 180/1000\n",
      "\u001b[1m9/9\u001b[0m \u001b[32m━━━━━━━━━━━━━━━━━━━━\u001b[0m\u001b[37m\u001b[0m \u001b[1m0s\u001b[0m 15ms/step - accuracy: 0.8088 - loss: 0.4206 - val_accuracy: 0.6875 - val_loss: 0.4503\n",
      "Epoch 181/1000\n",
      "\u001b[1m9/9\u001b[0m \u001b[32m━━━━━━━━━━━━━━━━━━━━\u001b[0m\u001b[37m\u001b[0m \u001b[1m0s\u001b[0m 21ms/step - accuracy: 0.7871 - loss: 0.4503 - val_accuracy: 0.6875 - val_loss: 0.4485\n",
      "Epoch 182/1000\n",
      "\u001b[1m9/9\u001b[0m \u001b[32m━━━━━━━━━━━━━━━━━━━━\u001b[0m\u001b[37m\u001b[0m \u001b[1m0s\u001b[0m 15ms/step - accuracy: 0.7860 - loss: 0.4512 - val_accuracy: 0.6875 - val_loss: 0.4487\n",
      "Epoch 183/1000\n",
      "\u001b[1m9/9\u001b[0m \u001b[32m━━━━━━━━━━━━━━━━━━━━\u001b[0m\u001b[37m\u001b[0m \u001b[1m0s\u001b[0m 15ms/step - accuracy: 0.8077 - loss: 0.4342 - val_accuracy: 0.6875 - val_loss: 0.4482\n",
      "Epoch 184/1000\n",
      "\u001b[1m9/9\u001b[0m \u001b[32m━━━━━━━━━━━━━━━━━━━━\u001b[0m\u001b[37m\u001b[0m \u001b[1m0s\u001b[0m 15ms/step - accuracy: 0.7926 - loss: 0.4308 - val_accuracy: 0.6875 - val_loss: 0.4469\n",
      "Epoch 185/1000\n",
      "\u001b[1m9/9\u001b[0m \u001b[32m━━━━━━━━━━━━━━━━━━━━\u001b[0m\u001b[37m\u001b[0m \u001b[1m0s\u001b[0m 15ms/step - accuracy: 0.7720 - loss: 0.4347 - val_accuracy: 0.6875 - val_loss: 0.4458\n",
      "Epoch 186/1000\n",
      "\u001b[1m9/9\u001b[0m \u001b[32m━━━━━━━━━━━━━━━━━━━━\u001b[0m\u001b[37m\u001b[0m \u001b[1m0s\u001b[0m 12ms/step - accuracy: 0.7710 - loss: 0.4449 - val_accuracy: 0.6875 - val_loss: 0.4453\n",
      "Epoch 187/1000\n",
      "\u001b[1m9/9\u001b[0m \u001b[32m━━━━━━━━━━━━━━━━━━━━\u001b[0m\u001b[37m\u001b[0m \u001b[1m0s\u001b[0m 15ms/step - accuracy: 0.7573 - loss: 0.4641 - val_accuracy: 0.6875 - val_loss: 0.4456\n",
      "Epoch 188/1000\n",
      "\u001b[1m9/9\u001b[0m \u001b[32m━━━━━━━━━━━━━━━━━━━━\u001b[0m\u001b[37m\u001b[0m \u001b[1m0s\u001b[0m 12ms/step - accuracy: 0.7637 - loss: 0.4569 - val_accuracy: 0.6875 - val_loss: 0.4459\n",
      "Epoch 189/1000\n",
      "\u001b[1m9/9\u001b[0m \u001b[32m━━━━━━━━━━━━━━━━━━━━\u001b[0m\u001b[37m\u001b[0m \u001b[1m0s\u001b[0m 13ms/step - accuracy: 0.8025 - loss: 0.4399 - val_accuracy: 0.6875 - val_loss: 0.4449\n",
      "Epoch 190/1000\n",
      "\u001b[1m9/9\u001b[0m \u001b[32m━━━━━━━━━━━━━━━━━━━━\u001b[0m\u001b[37m\u001b[0m \u001b[1m0s\u001b[0m 15ms/step - accuracy: 0.7952 - loss: 0.4533 - val_accuracy: 0.6875 - val_loss: 0.4442\n",
      "Epoch 191/1000\n",
      "\u001b[1m9/9\u001b[0m \u001b[32m━━━━━━━━━━━━━━━━━━━━\u001b[0m\u001b[37m\u001b[0m \u001b[1m0s\u001b[0m 14ms/step - accuracy: 0.7966 - loss: 0.4362 - val_accuracy: 0.6875 - val_loss: 0.4428\n",
      "Epoch 192/1000\n",
      "\u001b[1m9/9\u001b[0m \u001b[32m━━━━━━━━━━━━━━━━━━━━\u001b[0m\u001b[37m\u001b[0m \u001b[1m0s\u001b[0m 12ms/step - accuracy: 0.8015 - loss: 0.4399 - val_accuracy: 0.6875 - val_loss: 0.4425\n",
      "Epoch 193/1000\n",
      "\u001b[1m9/9\u001b[0m \u001b[32m━━━━━━━━━━━━━━━━━━━━\u001b[0m\u001b[37m\u001b[0m \u001b[1m0s\u001b[0m 14ms/step - accuracy: 0.7988 - loss: 0.4577 - val_accuracy: 0.6875 - val_loss: 0.4430\n",
      "Epoch 194/1000\n",
      "\u001b[1m9/9\u001b[0m \u001b[32m━━━━━━━━━━━━━━━━━━━━\u001b[0m\u001b[37m\u001b[0m \u001b[1m0s\u001b[0m 13ms/step - accuracy: 0.7442 - loss: 0.4616 - val_accuracy: 0.6875 - val_loss: 0.4410\n",
      "Epoch 195/1000\n",
      "\u001b[1m9/9\u001b[0m \u001b[32m━━━━━━━━━━━━━━━━━━━━\u001b[0m\u001b[37m\u001b[0m \u001b[1m0s\u001b[0m 15ms/step - accuracy: 0.8052 - loss: 0.4522 - val_accuracy: 0.6875 - val_loss: 0.4410\n",
      "Epoch 196/1000\n",
      "\u001b[1m9/9\u001b[0m \u001b[32m━━━━━━━━━━━━━━━━━━━━\u001b[0m\u001b[37m\u001b[0m \u001b[1m0s\u001b[0m 15ms/step - accuracy: 0.7927 - loss: 0.4619 - val_accuracy: 0.6875 - val_loss: 0.4412\n",
      "Epoch 197/1000\n",
      "\u001b[1m9/9\u001b[0m \u001b[32m━━━━━━━━━━━━━━━━━━━━\u001b[0m\u001b[37m\u001b[0m \u001b[1m0s\u001b[0m 17ms/step - accuracy: 0.7684 - loss: 0.4736 - val_accuracy: 0.6875 - val_loss: 0.4400\n",
      "Epoch 198/1000\n",
      "\u001b[1m9/9\u001b[0m \u001b[32m━━━━━━━━━━━━━━━━━━━━\u001b[0m\u001b[37m\u001b[0m \u001b[1m0s\u001b[0m 14ms/step - accuracy: 0.7965 - loss: 0.4320 - val_accuracy: 0.6875 - val_loss: 0.4396\n",
      "Epoch 199/1000\n",
      "\u001b[1m9/9\u001b[0m \u001b[32m━━━━━━━━━━━━━━━━━━━━\u001b[0m\u001b[37m\u001b[0m \u001b[1m0s\u001b[0m 12ms/step - accuracy: 0.8195 - loss: 0.4272 - val_accuracy: 0.6875 - val_loss: 0.4388\n",
      "Epoch 200/1000\n",
      "\u001b[1m9/9\u001b[0m \u001b[32m━━━━━━━━━━━━━━━━━━━━\u001b[0m\u001b[37m\u001b[0m \u001b[1m0s\u001b[0m 14ms/step - accuracy: 0.8419 - loss: 0.4095 - val_accuracy: 0.6875 - val_loss: 0.4398\n",
      "Epoch 201/1000\n",
      "\u001b[1m9/9\u001b[0m \u001b[32m━━━━━━━━━━━━━━━━━━━━\u001b[0m\u001b[37m\u001b[0m \u001b[1m0s\u001b[0m 16ms/step - accuracy: 0.8104 - loss: 0.4176 - val_accuracy: 0.6875 - val_loss: 0.4386\n",
      "Epoch 202/1000\n",
      "\u001b[1m9/9\u001b[0m \u001b[32m━━━━━━━━━━━━━━━━━━━━\u001b[0m\u001b[37m\u001b[0m \u001b[1m0s\u001b[0m 15ms/step - accuracy: 0.7734 - loss: 0.4572 - val_accuracy: 0.6875 - val_loss: 0.4370\n",
      "Epoch 203/1000\n",
      "\u001b[1m9/9\u001b[0m \u001b[32m━━━━━━━━━━━━━━━━━━━━\u001b[0m\u001b[37m\u001b[0m \u001b[1m0s\u001b[0m 12ms/step - accuracy: 0.7513 - loss: 0.4886 - val_accuracy: 0.6875 - val_loss: 0.4363\n",
      "Epoch 204/1000\n",
      "\u001b[1m9/9\u001b[0m \u001b[32m━━━━━━━━━━━━━━━━━━━━\u001b[0m\u001b[37m\u001b[0m \u001b[1m0s\u001b[0m 14ms/step - accuracy: 0.7503 - loss: 0.4607 - val_accuracy: 0.6875 - val_loss: 0.4347\n",
      "Epoch 205/1000\n",
      "\u001b[1m9/9\u001b[0m \u001b[32m━━━━━━━━━━━━━━━━━━━━\u001b[0m\u001b[37m\u001b[0m \u001b[1m0s\u001b[0m 15ms/step - accuracy: 0.7835 - loss: 0.4367 - val_accuracy: 0.6875 - val_loss: 0.4359\n",
      "Epoch 206/1000\n",
      "\u001b[1m9/9\u001b[0m \u001b[32m━━━━━━━━━━━━━━━━━━━━\u001b[0m\u001b[37m\u001b[0m \u001b[1m0s\u001b[0m 13ms/step - accuracy: 0.7882 - loss: 0.4490 - val_accuracy: 0.6875 - val_loss: 0.4362\n",
      "Epoch 207/1000\n",
      "\u001b[1m9/9\u001b[0m \u001b[32m━━━━━━━━━━━━━━━━━━━━\u001b[0m\u001b[37m\u001b[0m \u001b[1m0s\u001b[0m 12ms/step - accuracy: 0.8028 - loss: 0.4420 - val_accuracy: 0.6875 - val_loss: 0.4352\n",
      "Epoch 208/1000\n",
      "\u001b[1m9/9\u001b[0m \u001b[32m━━━━━━━━━━━━━━━━━━━━\u001b[0m\u001b[37m\u001b[0m \u001b[1m0s\u001b[0m 14ms/step - accuracy: 0.7892 - loss: 0.4480 - val_accuracy: 0.6875 - val_loss: 0.4347\n",
      "Epoch 209/1000\n",
      "\u001b[1m9/9\u001b[0m \u001b[32m━━━━━━━━━━━━━━━━━━━━\u001b[0m\u001b[37m\u001b[0m \u001b[1m0s\u001b[0m 12ms/step - accuracy: 0.7550 - loss: 0.4649 - val_accuracy: 0.6875 - val_loss: 0.4328\n",
      "Epoch 210/1000\n",
      "\u001b[1m9/9\u001b[0m \u001b[32m━━━━━━━━━━━━━━━━━━━━\u001b[0m\u001b[37m\u001b[0m \u001b[1m0s\u001b[0m 15ms/step - accuracy: 0.7902 - loss: 0.4257 - val_accuracy: 0.6875 - val_loss: 0.4325\n",
      "Epoch 211/1000\n",
      "\u001b[1m9/9\u001b[0m \u001b[32m━━━━━━━━━━━━━━━━━━━━\u001b[0m\u001b[37m\u001b[0m \u001b[1m0s\u001b[0m 17ms/step - accuracy: 0.7886 - loss: 0.4172 - val_accuracy: 0.6875 - val_loss: 0.4324\n",
      "Epoch 212/1000\n",
      "\u001b[1m9/9\u001b[0m \u001b[32m━━━━━━━━━━━━━━━━━━━━\u001b[0m\u001b[37m\u001b[0m \u001b[1m0s\u001b[0m 15ms/step - accuracy: 0.7957 - loss: 0.4251 - val_accuracy: 0.6875 - val_loss: 0.4324\n",
      "Epoch 213/1000\n",
      "\u001b[1m9/9\u001b[0m \u001b[32m━━━━━━━━━━━━━━━━━━━━\u001b[0m\u001b[37m\u001b[0m \u001b[1m0s\u001b[0m 15ms/step - accuracy: 0.7861 - loss: 0.4623 - val_accuracy: 0.6875 - val_loss: 0.4322\n",
      "Epoch 214/1000\n",
      "\u001b[1m9/9\u001b[0m \u001b[32m━━━━━━━━━━━━━━━━━━━━\u001b[0m\u001b[37m\u001b[0m \u001b[1m0s\u001b[0m 14ms/step - accuracy: 0.7951 - loss: 0.4460 - val_accuracy: 0.6875 - val_loss: 0.4313\n",
      "Epoch 215/1000\n",
      "\u001b[1m9/9\u001b[0m \u001b[32m━━━━━━━━━━━━━━━━━━━━\u001b[0m\u001b[37m\u001b[0m \u001b[1m0s\u001b[0m 15ms/step - accuracy: 0.7992 - loss: 0.4268 - val_accuracy: 0.6875 - val_loss: 0.4302\n",
      "Epoch 216/1000\n",
      "\u001b[1m9/9\u001b[0m \u001b[32m━━━━━━━━━━━━━━━━━━━━\u001b[0m\u001b[37m\u001b[0m \u001b[1m0s\u001b[0m 13ms/step - accuracy: 0.7907 - loss: 0.4337 - val_accuracy: 0.6875 - val_loss: 0.4304\n",
      "Epoch 217/1000\n",
      "\u001b[1m9/9\u001b[0m \u001b[32m━━━━━━━━━━━━━━━━━━━━\u001b[0m\u001b[37m\u001b[0m \u001b[1m0s\u001b[0m 15ms/step - accuracy: 0.7786 - loss: 0.4518 - val_accuracy: 0.6875 - val_loss: 0.4292\n",
      "Epoch 218/1000\n",
      "\u001b[1m9/9\u001b[0m \u001b[32m━━━━━━━━━━━━━━━━━━━━\u001b[0m\u001b[37m\u001b[0m \u001b[1m0s\u001b[0m 13ms/step - accuracy: 0.7972 - loss: 0.4394 - val_accuracy: 0.6875 - val_loss: 0.4280\n",
      "Epoch 219/1000\n",
      "\u001b[1m9/9\u001b[0m \u001b[32m━━━━━━━━━━━━━━━━━━━━\u001b[0m\u001b[37m\u001b[0m \u001b[1m0s\u001b[0m 15ms/step - accuracy: 0.7859 - loss: 0.4361 - val_accuracy: 0.6875 - val_loss: 0.4282\n",
      "Epoch 220/1000\n",
      "\u001b[1m9/9\u001b[0m \u001b[32m━━━━━━━━━━━━━━━━━━━━\u001b[0m\u001b[37m\u001b[0m \u001b[1m0s\u001b[0m 13ms/step - accuracy: 0.7727 - loss: 0.4334 - val_accuracy: 0.6875 - val_loss: 0.4275\n",
      "Epoch 221/1000\n",
      "\u001b[1m9/9\u001b[0m \u001b[32m━━━━━━━━━━━━━━━━━━━━\u001b[0m\u001b[37m\u001b[0m \u001b[1m0s\u001b[0m 15ms/step - accuracy: 0.7929 - loss: 0.4398 - val_accuracy: 0.6875 - val_loss: 0.4279\n",
      "Epoch 222/1000\n",
      "\u001b[1m9/9\u001b[0m \u001b[32m━━━━━━━━━━━━━━━━━━━━\u001b[0m\u001b[37m\u001b[0m \u001b[1m0s\u001b[0m 13ms/step - accuracy: 0.7907 - loss: 0.4368 - val_accuracy: 0.6875 - val_loss: 0.4274\n",
      "Epoch 223/1000\n",
      "\u001b[1m9/9\u001b[0m \u001b[32m━━━━━━━━━━━━━━━━━━━━\u001b[0m\u001b[37m\u001b[0m \u001b[1m0s\u001b[0m 12ms/step - accuracy: 0.7741 - loss: 0.4477 - val_accuracy: 0.6875 - val_loss: 0.4276\n",
      "Epoch 224/1000\n",
      "\u001b[1m9/9\u001b[0m \u001b[32m━━━━━━━━━━━━━━━━━━━━\u001b[0m\u001b[37m\u001b[0m \u001b[1m0s\u001b[0m 15ms/step - accuracy: 0.7829 - loss: 0.4294 - val_accuracy: 0.6875 - val_loss: 0.4272\n",
      "Epoch 225/1000\n",
      "\u001b[1m9/9\u001b[0m \u001b[32m━━━━━━━━━━━━━━━━━━━━\u001b[0m\u001b[37m\u001b[0m \u001b[1m0s\u001b[0m 15ms/step - accuracy: 0.8199 - loss: 0.3940 - val_accuracy: 0.6875 - val_loss: 0.4260\n",
      "Epoch 226/1000\n",
      "\u001b[1m9/9\u001b[0m \u001b[32m━━━━━━━━━━━━━━━━━━━━\u001b[0m\u001b[37m\u001b[0m \u001b[1m0s\u001b[0m 14ms/step - accuracy: 0.7695 - loss: 0.4310 - val_accuracy: 0.6875 - val_loss: 0.4244\n",
      "Epoch 227/1000\n",
      "\u001b[1m9/9\u001b[0m \u001b[32m━━━━━━━━━━━━━━━━━━━━\u001b[0m\u001b[37m\u001b[0m \u001b[1m0s\u001b[0m 12ms/step - accuracy: 0.7769 - loss: 0.4414 - val_accuracy: 0.6875 - val_loss: 0.4248\n",
      "Epoch 228/1000\n",
      "\u001b[1m9/9\u001b[0m \u001b[32m━━━━━━━━━━━━━━━━━━━━\u001b[0m\u001b[37m\u001b[0m \u001b[1m0s\u001b[0m 16ms/step - accuracy: 0.8051 - loss: 0.4022 - val_accuracy: 0.6875 - val_loss: 0.4246\n",
      "Epoch 229/1000\n",
      "\u001b[1m9/9\u001b[0m \u001b[32m━━━━━━━━━━━━━━━━━━━━\u001b[0m\u001b[37m\u001b[0m \u001b[1m0s\u001b[0m 25ms/step - accuracy: 0.7940 - loss: 0.4506 - val_accuracy: 0.6875 - val_loss: 0.4246\n",
      "Epoch 230/1000\n",
      "\u001b[1m9/9\u001b[0m \u001b[32m━━━━━━━━━━━━━━━━━━━━\u001b[0m\u001b[37m\u001b[0m \u001b[1m0s\u001b[0m 27ms/step - accuracy: 0.8002 - loss: 0.4394 - val_accuracy: 0.6875 - val_loss: 0.4245\n",
      "Epoch 231/1000\n",
      "\u001b[1m9/9\u001b[0m \u001b[32m━━━━━━━━━━━━━━━━━━━━\u001b[0m\u001b[37m\u001b[0m \u001b[1m0s\u001b[0m 22ms/step - accuracy: 0.7885 - loss: 0.4458 - val_accuracy: 0.6875 - val_loss: 0.4233\n",
      "Epoch 232/1000\n",
      "\u001b[1m9/9\u001b[0m \u001b[32m━━━━━━━━━━━━━━━━━━━━\u001b[0m\u001b[37m\u001b[0m \u001b[1m0s\u001b[0m 17ms/step - accuracy: 0.7843 - loss: 0.4104 - val_accuracy: 0.6875 - val_loss: 0.4222\n",
      "Epoch 233/1000\n",
      "\u001b[1m9/9\u001b[0m \u001b[32m━━━━━━━━━━━━━━━━━━━━\u001b[0m\u001b[37m\u001b[0m \u001b[1m0s\u001b[0m 18ms/step - accuracy: 0.7787 - loss: 0.4200 - val_accuracy: 0.6875 - val_loss: 0.4211\n",
      "Epoch 234/1000\n",
      "\u001b[1m9/9\u001b[0m \u001b[32m━━━━━━━━━━━━━━━━━━━━\u001b[0m\u001b[37m\u001b[0m \u001b[1m0s\u001b[0m 15ms/step - accuracy: 0.7966 - loss: 0.4418 - val_accuracy: 0.6875 - val_loss: 0.4220\n",
      "Epoch 235/1000\n",
      "\u001b[1m9/9\u001b[0m \u001b[32m━━━━━━━━━━━━━━━━━━━━\u001b[0m\u001b[37m\u001b[0m \u001b[1m0s\u001b[0m 16ms/step - accuracy: 0.7884 - loss: 0.4479 - val_accuracy: 0.6875 - val_loss: 0.4217\n",
      "Epoch 236/1000\n",
      "\u001b[1m9/9\u001b[0m \u001b[32m━━━━━━━━━━━━━━━━━━━━\u001b[0m\u001b[37m\u001b[0m \u001b[1m0s\u001b[0m 17ms/step - accuracy: 0.7901 - loss: 0.4165 - val_accuracy: 0.6875 - val_loss: 0.4213\n",
      "Epoch 237/1000\n",
      "\u001b[1m9/9\u001b[0m \u001b[32m━━━━━━━━━━━━━━━━━━━━\u001b[0m\u001b[37m\u001b[0m \u001b[1m0s\u001b[0m 15ms/step - accuracy: 0.8155 - loss: 0.3810 - val_accuracy: 0.6875 - val_loss: 0.4206\n",
      "Epoch 238/1000\n",
      "\u001b[1m9/9\u001b[0m \u001b[32m━━━━━━━━━━━━━━━━━━━━\u001b[0m\u001b[37m\u001b[0m \u001b[1m0s\u001b[0m 29ms/step - accuracy: 0.7731 - loss: 0.4419 - val_accuracy: 0.6875 - val_loss: 0.4197\n",
      "Epoch 239/1000\n",
      "\u001b[1m9/9\u001b[0m \u001b[32m━━━━━━━━━━━━━━━━━━━━\u001b[0m\u001b[37m\u001b[0m \u001b[1m0s\u001b[0m 19ms/step - accuracy: 0.7823 - loss: 0.4352 - val_accuracy: 0.6875 - val_loss: 0.4194\n",
      "Epoch 240/1000\n",
      "\u001b[1m9/9\u001b[0m \u001b[32m━━━━━━━━━━━━━━━━━━━━\u001b[0m\u001b[37m\u001b[0m \u001b[1m0s\u001b[0m 19ms/step - accuracy: 0.7883 - loss: 0.4301 - val_accuracy: 0.6875 - val_loss: 0.4197\n",
      "Epoch 241/1000\n",
      "\u001b[1m9/9\u001b[0m \u001b[32m━━━━━━━━━━━━━━━━━━━━\u001b[0m\u001b[37m\u001b[0m \u001b[1m0s\u001b[0m 16ms/step - accuracy: 0.7741 - loss: 0.4287 - val_accuracy: 0.6875 - val_loss: 0.4186\n",
      "Epoch 242/1000\n",
      "\u001b[1m9/9\u001b[0m \u001b[32m━━━━━━━━━━━━━━━━━━━━\u001b[0m\u001b[37m\u001b[0m \u001b[1m0s\u001b[0m 18ms/step - accuracy: 0.7993 - loss: 0.4081 - val_accuracy: 0.6875 - val_loss: 0.4185\n",
      "Epoch 243/1000\n",
      "\u001b[1m9/9\u001b[0m \u001b[32m━━━━━━━━━━━━━━━━━━━━\u001b[0m\u001b[37m\u001b[0m \u001b[1m0s\u001b[0m 18ms/step - accuracy: 0.7970 - loss: 0.4347 - val_accuracy: 0.6875 - val_loss: 0.4191\n",
      "Epoch 244/1000\n",
      "\u001b[1m9/9\u001b[0m \u001b[32m━━━━━━━━━━━━━━━━━━━━\u001b[0m\u001b[37m\u001b[0m \u001b[1m0s\u001b[0m 20ms/step - accuracy: 0.7728 - loss: 0.4329 - val_accuracy: 0.6875 - val_loss: 0.4187\n",
      "Epoch 245/1000\n",
      "\u001b[1m9/9\u001b[0m \u001b[32m━━━━━━━━━━━━━━━━━━━━\u001b[0m\u001b[37m\u001b[0m \u001b[1m0s\u001b[0m 20ms/step - accuracy: 0.7742 - loss: 0.4413 - val_accuracy: 0.6875 - val_loss: 0.4176\n",
      "Epoch 246/1000\n",
      "\u001b[1m9/9\u001b[0m \u001b[32m━━━━━━━━━━━━━━━━━━━━\u001b[0m\u001b[37m\u001b[0m \u001b[1m0s\u001b[0m 21ms/step - accuracy: 0.7876 - loss: 0.4191 - val_accuracy: 0.6875 - val_loss: 0.4168\n",
      "Epoch 247/1000\n",
      "\u001b[1m9/9\u001b[0m \u001b[32m━━━━━━━━━━━━━━━━━━━━\u001b[0m\u001b[37m\u001b[0m \u001b[1m0s\u001b[0m 18ms/step - accuracy: 0.7421 - loss: 0.4607 - val_accuracy: 0.6875 - val_loss: 0.4155\n",
      "Epoch 248/1000\n",
      "\u001b[1m9/9\u001b[0m \u001b[32m━━━━━━━━━━━━━━━━━━━━\u001b[0m\u001b[37m\u001b[0m \u001b[1m0s\u001b[0m 25ms/step - accuracy: 0.7760 - loss: 0.4431 - val_accuracy: 0.6875 - val_loss: 0.4159\n",
      "Epoch 249/1000\n",
      "\u001b[1m9/9\u001b[0m \u001b[32m━━━━━━━━━━━━━━━━━━━━\u001b[0m\u001b[37m\u001b[0m \u001b[1m0s\u001b[0m 21ms/step - accuracy: 0.8009 - loss: 0.4269 - val_accuracy: 0.6875 - val_loss: 0.4166\n",
      "Epoch 250/1000\n",
      "\u001b[1m9/9\u001b[0m \u001b[32m━━━━━━━━━━━━━━━━━━━━\u001b[0m\u001b[37m\u001b[0m \u001b[1m0s\u001b[0m 23ms/step - accuracy: 0.7898 - loss: 0.4087 - val_accuracy: 0.6875 - val_loss: 0.4167\n",
      "Epoch 251/1000\n",
      "\u001b[1m9/9\u001b[0m \u001b[32m━━━━━━━━━━━━━━━━━━━━\u001b[0m\u001b[37m\u001b[0m \u001b[1m0s\u001b[0m 31ms/step - accuracy: 0.7851 - loss: 0.4153 - val_accuracy: 0.6875 - val_loss: 0.4152\n",
      "Epoch 252/1000\n",
      "\u001b[1m9/9\u001b[0m \u001b[32m━━━━━━━━━━━━━━━━━━━━\u001b[0m\u001b[37m\u001b[0m \u001b[1m0s\u001b[0m 20ms/step - accuracy: 0.7872 - loss: 0.4230 - val_accuracy: 0.6875 - val_loss: 0.4149\n",
      "Epoch 253/1000\n",
      "\u001b[1m9/9\u001b[0m \u001b[32m━━━━━━━━━━━━━━━━━━━━\u001b[0m\u001b[37m\u001b[0m \u001b[1m0s\u001b[0m 19ms/step - accuracy: 0.7912 - loss: 0.4127 - val_accuracy: 0.6875 - val_loss: 0.4144\n",
      "Epoch 254/1000\n",
      "\u001b[1m9/9\u001b[0m \u001b[32m━━━━━━━━━━━━━━━━━━━━\u001b[0m\u001b[37m\u001b[0m \u001b[1m0s\u001b[0m 21ms/step - accuracy: 0.7536 - loss: 0.4581 - val_accuracy: 0.6875 - val_loss: 0.4130\n",
      "Epoch 255/1000\n",
      "\u001b[1m9/9\u001b[0m \u001b[32m━━━━━━━━━━━━━━━━━━━━\u001b[0m\u001b[37m\u001b[0m \u001b[1m0s\u001b[0m 20ms/step - accuracy: 0.7606 - loss: 0.4570 - val_accuracy: 0.6875 - val_loss: 0.4135\n",
      "Epoch 256/1000\n",
      "\u001b[1m9/9\u001b[0m \u001b[32m━━━━━━━━━━━━━━━━━━━━\u001b[0m\u001b[37m\u001b[0m \u001b[1m0s\u001b[0m 22ms/step - accuracy: 0.7905 - loss: 0.4144 - val_accuracy: 0.6875 - val_loss: 0.4126\n",
      "Epoch 257/1000\n",
      "\u001b[1m9/9\u001b[0m \u001b[32m━━━━━━━━━━━━━━━━━━━━\u001b[0m\u001b[37m\u001b[0m \u001b[1m0s\u001b[0m 29ms/step - accuracy: 0.7914 - loss: 0.3987 - val_accuracy: 0.6875 - val_loss: 0.4122\n",
      "Epoch 258/1000\n",
      "\u001b[1m9/9\u001b[0m \u001b[32m━━━━━━━━━━━━━━━━━━━━\u001b[0m\u001b[37m\u001b[0m \u001b[1m0s\u001b[0m 23ms/step - accuracy: 0.7675 - loss: 0.4462 - val_accuracy: 0.6875 - val_loss: 0.4133\n",
      "Epoch 259/1000\n",
      "\u001b[1m9/9\u001b[0m \u001b[32m━━━━━━━━━━━━━━━━━━━━\u001b[0m\u001b[37m\u001b[0m \u001b[1m0s\u001b[0m 21ms/step - accuracy: 0.7686 - loss: 0.4443 - val_accuracy: 0.6875 - val_loss: 0.4116\n",
      "Epoch 260/1000\n",
      "\u001b[1m9/9\u001b[0m \u001b[32m━━━━━━━━━━━━━━━━━━━━\u001b[0m\u001b[37m\u001b[0m \u001b[1m0s\u001b[0m 19ms/step - accuracy: 0.7872 - loss: 0.4642 - val_accuracy: 0.6875 - val_loss: 0.4129\n",
      "Epoch 261/1000\n",
      "\u001b[1m9/9\u001b[0m \u001b[32m━━━━━━━━━━━━━━━━━━━━\u001b[0m\u001b[37m\u001b[0m \u001b[1m0s\u001b[0m 21ms/step - accuracy: 0.7664 - loss: 0.4351 - val_accuracy: 0.6875 - val_loss: 0.4116\n",
      "Epoch 262/1000\n",
      "\u001b[1m9/9\u001b[0m \u001b[32m━━━━━━━━━━━━━━━━━━━━\u001b[0m\u001b[37m\u001b[0m \u001b[1m0s\u001b[0m 20ms/step - accuracy: 0.7907 - loss: 0.4246 - val_accuracy: 0.6875 - val_loss: 0.4117\n",
      "Epoch 263/1000\n",
      "\u001b[1m9/9\u001b[0m \u001b[32m━━━━━━━━━━━━━━━━━━━━\u001b[0m\u001b[37m\u001b[0m \u001b[1m0s\u001b[0m 19ms/step - accuracy: 0.7895 - loss: 0.4152 - val_accuracy: 0.6875 - val_loss: 0.4116\n",
      "Epoch 264/1000\n",
      "\u001b[1m9/9\u001b[0m \u001b[32m━━━━━━━━━━━━━━━━━━━━\u001b[0m\u001b[37m\u001b[0m \u001b[1m0s\u001b[0m 24ms/step - accuracy: 0.8163 - loss: 0.3925 - val_accuracy: 0.6875 - val_loss: 0.4105\n",
      "Epoch 265/1000\n",
      "\u001b[1m9/9\u001b[0m \u001b[32m━━━━━━━━━━━━━━━━━━━━\u001b[0m\u001b[37m\u001b[0m \u001b[1m0s\u001b[0m 21ms/step - accuracy: 0.8042 - loss: 0.4005 - val_accuracy: 0.6875 - val_loss: 0.4101\n",
      "Epoch 266/1000\n",
      "\u001b[1m9/9\u001b[0m \u001b[32m━━━━━━━━━━━━━━━━━━━━\u001b[0m\u001b[37m\u001b[0m \u001b[1m0s\u001b[0m 20ms/step - accuracy: 0.7882 - loss: 0.4104 - val_accuracy: 0.6875 - val_loss: 0.4092\n",
      "Epoch 267/1000\n",
      "\u001b[1m9/9\u001b[0m \u001b[32m━━━━━━━━━━━━━━━━━━━━\u001b[0m\u001b[37m\u001b[0m \u001b[1m0s\u001b[0m 22ms/step - accuracy: 0.8117 - loss: 0.4000 - val_accuracy: 0.6875 - val_loss: 0.4088\n",
      "Epoch 268/1000\n",
      "\u001b[1m9/9\u001b[0m \u001b[32m━━━━━━━━━━━━━━━━━━━━\u001b[0m\u001b[37m\u001b[0m \u001b[1m0s\u001b[0m 19ms/step - accuracy: 0.7888 - loss: 0.4201 - val_accuracy: 0.6875 - val_loss: 0.4093\n",
      "Epoch 269/1000\n",
      "\u001b[1m9/9\u001b[0m \u001b[32m━━━━━━━━━━━━━━━━━━━━\u001b[0m\u001b[37m\u001b[0m \u001b[1m0s\u001b[0m 21ms/step - accuracy: 0.7294 - loss: 0.4544 - val_accuracy: 0.6875 - val_loss: 0.4069\n",
      "Epoch 270/1000\n",
      "\u001b[1m9/9\u001b[0m \u001b[32m━━━━━━━━━━━━━━━━━━━━\u001b[0m\u001b[37m\u001b[0m \u001b[1m0s\u001b[0m 28ms/step - accuracy: 0.7835 - loss: 0.4624 - val_accuracy: 0.6875 - val_loss: 0.4074\n",
      "Epoch 271/1000\n",
      "\u001b[1m9/9\u001b[0m \u001b[32m━━━━━━━━━━━━━━━━━━━━\u001b[0m\u001b[37m\u001b[0m \u001b[1m0s\u001b[0m 21ms/step - accuracy: 0.7696 - loss: 0.4418 - val_accuracy: 0.6875 - val_loss: 0.4076\n",
      "Epoch 272/1000\n",
      "\u001b[1m9/9\u001b[0m \u001b[32m━━━━━━━━━━━━━━━━━━━━\u001b[0m\u001b[37m\u001b[0m \u001b[1m0s\u001b[0m 21ms/step - accuracy: 0.8210 - loss: 0.3924 - val_accuracy: 0.6875 - val_loss: 0.4085\n",
      "Epoch 273/1000\n",
      "\u001b[1m9/9\u001b[0m \u001b[32m━━━━━━━━━━━━━━━━━━━━\u001b[0m\u001b[37m\u001b[0m \u001b[1m0s\u001b[0m 22ms/step - accuracy: 0.7691 - loss: 0.4173 - val_accuracy: 0.6875 - val_loss: 0.4066\n",
      "Epoch 274/1000\n",
      "\u001b[1m9/9\u001b[0m \u001b[32m━━━━━━━━━━━━━━━━━━━━\u001b[0m\u001b[37m\u001b[0m \u001b[1m0s\u001b[0m 19ms/step - accuracy: 0.7835 - loss: 0.3995 - val_accuracy: 0.6875 - val_loss: 0.4060\n",
      "Epoch 275/1000\n",
      "\u001b[1m9/9\u001b[0m \u001b[32m━━━━━━━━━━━━━━━━━━━━\u001b[0m\u001b[37m\u001b[0m \u001b[1m0s\u001b[0m 20ms/step - accuracy: 0.7959 - loss: 0.4220 - val_accuracy: 0.6875 - val_loss: 0.4056\n",
      "Epoch 276/1000\n",
      "\u001b[1m9/9\u001b[0m \u001b[32m━━━━━━━━━━━━━━━━━━━━\u001b[0m\u001b[37m\u001b[0m \u001b[1m0s\u001b[0m 26ms/step - accuracy: 0.7893 - loss: 0.4084 - val_accuracy: 0.6875 - val_loss: 0.4061\n",
      "Epoch 277/1000\n",
      "\u001b[1m9/9\u001b[0m \u001b[32m━━━━━━━━━━━━━━━━━━━━\u001b[0m\u001b[37m\u001b[0m \u001b[1m0s\u001b[0m 21ms/step - accuracy: 0.7909 - loss: 0.3937 - val_accuracy: 0.6875 - val_loss: 0.4054\n",
      "Epoch 278/1000\n",
      "\u001b[1m9/9\u001b[0m \u001b[32m━━━━━━━━━━━━━━━━━━━━\u001b[0m\u001b[37m\u001b[0m \u001b[1m0s\u001b[0m 22ms/step - accuracy: 0.7847 - loss: 0.4116 - val_accuracy: 0.6875 - val_loss: 0.4044\n",
      "Epoch 279/1000\n",
      "\u001b[1m9/9\u001b[0m \u001b[32m━━━━━━━━━━━━━━━━━━━━\u001b[0m\u001b[37m\u001b[0m \u001b[1m0s\u001b[0m 21ms/step - accuracy: 0.7944 - loss: 0.4401 - val_accuracy: 0.6875 - val_loss: 0.4057\n",
      "Epoch 280/1000\n",
      "\u001b[1m9/9\u001b[0m \u001b[32m━━━━━━━━━━━━━━━━━━━━\u001b[0m\u001b[37m\u001b[0m \u001b[1m0s\u001b[0m 22ms/step - accuracy: 0.7773 - loss: 0.4418 - val_accuracy: 0.6875 - val_loss: 0.4046\n",
      "Epoch 281/1000\n",
      "\u001b[1m9/9\u001b[0m \u001b[32m━━━━━━━━━━━━━━━━━━━━\u001b[0m\u001b[37m\u001b[0m \u001b[1m0s\u001b[0m 19ms/step - accuracy: 0.7855 - loss: 0.4275 - val_accuracy: 0.6875 - val_loss: 0.4048\n",
      "Epoch 282/1000\n",
      "\u001b[1m9/9\u001b[0m \u001b[32m━━━━━━━━━━━━━━━━━━━━\u001b[0m\u001b[37m\u001b[0m \u001b[1m0s\u001b[0m 19ms/step - accuracy: 0.7856 - loss: 0.4353 - val_accuracy: 0.6875 - val_loss: 0.4048\n",
      "Epoch 283/1000\n",
      "\u001b[1m9/9\u001b[0m \u001b[32m━━━━━━━━━━━━━━━━━━━━\u001b[0m\u001b[37m\u001b[0m \u001b[1m0s\u001b[0m 28ms/step - accuracy: 0.7738 - loss: 0.3981 - val_accuracy: 0.6875 - val_loss: 0.4031\n",
      "Epoch 284/1000\n",
      "\u001b[1m9/9\u001b[0m \u001b[32m━━━━━━━━━━━━━━━━━━━━\u001b[0m\u001b[37m\u001b[0m \u001b[1m0s\u001b[0m 20ms/step - accuracy: 0.7860 - loss: 0.4049 - val_accuracy: 0.6875 - val_loss: 0.4034\n",
      "Epoch 285/1000\n",
      "\u001b[1m9/9\u001b[0m \u001b[32m━━━━━━━━━━━━━━━━━━━━\u001b[0m\u001b[37m\u001b[0m \u001b[1m0s\u001b[0m 18ms/step - accuracy: 0.7796 - loss: 0.4120 - val_accuracy: 0.6875 - val_loss: 0.4035\n",
      "Epoch 286/1000\n",
      "\u001b[1m9/9\u001b[0m \u001b[32m━━━━━━━━━━━━━━━━━━━━\u001b[0m\u001b[37m\u001b[0m \u001b[1m0s\u001b[0m 19ms/step - accuracy: 0.7578 - loss: 0.4106 - val_accuracy: 0.6875 - val_loss: 0.4030\n",
      "Epoch 287/1000\n",
      "\u001b[1m9/9\u001b[0m \u001b[32m━━━━━━━━━━━━━━━━━━━━\u001b[0m\u001b[37m\u001b[0m \u001b[1m0s\u001b[0m 21ms/step - accuracy: 0.7790 - loss: 0.4316 - val_accuracy: 0.6875 - val_loss: 0.4034\n",
      "Epoch 288/1000\n",
      "\u001b[1m9/9\u001b[0m \u001b[32m━━━━━━━━━━━━━━━━━━━━\u001b[0m\u001b[37m\u001b[0m \u001b[1m0s\u001b[0m 20ms/step - accuracy: 0.7959 - loss: 0.4041 - val_accuracy: 0.6875 - val_loss: 0.4027\n",
      "Epoch 289/1000\n",
      "\u001b[1m9/9\u001b[0m \u001b[32m━━━━━━━━━━━━━━━━━━━━\u001b[0m\u001b[37m\u001b[0m \u001b[1m0s\u001b[0m 29ms/step - accuracy: 0.7940 - loss: 0.3966 - val_accuracy: 0.6875 - val_loss: 0.4016\n",
      "Epoch 290/1000\n",
      "\u001b[1m9/9\u001b[0m \u001b[32m━━━━━━━━━━━━━━━━━━━━\u001b[0m\u001b[37m\u001b[0m \u001b[1m0s\u001b[0m 21ms/step - accuracy: 0.7616 - loss: 0.4422 - val_accuracy: 0.6875 - val_loss: 0.4006\n",
      "Epoch 291/1000\n",
      "\u001b[1m9/9\u001b[0m \u001b[32m━━━━━━━━━━━━━━━━━━━━\u001b[0m\u001b[37m\u001b[0m \u001b[1m0s\u001b[0m 19ms/step - accuracy: 0.7760 - loss: 0.4337 - val_accuracy: 0.6875 - val_loss: 0.4011\n",
      "Epoch 292/1000\n",
      "\u001b[1m9/9\u001b[0m \u001b[32m━━━━━━━━━━━━━━━━━━━━\u001b[0m\u001b[37m\u001b[0m \u001b[1m0s\u001b[0m 19ms/step - accuracy: 0.7829 - loss: 0.4125 - val_accuracy: 0.6875 - val_loss: 0.4006\n",
      "Epoch 293/1000\n",
      "\u001b[1m9/9\u001b[0m \u001b[32m━━━━━━━━━━━━━━━━━━━━\u001b[0m\u001b[37m\u001b[0m \u001b[1m0s\u001b[0m 19ms/step - accuracy: 0.7829 - loss: 0.3980 - val_accuracy: 0.6875 - val_loss: 0.4005\n",
      "Epoch 294/1000\n",
      "\u001b[1m9/9\u001b[0m \u001b[32m━━━━━━━━━━━━━━━━━━━━\u001b[0m\u001b[37m\u001b[0m \u001b[1m0s\u001b[0m 20ms/step - accuracy: 0.8077 - loss: 0.4162 - val_accuracy: 0.6875 - val_loss: 0.4010\n",
      "Epoch 295/1000\n",
      "\u001b[1m9/9\u001b[0m \u001b[32m━━━━━━━━━━━━━━━━━━━━\u001b[0m\u001b[37m\u001b[0m \u001b[1m0s\u001b[0m 20ms/step - accuracy: 0.7724 - loss: 0.4022 - val_accuracy: 0.6875 - val_loss: 0.3994\n",
      "Epoch 296/1000\n",
      "\u001b[1m9/9\u001b[0m \u001b[32m━━━━━━━━━━━━━━━━━━━━\u001b[0m\u001b[37m\u001b[0m \u001b[1m0s\u001b[0m 19ms/step - accuracy: 0.8083 - loss: 0.4004 - val_accuracy: 0.6875 - val_loss: 0.4001\n",
      "Epoch 297/1000\n",
      "\u001b[1m9/9\u001b[0m \u001b[32m━━━━━━━━━━━━━━━━━━━━\u001b[0m\u001b[37m\u001b[0m \u001b[1m0s\u001b[0m 31ms/step - accuracy: 0.7968 - loss: 0.3939 - val_accuracy: 0.6875 - val_loss: 0.3993\n",
      "Epoch 298/1000\n",
      "\u001b[1m9/9\u001b[0m \u001b[32m━━━━━━━━━━━━━━━━━━━━\u001b[0m\u001b[37m\u001b[0m \u001b[1m0s\u001b[0m 20ms/step - accuracy: 0.7851 - loss: 0.3970 - val_accuracy: 0.6875 - val_loss: 0.3996\n",
      "Epoch 299/1000\n",
      "\u001b[1m9/9\u001b[0m \u001b[32m━━━━━━━━━━━━━━━━━━━━\u001b[0m\u001b[37m\u001b[0m \u001b[1m0s\u001b[0m 21ms/step - accuracy: 0.7983 - loss: 0.4004 - val_accuracy: 0.6875 - val_loss: 0.3991\n",
      "Epoch 300/1000\n",
      "\u001b[1m9/9\u001b[0m \u001b[32m━━━━━━━━━━━━━━━━━━━━\u001b[0m\u001b[37m\u001b[0m \u001b[1m0s\u001b[0m 18ms/step - accuracy: 0.8183 - loss: 0.3650 - val_accuracy: 0.6875 - val_loss: 0.3983\n",
      "Epoch 301/1000\n",
      "\u001b[1m9/9\u001b[0m \u001b[32m━━━━━━━━━━━━━━━━━━━━\u001b[0m\u001b[37m\u001b[0m \u001b[1m0s\u001b[0m 22ms/step - accuracy: 0.7730 - loss: 0.4011 - val_accuracy: 0.6875 - val_loss: 0.3972\n",
      "Epoch 302/1000\n",
      "\u001b[1m9/9\u001b[0m \u001b[32m━━━━━━━━━━━━━━━━━━━━\u001b[0m\u001b[37m\u001b[0m \u001b[1m0s\u001b[0m 20ms/step - accuracy: 0.7863 - loss: 0.4219 - val_accuracy: 0.6875 - val_loss: 0.3977\n",
      "Epoch 303/1000\n",
      "\u001b[1m9/9\u001b[0m \u001b[32m━━━━━━━━━━━━━━━━━━━━\u001b[0m\u001b[37m\u001b[0m \u001b[1m0s\u001b[0m 19ms/step - accuracy: 0.7987 - loss: 0.3946 - val_accuracy: 0.6875 - val_loss: 0.3977\n",
      "Epoch 304/1000\n",
      "\u001b[1m9/9\u001b[0m \u001b[32m━━━━━━━━━━━━━━━━━━━━\u001b[0m\u001b[37m\u001b[0m \u001b[1m0s\u001b[0m 20ms/step - accuracy: 0.7655 - loss: 0.4447 - val_accuracy: 0.6875 - val_loss: 0.3972\n",
      "Epoch 305/1000\n",
      "\u001b[1m9/9\u001b[0m \u001b[32m━━━━━━━━━━━━━━━━━━━━\u001b[0m\u001b[37m\u001b[0m \u001b[1m0s\u001b[0m 20ms/step - accuracy: 0.8015 - loss: 0.4350 - val_accuracy: 0.6875 - val_loss: 0.3987\n",
      "Epoch 306/1000\n",
      "\u001b[1m9/9\u001b[0m \u001b[32m━━━━━━━━━━━━━━━━━━━━\u001b[0m\u001b[37m\u001b[0m \u001b[1m0s\u001b[0m 30ms/step - accuracy: 0.7771 - loss: 0.4322 - val_accuracy: 0.6875 - val_loss: 0.3973\n",
      "Epoch 307/1000\n",
      "\u001b[1m9/9\u001b[0m \u001b[32m━━━━━━━━━━━━━━━━━━━━\u001b[0m\u001b[37m\u001b[0m \u001b[1m0s\u001b[0m 21ms/step - accuracy: 0.7870 - loss: 0.3871 - val_accuracy: 0.6875 - val_loss: 0.3964\n",
      "Epoch 308/1000\n",
      "\u001b[1m9/9\u001b[0m \u001b[32m━━━━━━━━━━━━━━━━━━━━\u001b[0m\u001b[37m\u001b[0m \u001b[1m0s\u001b[0m 19ms/step - accuracy: 0.7798 - loss: 0.3903 - val_accuracy: 0.6875 - val_loss: 0.3946\n",
      "Epoch 309/1000\n",
      "\u001b[1m9/9\u001b[0m \u001b[32m━━━━━━━━━━━━━━━━━━━━\u001b[0m\u001b[37m\u001b[0m \u001b[1m0s\u001b[0m 22ms/step - accuracy: 0.8047 - loss: 0.3954 - val_accuracy: 0.6875 - val_loss: 0.3960\n",
      "Epoch 310/1000\n",
      "\u001b[1m9/9\u001b[0m \u001b[32m━━━━━━━━━━━━━━━━━━━━\u001b[0m\u001b[37m\u001b[0m \u001b[1m0s\u001b[0m 19ms/step - accuracy: 0.8093 - loss: 0.4006 - val_accuracy: 0.6875 - val_loss: 0.3960\n",
      "Epoch 311/1000\n",
      "\u001b[1m9/9\u001b[0m \u001b[32m━━━━━━━━━━━━━━━━━━━━\u001b[0m\u001b[37m\u001b[0m \u001b[1m0s\u001b[0m 20ms/step - accuracy: 0.7999 - loss: 0.4273 - val_accuracy: 0.6875 - val_loss: 0.3959\n",
      "Epoch 312/1000\n",
      "\u001b[1m9/9\u001b[0m \u001b[32m━━━━━━━━━━━━━━━━━━━━\u001b[0m\u001b[37m\u001b[0m \u001b[1m0s\u001b[0m 29ms/step - accuracy: 0.8004 - loss: 0.3876 - val_accuracy: 0.6875 - val_loss: 0.3952\n",
      "Epoch 313/1000\n",
      "\u001b[1m9/9\u001b[0m \u001b[32m━━━━━━━━━━━━━━━━━━━━\u001b[0m\u001b[37m\u001b[0m \u001b[1m0s\u001b[0m 20ms/step - accuracy: 0.7911 - loss: 0.4251 - val_accuracy: 0.6875 - val_loss: 0.3956\n",
      "Epoch 314/1000\n",
      "\u001b[1m9/9\u001b[0m \u001b[32m━━━━━━━━━━━━━━━━━━━━\u001b[0m\u001b[37m\u001b[0m \u001b[1m0s\u001b[0m 18ms/step - accuracy: 0.7500 - loss: 0.4548 - val_accuracy: 0.6875 - val_loss: 0.3947\n",
      "Epoch 315/1000\n",
      "\u001b[1m9/9\u001b[0m \u001b[32m━━━━━━━━━━━━━━━━━━━━\u001b[0m\u001b[37m\u001b[0m \u001b[1m0s\u001b[0m 19ms/step - accuracy: 0.7713 - loss: 0.4097 - val_accuracy: 0.6875 - val_loss: 0.3940\n",
      "Epoch 316/1000\n",
      "\u001b[1m9/9\u001b[0m \u001b[32m━━━━━━━━━━━━━━━━━━━━\u001b[0m\u001b[37m\u001b[0m \u001b[1m0s\u001b[0m 24ms/step - accuracy: 0.7806 - loss: 0.4311 - val_accuracy: 0.6875 - val_loss: 0.3944\n",
      "Epoch 317/1000\n",
      "\u001b[1m9/9\u001b[0m \u001b[32m━━━━━━━━━━━━━━━━━━━━\u001b[0m\u001b[37m\u001b[0m \u001b[1m0s\u001b[0m 21ms/step - accuracy: 0.7936 - loss: 0.3978 - val_accuracy: 0.6875 - val_loss: 0.3938\n",
      "Epoch 318/1000\n",
      "\u001b[1m9/9\u001b[0m \u001b[32m━━━━━━━━━━━━━━━━━━━━\u001b[0m\u001b[37m\u001b[0m \u001b[1m0s\u001b[0m 22ms/step - accuracy: 0.7703 - loss: 0.4184 - val_accuracy: 0.6875 - val_loss: 0.3917\n",
      "Epoch 319/1000\n",
      "\u001b[1m9/9\u001b[0m \u001b[32m━━━━━━━━━━━━━━━━━━━━\u001b[0m\u001b[37m\u001b[0m \u001b[1m0s\u001b[0m 28ms/step - accuracy: 0.7971 - loss: 0.3922 - val_accuracy: 0.6875 - val_loss: 0.3926\n",
      "Epoch 320/1000\n",
      "\u001b[1m9/9\u001b[0m \u001b[32m━━━━━━━━━━━━━━━━━━━━\u001b[0m\u001b[37m\u001b[0m \u001b[1m0s\u001b[0m 21ms/step - accuracy: 0.7734 - loss: 0.4298 - val_accuracy: 0.6875 - val_loss: 0.3929\n",
      "Epoch 321/1000\n",
      "\u001b[1m9/9\u001b[0m \u001b[32m━━━━━━━━━━━━━━━━━━━━\u001b[0m\u001b[37m\u001b[0m \u001b[1m0s\u001b[0m 21ms/step - accuracy: 0.7770 - loss: 0.4190 - val_accuracy: 0.6875 - val_loss: 0.3919\n",
      "Epoch 322/1000\n",
      "\u001b[1m9/9\u001b[0m \u001b[32m━━━━━━━━━━━━━━━━━━━━\u001b[0m\u001b[37m\u001b[0m \u001b[1m0s\u001b[0m 21ms/step - accuracy: 0.7890 - loss: 0.4099 - val_accuracy: 0.6875 - val_loss: 0.3923\n",
      "Epoch 323/1000\n",
      "\u001b[1m9/9\u001b[0m \u001b[32m━━━━━━━━━━━━━━━━━━━━\u001b[0m\u001b[37m\u001b[0m \u001b[1m0s\u001b[0m 17ms/step - accuracy: 0.7921 - loss: 0.3987 - val_accuracy: 0.6875 - val_loss: 0.3930\n",
      "Epoch 324/1000\n",
      "\u001b[1m9/9\u001b[0m \u001b[32m━━━━━━━━━━━━━━━━━━━━\u001b[0m\u001b[37m\u001b[0m \u001b[1m0s\u001b[0m 18ms/step - accuracy: 0.7914 - loss: 0.4346 - val_accuracy: 0.6875 - val_loss: 0.3928\n",
      "Epoch 325/1000\n",
      "\u001b[1m9/9\u001b[0m \u001b[32m━━━━━━━━━━━━━━━━━━━━\u001b[0m\u001b[37m\u001b[0m \u001b[1m0s\u001b[0m 18ms/step - accuracy: 0.8188 - loss: 0.3957 - val_accuracy: 0.6875 - val_loss: 0.3932\n",
      "Epoch 326/1000\n",
      "\u001b[1m9/9\u001b[0m \u001b[32m━━━━━━━━━━━━━━━━━━━━\u001b[0m\u001b[37m\u001b[0m \u001b[1m0s\u001b[0m 16ms/step - accuracy: 0.7796 - loss: 0.3717 - val_accuracy: 0.6875 - val_loss: 0.3916\n",
      "Epoch 327/1000\n",
      "\u001b[1m9/9\u001b[0m \u001b[32m━━━━━━━━━━━━━━━━━━━━\u001b[0m\u001b[37m\u001b[0m \u001b[1m0s\u001b[0m 19ms/step - accuracy: 0.7751 - loss: 0.3952 - val_accuracy: 0.6875 - val_loss: 0.3905\n",
      "Epoch 328/1000\n",
      "\u001b[1m9/9\u001b[0m \u001b[32m━━━━━━━━━━━━━━━━━━━━\u001b[0m\u001b[37m\u001b[0m \u001b[1m0s\u001b[0m 16ms/step - accuracy: 0.8070 - loss: 0.3637 - val_accuracy: 0.6875 - val_loss: 0.3907\n",
      "Epoch 329/1000\n",
      "\u001b[1m9/9\u001b[0m \u001b[32m━━━━━━━━━━━━━━━━━━━━\u001b[0m\u001b[37m\u001b[0m \u001b[1m0s\u001b[0m 16ms/step - accuracy: 0.7713 - loss: 0.4007 - val_accuracy: 0.6875 - val_loss: 0.3911\n",
      "Epoch 330/1000\n",
      "\u001b[1m9/9\u001b[0m \u001b[32m━━━━━━━━━━━━━━━━━━━━\u001b[0m\u001b[37m\u001b[0m \u001b[1m0s\u001b[0m 17ms/step - accuracy: 0.7872 - loss: 0.3856 - val_accuracy: 0.6875 - val_loss: 0.3905\n",
      "Epoch 331/1000\n",
      "\u001b[1m9/9\u001b[0m \u001b[32m━━━━━━━━━━━━━━━━━━━━\u001b[0m\u001b[37m\u001b[0m \u001b[1m0s\u001b[0m 14ms/step - accuracy: 0.8142 - loss: 0.3778 - val_accuracy: 0.6875 - val_loss: 0.3894\n",
      "Epoch 332/1000\n",
      "\u001b[1m9/9\u001b[0m \u001b[32m━━━━━━━━━━━━━━━━━━━━\u001b[0m\u001b[37m\u001b[0m \u001b[1m0s\u001b[0m 17ms/step - accuracy: 0.7960 - loss: 0.3817 - val_accuracy: 0.6875 - val_loss: 0.3887\n",
      "Epoch 333/1000\n",
      "\u001b[1m9/9\u001b[0m \u001b[32m━━━━━━━━━━━━━━━━━━━━\u001b[0m\u001b[37m\u001b[0m \u001b[1m0s\u001b[0m 18ms/step - accuracy: 0.7548 - loss: 0.4156 - val_accuracy: 0.6875 - val_loss: 0.3890\n",
      "Epoch 334/1000\n",
      "\u001b[1m9/9\u001b[0m \u001b[32m━━━━━━━━━━━━━━━━━━━━\u001b[0m\u001b[37m\u001b[0m \u001b[1m0s\u001b[0m 19ms/step - accuracy: 0.7711 - loss: 0.4130 - val_accuracy: 0.6875 - val_loss: 0.3886\n",
      "Epoch 335/1000\n",
      "\u001b[1m9/9\u001b[0m \u001b[32m━━━━━━━━━━━━━━━━━━━━\u001b[0m\u001b[37m\u001b[0m \u001b[1m0s\u001b[0m 17ms/step - accuracy: 0.7867 - loss: 0.3963 - val_accuracy: 0.6875 - val_loss: 0.3891\n",
      "Epoch 336/1000\n",
      "\u001b[1m9/9\u001b[0m \u001b[32m━━━━━━━━━━━━━━━━━━━━\u001b[0m\u001b[37m\u001b[0m \u001b[1m0s\u001b[0m 20ms/step - accuracy: 0.8099 - loss: 0.3780 - val_accuracy: 0.6875 - val_loss: 0.3901\n",
      "Epoch 337/1000\n",
      "\u001b[1m9/9\u001b[0m \u001b[32m━━━━━━━━━━━━━━━━━━━━\u001b[0m\u001b[37m\u001b[0m \u001b[1m0s\u001b[0m 20ms/step - accuracy: 0.7903 - loss: 0.4000 - val_accuracy: 0.6875 - val_loss: 0.3884\n",
      "Epoch 338/1000\n",
      "\u001b[1m9/9\u001b[0m \u001b[32m━━━━━━━━━━━━━━━━━━━━\u001b[0m\u001b[37m\u001b[0m \u001b[1m0s\u001b[0m 18ms/step - accuracy: 0.7967 - loss: 0.3737 - val_accuracy: 0.6875 - val_loss: 0.3887\n",
      "Epoch 339/1000\n",
      "\u001b[1m9/9\u001b[0m \u001b[32m━━━━━━━━━━━━━━━━━━━━\u001b[0m\u001b[37m\u001b[0m \u001b[1m0s\u001b[0m 16ms/step - accuracy: 0.8176 - loss: 0.3792 - val_accuracy: 0.6875 - val_loss: 0.3883\n",
      "Epoch 340/1000\n",
      "\u001b[1m9/9\u001b[0m \u001b[32m━━━━━━━━━━━━━━━━━━━━\u001b[0m\u001b[37m\u001b[0m \u001b[1m0s\u001b[0m 15ms/step - accuracy: 0.8084 - loss: 0.3944 - val_accuracy: 0.6875 - val_loss: 0.3875\n",
      "Epoch 341/1000\n",
      "\u001b[1m9/9\u001b[0m \u001b[32m━━━━━━━━━━━━━━━━━━━━\u001b[0m\u001b[37m\u001b[0m \u001b[1m0s\u001b[0m 15ms/step - accuracy: 0.8207 - loss: 0.3630 - val_accuracy: 0.6875 - val_loss: 0.3876\n",
      "Epoch 342/1000\n",
      "\u001b[1m9/9\u001b[0m \u001b[32m━━━━━━━━━━━━━━━━━━━━\u001b[0m\u001b[37m\u001b[0m \u001b[1m0s\u001b[0m 16ms/step - accuracy: 0.7570 - loss: 0.4244 - val_accuracy: 0.6875 - val_loss: 0.3873\n",
      "Epoch 343/1000\n",
      "\u001b[1m9/9\u001b[0m \u001b[32m━━━━━━━━━━━━━━━━━━━━\u001b[0m\u001b[37m\u001b[0m \u001b[1m0s\u001b[0m 14ms/step - accuracy: 0.7783 - loss: 0.3831 - val_accuracy: 0.6875 - val_loss: 0.3871\n",
      "Epoch 344/1000\n",
      "\u001b[1m9/9\u001b[0m \u001b[32m━━━━━━━━━━━━━━━━━━━━\u001b[0m\u001b[37m\u001b[0m \u001b[1m0s\u001b[0m 14ms/step - accuracy: 0.7936 - loss: 0.3831 - val_accuracy: 0.6875 - val_loss: 0.3861\n",
      "Epoch 345/1000\n",
      "\u001b[1m9/9\u001b[0m \u001b[32m━━━━━━━━━━━━━━━━━━━━\u001b[0m\u001b[37m\u001b[0m \u001b[1m0s\u001b[0m 14ms/step - accuracy: 0.8122 - loss: 0.3782 - val_accuracy: 0.6875 - val_loss: 0.3878\n",
      "Epoch 346/1000\n",
      "\u001b[1m9/9\u001b[0m \u001b[32m━━━━━━━━━━━━━━━━━━━━\u001b[0m\u001b[37m\u001b[0m \u001b[1m0s\u001b[0m 14ms/step - accuracy: 0.7930 - loss: 0.4037 - val_accuracy: 0.6875 - val_loss: 0.3871\n",
      "Epoch 347/1000\n",
      "\u001b[1m9/9\u001b[0m \u001b[32m━━━━━━━━━━━━━━━━━━━━\u001b[0m\u001b[37m\u001b[0m \u001b[1m0s\u001b[0m 17ms/step - accuracy: 0.7843 - loss: 0.4034 - val_accuracy: 0.6875 - val_loss: 0.3864\n",
      "Epoch 348/1000\n",
      "\u001b[1m9/9\u001b[0m \u001b[32m━━━━━━━━━━━━━━━━━━━━\u001b[0m\u001b[37m\u001b[0m \u001b[1m0s\u001b[0m 14ms/step - accuracy: 0.7797 - loss: 0.3986 - val_accuracy: 0.6875 - val_loss: 0.3854\n",
      "Epoch 349/1000\n",
      "\u001b[1m9/9\u001b[0m \u001b[32m━━━━━━━━━━━━━━━━━━━━\u001b[0m\u001b[37m\u001b[0m \u001b[1m0s\u001b[0m 19ms/step - accuracy: 0.7827 - loss: 0.3895 - val_accuracy: 0.6875 - val_loss: 0.3854\n",
      "Epoch 350/1000\n",
      "\u001b[1m9/9\u001b[0m \u001b[32m━━━━━━━━━━━━━━━━━━━━\u001b[0m\u001b[37m\u001b[0m \u001b[1m0s\u001b[0m 22ms/step - accuracy: 0.7959 - loss: 0.3664 - val_accuracy: 0.6875 - val_loss: 0.3857\n",
      "Epoch 351/1000\n",
      "\u001b[1m9/9\u001b[0m \u001b[32m━━━━━━━━━━━━━━━━━━━━\u001b[0m\u001b[37m\u001b[0m \u001b[1m0s\u001b[0m 18ms/step - accuracy: 0.8076 - loss: 0.3814 - val_accuracy: 0.6875 - val_loss: 0.3856\n",
      "Epoch 352/1000\n",
      "\u001b[1m9/9\u001b[0m \u001b[32m━━━━━━━━━━━━━━━━━━━━\u001b[0m\u001b[37m\u001b[0m \u001b[1m0s\u001b[0m 17ms/step - accuracy: 0.7827 - loss: 0.3751 - val_accuracy: 0.6875 - val_loss: 0.3846\n",
      "Epoch 353/1000\n",
      "\u001b[1m9/9\u001b[0m \u001b[32m━━━━━━━━━━━━━━━━━━━━\u001b[0m\u001b[37m\u001b[0m \u001b[1m0s\u001b[0m 18ms/step - accuracy: 0.7989 - loss: 0.3760 - val_accuracy: 0.6875 - val_loss: 0.3840\n",
      "Epoch 354/1000\n",
      "\u001b[1m9/9\u001b[0m \u001b[32m━━━━━━━━━━━━━━━━━━━━\u001b[0m\u001b[37m\u001b[0m \u001b[1m0s\u001b[0m 16ms/step - accuracy: 0.7738 - loss: 0.3984 - val_accuracy: 0.6875 - val_loss: 0.3842\n",
      "Epoch 355/1000\n",
      "\u001b[1m9/9\u001b[0m \u001b[32m━━━━━━━━━━━━━━━━━━━━\u001b[0m\u001b[37m\u001b[0m \u001b[1m0s\u001b[0m 18ms/step - accuracy: 0.7786 - loss: 0.3965 - val_accuracy: 0.6875 - val_loss: 0.3844\n",
      "Epoch 356/1000\n",
      "\u001b[1m9/9\u001b[0m \u001b[32m━━━━━━━━━━━━━━━━━━━━\u001b[0m\u001b[37m\u001b[0m \u001b[1m0s\u001b[0m 16ms/step - accuracy: 0.7934 - loss: 0.4157 - val_accuracy: 0.6875 - val_loss: 0.3850\n",
      "Epoch 357/1000\n",
      "\u001b[1m9/9\u001b[0m \u001b[32m━━━━━━━━━━━━━━━━━━━━\u001b[0m\u001b[37m\u001b[0m \u001b[1m0s\u001b[0m 16ms/step - accuracy: 0.7876 - loss: 0.3855 - val_accuracy: 0.6875 - val_loss: 0.3843\n",
      "Epoch 358/1000\n",
      "\u001b[1m9/9\u001b[0m \u001b[32m━━━━━━━━━━━━━━━━━━━━\u001b[0m\u001b[37m\u001b[0m \u001b[1m0s\u001b[0m 20ms/step - accuracy: 0.7991 - loss: 0.3867 - val_accuracy: 0.6875 - val_loss: 0.3841\n",
      "Epoch 359/1000\n",
      "\u001b[1m9/9\u001b[0m \u001b[32m━━━━━━━━━━━━━━━━━━━━\u001b[0m\u001b[37m\u001b[0m \u001b[1m0s\u001b[0m 28ms/step - accuracy: 0.7932 - loss: 0.3824 - val_accuracy: 0.6875 - val_loss: 0.3841\n",
      "Epoch 360/1000\n",
      "\u001b[1m9/9\u001b[0m \u001b[32m━━━━━━━━━━━━━━━━━━━━\u001b[0m\u001b[37m\u001b[0m \u001b[1m0s\u001b[0m 18ms/step - accuracy: 0.7978 - loss: 0.3812 - val_accuracy: 0.6875 - val_loss: 0.3835\n",
      "Epoch 361/1000\n",
      "\u001b[1m9/9\u001b[0m \u001b[32m━━━━━━━━━━━━━━━━━━━━\u001b[0m\u001b[37m\u001b[0m \u001b[1m0s\u001b[0m 17ms/step - accuracy: 0.7434 - loss: 0.4356 - val_accuracy: 0.6875 - val_loss: 0.3832\n",
      "Epoch 362/1000\n",
      "\u001b[1m9/9\u001b[0m \u001b[32m━━━━━━━━━━━━━━━━━━━━\u001b[0m\u001b[37m\u001b[0m \u001b[1m0s\u001b[0m 23ms/step - accuracy: 0.7954 - loss: 0.3938 - val_accuracy: 0.6875 - val_loss: 0.3830\n",
      "Epoch 363/1000\n",
      "\u001b[1m9/9\u001b[0m \u001b[32m━━━━━━━━━━━━━━━━━━━━\u001b[0m\u001b[37m\u001b[0m \u001b[1m0s\u001b[0m 19ms/step - accuracy: 0.7807 - loss: 0.4155 - val_accuracy: 0.6875 - val_loss: 0.3831\n",
      "Epoch 364/1000\n",
      "\u001b[1m9/9\u001b[0m \u001b[32m━━━━━━━━━━━━━━━━━━━━\u001b[0m\u001b[37m\u001b[0m \u001b[1m0s\u001b[0m 20ms/step - accuracy: 0.7777 - loss: 0.3805 - val_accuracy: 0.6875 - val_loss: 0.3824\n",
      "Epoch 365/1000\n",
      "\u001b[1m9/9\u001b[0m \u001b[32m━━━━━━━━━━━━━━━━━━━━\u001b[0m\u001b[37m\u001b[0m \u001b[1m0s\u001b[0m 17ms/step - accuracy: 0.7684 - loss: 0.3894 - val_accuracy: 0.6875 - val_loss: 0.3814\n",
      "Epoch 366/1000\n",
      "\u001b[1m9/9\u001b[0m \u001b[32m━━━━━━━━━━━━━━━━━━━━\u001b[0m\u001b[37m\u001b[0m \u001b[1m0s\u001b[0m 21ms/step - accuracy: 0.7847 - loss: 0.4007 - val_accuracy: 0.6875 - val_loss: 0.3819\n",
      "Epoch 367/1000\n",
      "\u001b[1m9/9\u001b[0m \u001b[32m━━━━━━━━━━━━━━━━━━━━\u001b[0m\u001b[37m\u001b[0m \u001b[1m0s\u001b[0m 24ms/step - accuracy: 0.7895 - loss: 0.3787 - val_accuracy: 0.6875 - val_loss: 0.3808\n",
      "Epoch 368/1000\n",
      "\u001b[1m9/9\u001b[0m \u001b[32m━━━━━━━━━━━━━━━━━━━━\u001b[0m\u001b[37m\u001b[0m \u001b[1m0s\u001b[0m 22ms/step - accuracy: 0.7788 - loss: 0.4180 - val_accuracy: 0.6875 - val_loss: 0.3807\n",
      "Epoch 369/1000\n",
      "\u001b[1m9/9\u001b[0m \u001b[32m━━━━━━━━━━━━━━━━━━━━\u001b[0m\u001b[37m\u001b[0m \u001b[1m0s\u001b[0m 17ms/step - accuracy: 0.8004 - loss: 0.3521 - val_accuracy: 0.6875 - val_loss: 0.3812\n",
      "Epoch 370/1000\n",
      "\u001b[1m9/9\u001b[0m \u001b[32m━━━━━━━━━━━━━━━━━━━━\u001b[0m\u001b[37m\u001b[0m \u001b[1m0s\u001b[0m 20ms/step - accuracy: 0.7691 - loss: 0.3769 - val_accuracy: 0.6875 - val_loss: 0.3813\n",
      "Epoch 371/1000\n",
      "\u001b[1m9/9\u001b[0m \u001b[32m━━━━━━━━━━━━━━━━━━━━\u001b[0m\u001b[37m\u001b[0m \u001b[1m0s\u001b[0m 17ms/step - accuracy: 0.7721 - loss: 0.3819 - val_accuracy: 0.6875 - val_loss: 0.3812\n",
      "Epoch 372/1000\n",
      "\u001b[1m9/9\u001b[0m \u001b[32m━━━━━━━━━━━━━━━━━━━━\u001b[0m\u001b[37m\u001b[0m \u001b[1m0s\u001b[0m 16ms/step - accuracy: 0.7769 - loss: 0.3949 - val_accuracy: 0.6875 - val_loss: 0.3808\n",
      "Epoch 373/1000\n",
      "\u001b[1m9/9\u001b[0m \u001b[32m━━━━━━━━━━━━━━━━━━━━\u001b[0m\u001b[37m\u001b[0m \u001b[1m0s\u001b[0m 16ms/step - accuracy: 0.7566 - loss: 0.4132 - val_accuracy: 0.6875 - val_loss: 0.3814\n",
      "Epoch 374/1000\n",
      "\u001b[1m9/9\u001b[0m \u001b[32m━━━━━━━━━━━━━━━━━━━━\u001b[0m\u001b[37m\u001b[0m \u001b[1m0s\u001b[0m 16ms/step - accuracy: 0.7937 - loss: 0.4109 - val_accuracy: 0.6875 - val_loss: 0.3811\n",
      "Epoch 375/1000\n",
      "\u001b[1m9/9\u001b[0m \u001b[32m━━━━━━━━━━━━━━━━━━━━\u001b[0m\u001b[37m\u001b[0m \u001b[1m0s\u001b[0m 27ms/step - accuracy: 0.8202 - loss: 0.3468 - val_accuracy: 0.6875 - val_loss: 0.3805\n",
      "Epoch 376/1000\n",
      "\u001b[1m9/9\u001b[0m \u001b[32m━━━━━━━━━━━━━━━━━━━━\u001b[0m\u001b[37m\u001b[0m \u001b[1m0s\u001b[0m 20ms/step - accuracy: 0.8013 - loss: 0.3872 - val_accuracy: 0.6875 - val_loss: 0.3810\n",
      "Epoch 377/1000\n",
      "\u001b[1m9/9\u001b[0m \u001b[32m━━━━━━━━━━━━━━━━━━━━\u001b[0m\u001b[37m\u001b[0m \u001b[1m0s\u001b[0m 18ms/step - accuracy: 0.8005 - loss: 0.3724 - val_accuracy: 0.6875 - val_loss: 0.3812\n",
      "Epoch 378/1000\n",
      "\u001b[1m9/9\u001b[0m \u001b[32m━━━━━━━━━━━━━━━━━━━━\u001b[0m\u001b[37m\u001b[0m \u001b[1m0s\u001b[0m 20ms/step - accuracy: 0.8156 - loss: 0.3830 - val_accuracy: 0.6875 - val_loss: 0.3800\n",
      "Epoch 379/1000\n",
      "\u001b[1m9/9\u001b[0m \u001b[32m━━━━━━━━━━━━━━━━━━━━\u001b[0m\u001b[37m\u001b[0m \u001b[1m0s\u001b[0m 18ms/step - accuracy: 0.7876 - loss: 0.4169 - val_accuracy: 0.6875 - val_loss: 0.3808\n",
      "Epoch 380/1000\n",
      "\u001b[1m9/9\u001b[0m \u001b[32m━━━━━━━━━━━━━━━━━━━━\u001b[0m\u001b[37m\u001b[0m \u001b[1m0s\u001b[0m 18ms/step - accuracy: 0.8208 - loss: 0.3524 - val_accuracy: 0.6875 - val_loss: 0.3794\n",
      "Epoch 381/1000\n",
      "\u001b[1m9/9\u001b[0m \u001b[32m━━━━━━━━━━━━━━━━━━━━\u001b[0m\u001b[37m\u001b[0m \u001b[1m0s\u001b[0m 13ms/step - accuracy: 0.7893 - loss: 0.3987 - val_accuracy: 0.6875 - val_loss: 0.3784\n",
      "Epoch 382/1000\n",
      "\u001b[1m9/9\u001b[0m \u001b[32m━━━━━━━━━━━━━━━━━━━━\u001b[0m\u001b[37m\u001b[0m \u001b[1m0s\u001b[0m 15ms/step - accuracy: 0.7732 - loss: 0.4179 - val_accuracy: 0.6875 - val_loss: 0.3782\n",
      "Epoch 383/1000\n",
      "\u001b[1m9/9\u001b[0m \u001b[32m━━━━━━━━━━━━━━━━━━━━\u001b[0m\u001b[37m\u001b[0m \u001b[1m0s\u001b[0m 15ms/step - accuracy: 0.7924 - loss: 0.3965 - val_accuracy: 0.6875 - val_loss: 0.3785\n",
      "Epoch 384/1000\n",
      "\u001b[1m9/9\u001b[0m \u001b[32m━━━━━━━━━━━━━━━━━━━━\u001b[0m\u001b[37m\u001b[0m \u001b[1m0s\u001b[0m 16ms/step - accuracy: 0.7892 - loss: 0.3817 - val_accuracy: 0.6875 - val_loss: 0.3779\n",
      "Epoch 385/1000\n",
      "\u001b[1m9/9\u001b[0m \u001b[32m━━━━━━━━━━━━━━━━━━━━\u001b[0m\u001b[37m\u001b[0m \u001b[1m0s\u001b[0m 24ms/step - accuracy: 0.7868 - loss: 0.4069 - val_accuracy: 0.6875 - val_loss: 0.3783\n",
      "Epoch 386/1000\n",
      "\u001b[1m9/9\u001b[0m \u001b[32m━━━━━━━━━━━━━━━━━━━━\u001b[0m\u001b[37m\u001b[0m \u001b[1m0s\u001b[0m 16ms/step - accuracy: 0.7748 - loss: 0.3995 - val_accuracy: 0.6875 - val_loss: 0.3786\n",
      "Epoch 387/1000\n",
      "\u001b[1m9/9\u001b[0m \u001b[32m━━━━━━━━━━━━━━━━━━━━\u001b[0m\u001b[37m\u001b[0m \u001b[1m0s\u001b[0m 14ms/step - accuracy: 0.7768 - loss: 0.4036 - val_accuracy: 0.6875 - val_loss: 0.3782\n",
      "Epoch 388/1000\n",
      "\u001b[1m9/9\u001b[0m \u001b[32m━━━━━━━━━━━━━━━━━━━━\u001b[0m\u001b[37m\u001b[0m \u001b[1m0s\u001b[0m 16ms/step - accuracy: 0.8031 - loss: 0.3650 - val_accuracy: 0.6875 - val_loss: 0.3775\n",
      "Epoch 389/1000\n",
      "\u001b[1m9/9\u001b[0m \u001b[32m━━━━━━━━━━━━━━━━━━━━\u001b[0m\u001b[37m\u001b[0m \u001b[1m0s\u001b[0m 15ms/step - accuracy: 0.7747 - loss: 0.3844 - val_accuracy: 0.6875 - val_loss: 0.3778\n",
      "Epoch 390/1000\n",
      "\u001b[1m9/9\u001b[0m \u001b[32m━━━━━━━━━━━━━━━━━━━━\u001b[0m\u001b[37m\u001b[0m \u001b[1m0s\u001b[0m 14ms/step - accuracy: 0.7853 - loss: 0.4052 - val_accuracy: 0.6875 - val_loss: 0.3773\n",
      "Epoch 391/1000\n",
      "\u001b[1m9/9\u001b[0m \u001b[32m━━━━━━━━━━━━━━━━━━━━\u001b[0m\u001b[37m\u001b[0m \u001b[1m0s\u001b[0m 16ms/step - accuracy: 0.7853 - loss: 0.3853 - val_accuracy: 0.6875 - val_loss: 0.3771\n",
      "Epoch 392/1000\n",
      "\u001b[1m9/9\u001b[0m \u001b[32m━━━━━━━━━━━━━━━━━━━━\u001b[0m\u001b[37m\u001b[0m \u001b[1m0s\u001b[0m 15ms/step - accuracy: 0.8095 - loss: 0.3712 - val_accuracy: 0.6875 - val_loss: 0.3762\n",
      "Epoch 393/1000\n",
      "\u001b[1m9/9\u001b[0m \u001b[32m━━━━━━━━━━━━━━━━━━━━\u001b[0m\u001b[37m\u001b[0m \u001b[1m0s\u001b[0m 18ms/step - accuracy: 0.7856 - loss: 0.4225 - val_accuracy: 0.6875 - val_loss: 0.3773\n",
      "Epoch 394/1000\n",
      "\u001b[1m9/9\u001b[0m \u001b[32m━━━━━━━━━━━━━━━━━━━━\u001b[0m\u001b[37m\u001b[0m \u001b[1m0s\u001b[0m 14ms/step - accuracy: 0.7790 - loss: 0.4180 - val_accuracy: 0.6875 - val_loss: 0.3770\n",
      "Epoch 395/1000\n",
      "\u001b[1m9/9\u001b[0m \u001b[32m━━━━━━━━━━━━━━━━━━━━\u001b[0m\u001b[37m\u001b[0m \u001b[1m0s\u001b[0m 15ms/step - accuracy: 0.8255 - loss: 0.3706 - val_accuracy: 0.6875 - val_loss: 0.3777\n",
      "Epoch 396/1000\n",
      "\u001b[1m9/9\u001b[0m \u001b[32m━━━━━━━━━━━━━━━━━━━━\u001b[0m\u001b[37m\u001b[0m \u001b[1m0s\u001b[0m 15ms/step - accuracy: 0.7767 - loss: 0.3876 - val_accuracy: 0.6875 - val_loss: 0.3753\n",
      "Epoch 397/1000\n",
      "\u001b[1m9/9\u001b[0m \u001b[32m━━━━━━━━━━━━━━━━━━━━\u001b[0m\u001b[37m\u001b[0m \u001b[1m0s\u001b[0m 24ms/step - accuracy: 0.8109 - loss: 0.3755 - val_accuracy: 0.6875 - val_loss: 0.3759\n",
      "Epoch 398/1000\n",
      "\u001b[1m9/9\u001b[0m \u001b[32m━━━━━━━━━━━━━━━━━━━━\u001b[0m\u001b[37m\u001b[0m \u001b[1m0s\u001b[0m 16ms/step - accuracy: 0.8076 - loss: 0.3817 - val_accuracy: 0.6875 - val_loss: 0.3763\n",
      "Epoch 399/1000\n",
      "\u001b[1m9/9\u001b[0m \u001b[32m━━━━━━━━━━━━━━━━━━━━\u001b[0m\u001b[37m\u001b[0m \u001b[1m0s\u001b[0m 15ms/step - accuracy: 0.7727 - loss: 0.4106 - val_accuracy: 0.6875 - val_loss: 0.3752\n",
      "Epoch 400/1000\n",
      "\u001b[1m9/9\u001b[0m \u001b[32m━━━━━━━━━━━━━━━━━━━━\u001b[0m\u001b[37m\u001b[0m \u001b[1m0s\u001b[0m 16ms/step - accuracy: 0.7874 - loss: 0.4186 - val_accuracy: 0.6875 - val_loss: 0.3751\n",
      "Epoch 401/1000\n",
      "\u001b[1m9/9\u001b[0m \u001b[32m━━━━━━━━━━━━━━━━━━━━\u001b[0m\u001b[37m\u001b[0m \u001b[1m0s\u001b[0m 17ms/step - accuracy: 0.8034 - loss: 0.3615 - val_accuracy: 0.6875 - val_loss: 0.3755\n",
      "Epoch 402/1000\n",
      "\u001b[1m9/9\u001b[0m \u001b[32m━━━━━━━━━━━━━━━━━━━━\u001b[0m\u001b[37m\u001b[0m \u001b[1m0s\u001b[0m 15ms/step - accuracy: 0.7788 - loss: 0.3933 - val_accuracy: 0.6875 - val_loss: 0.3750\n",
      "Epoch 403/1000\n",
      "\u001b[1m9/9\u001b[0m \u001b[32m━━━━━━━━━━━━━━━━━━━━\u001b[0m\u001b[37m\u001b[0m \u001b[1m0s\u001b[0m 16ms/step - accuracy: 0.7952 - loss: 0.3905 - val_accuracy: 0.6875 - val_loss: 0.3756\n",
      "Epoch 404/1000\n",
      "\u001b[1m9/9\u001b[0m \u001b[32m━━━━━━━━━━━━━━━━━━━━\u001b[0m\u001b[37m\u001b[0m \u001b[1m0s\u001b[0m 15ms/step - accuracy: 0.7947 - loss: 0.3954 - val_accuracy: 0.6875 - val_loss: 0.3754\n",
      "Epoch 405/1000\n",
      "\u001b[1m9/9\u001b[0m \u001b[32m━━━━━━━━━━━━━━━━━━━━\u001b[0m\u001b[37m\u001b[0m \u001b[1m0s\u001b[0m 15ms/step - accuracy: 0.7855 - loss: 0.3830 - val_accuracy: 0.6875 - val_loss: 0.3737\n",
      "Epoch 406/1000\n",
      "\u001b[1m9/9\u001b[0m \u001b[32m━━━━━━━━━━━━━━━━━━━━\u001b[0m\u001b[37m\u001b[0m \u001b[1m0s\u001b[0m 15ms/step - accuracy: 0.7785 - loss: 0.4057 - val_accuracy: 0.6875 - val_loss: 0.3731\n",
      "Epoch 407/1000\n",
      "\u001b[1m9/9\u001b[0m \u001b[32m━━━━━━━━━━━━━━━━━━━━\u001b[0m\u001b[37m\u001b[0m \u001b[1m0s\u001b[0m 14ms/step - accuracy: 0.7916 - loss: 0.3700 - val_accuracy: 0.6875 - val_loss: 0.3743\n",
      "Epoch 408/1000\n",
      "\u001b[1m9/9\u001b[0m \u001b[32m━━━━━━━━━━━━━━━━━━━━\u001b[0m\u001b[37m\u001b[0m \u001b[1m0s\u001b[0m 24ms/step - accuracy: 0.7965 - loss: 0.3741 - val_accuracy: 0.6875 - val_loss: 0.3756\n",
      "Epoch 409/1000\n",
      "\u001b[1m9/9\u001b[0m \u001b[32m━━━━━━━━━━━━━━━━━━━━\u001b[0m\u001b[37m\u001b[0m \u001b[1m0s\u001b[0m 17ms/step - accuracy: 0.8065 - loss: 0.3815 - val_accuracy: 0.6875 - val_loss: 0.3743\n",
      "Epoch 410/1000\n",
      "\u001b[1m9/9\u001b[0m \u001b[32m━━━━━━━━━━━━━━━━━━━━\u001b[0m\u001b[37m\u001b[0m \u001b[1m0s\u001b[0m 14ms/step - accuracy: 0.7805 - loss: 0.3844 - val_accuracy: 0.6875 - val_loss: 0.3734\n",
      "Epoch 411/1000\n",
      "\u001b[1m9/9\u001b[0m \u001b[32m━━━━━━━━━━━━━━━━━━━━\u001b[0m\u001b[37m\u001b[0m \u001b[1m0s\u001b[0m 14ms/step - accuracy: 0.7681 - loss: 0.4151 - val_accuracy: 0.6875 - val_loss: 0.3733\n",
      "Epoch 412/1000\n",
      "\u001b[1m9/9\u001b[0m \u001b[32m━━━━━━━━━━━━━━━━━━━━\u001b[0m\u001b[37m\u001b[0m \u001b[1m0s\u001b[0m 15ms/step - accuracy: 0.7773 - loss: 0.3841 - val_accuracy: 0.6875 - val_loss: 0.3735\n",
      "Epoch 413/1000\n",
      "\u001b[1m9/9\u001b[0m \u001b[32m━━━━━━━━━━━━━━━━━━━━\u001b[0m\u001b[37m\u001b[0m \u001b[1m0s\u001b[0m 14ms/step - accuracy: 0.7929 - loss: 0.3836 - val_accuracy: 0.6875 - val_loss: 0.3737\n",
      "Epoch 414/1000\n",
      "\u001b[1m9/9\u001b[0m \u001b[32m━━━━━━━━━━━━━━━━━━━━\u001b[0m\u001b[37m\u001b[0m \u001b[1m0s\u001b[0m 13ms/step - accuracy: 0.8122 - loss: 0.3766 - val_accuracy: 0.6875 - val_loss: 0.3746\n",
      "Epoch 415/1000\n",
      "\u001b[1m9/9\u001b[0m \u001b[32m━━━━━━━━━━━━━━━━━━━━\u001b[0m\u001b[37m\u001b[0m \u001b[1m0s\u001b[0m 15ms/step - accuracy: 0.7871 - loss: 0.4002 - val_accuracy: 0.6875 - val_loss: 0.3734\n",
      "Epoch 416/1000\n",
      "\u001b[1m9/9\u001b[0m \u001b[32m━━━━━━━━━━━━━━━━━━━━\u001b[0m\u001b[37m\u001b[0m \u001b[1m0s\u001b[0m 15ms/step - accuracy: 0.7977 - loss: 0.3957 - val_accuracy: 0.6875 - val_loss: 0.3725\n",
      "Epoch 417/1000\n",
      "\u001b[1m9/9\u001b[0m \u001b[32m━━━━━━━━━━━━━━━━━━━━\u001b[0m\u001b[37m\u001b[0m \u001b[1m0s\u001b[0m 17ms/step - accuracy: 0.8269 - loss: 0.3576 - val_accuracy: 0.6875 - val_loss: 0.3724\n",
      "Epoch 418/1000\n",
      "\u001b[1m9/9\u001b[0m \u001b[32m━━━━━━━━━━━━━━━━━━━━\u001b[0m\u001b[37m\u001b[0m \u001b[1m0s\u001b[0m 17ms/step - accuracy: 0.8200 - loss: 0.3566 - val_accuracy: 0.6875 - val_loss: 0.3724\n",
      "Epoch 419/1000\n",
      "\u001b[1m9/9\u001b[0m \u001b[32m━━━━━━━━━━━━━━━━━━━━\u001b[0m\u001b[37m\u001b[0m \u001b[1m0s\u001b[0m 14ms/step - accuracy: 0.8015 - loss: 0.3748 - val_accuracy: 0.6875 - val_loss: 0.3723\n",
      "Epoch 420/1000\n",
      "\u001b[1m9/9\u001b[0m \u001b[32m━━━━━━━━━━━━━━━━━━━━\u001b[0m\u001b[37m\u001b[0m \u001b[1m0s\u001b[0m 16ms/step - accuracy: 0.7623 - loss: 0.4282 - val_accuracy: 0.6875 - val_loss: 0.3711\n",
      "Epoch 421/1000\n",
      "\u001b[1m9/9\u001b[0m \u001b[32m━━━━━━━━━━━━━━━━━━━━\u001b[0m\u001b[37m\u001b[0m \u001b[1m0s\u001b[0m 16ms/step - accuracy: 0.7852 - loss: 0.4020 - val_accuracy: 0.6875 - val_loss: 0.3719\n",
      "Epoch 422/1000\n",
      "\u001b[1m9/9\u001b[0m \u001b[32m━━━━━━━━━━━━━━━━━━━━\u001b[0m\u001b[37m\u001b[0m \u001b[1m0s\u001b[0m 16ms/step - accuracy: 0.8168 - loss: 0.3680 - val_accuracy: 0.6875 - val_loss: 0.3726\n",
      "Epoch 423/1000\n",
      "\u001b[1m9/9\u001b[0m \u001b[32m━━━━━━━━━━━━━━━━━━━━\u001b[0m\u001b[37m\u001b[0m \u001b[1m0s\u001b[0m 16ms/step - accuracy: 0.8024 - loss: 0.3910 - val_accuracy: 0.6875 - val_loss: 0.3727\n",
      "Epoch 424/1000\n",
      "\u001b[1m9/9\u001b[0m \u001b[32m━━━━━━━━━━━━━━━━━━━━\u001b[0m\u001b[37m\u001b[0m \u001b[1m0s\u001b[0m 17ms/step - accuracy: 0.7659 - loss: 0.4068 - val_accuracy: 0.6875 - val_loss: 0.3716\n",
      "Epoch 425/1000\n",
      "\u001b[1m9/9\u001b[0m \u001b[32m━━━━━━━━━━━━━━━━━━━━\u001b[0m\u001b[37m\u001b[0m \u001b[1m0s\u001b[0m 14ms/step - accuracy: 0.8002 - loss: 0.3649 - val_accuracy: 0.6875 - val_loss: 0.3717\n",
      "Epoch 426/1000\n",
      "\u001b[1m9/9\u001b[0m \u001b[32m━━━━━━━━━━━━━━━━━━━━\u001b[0m\u001b[37m\u001b[0m \u001b[1m0s\u001b[0m 24ms/step - accuracy: 0.7913 - loss: 0.3837 - val_accuracy: 0.6875 - val_loss: 0.3716\n",
      "Epoch 427/1000\n",
      "\u001b[1m9/9\u001b[0m \u001b[32m━━━━━━━━━━━━━━━━━━━━\u001b[0m\u001b[37m\u001b[0m \u001b[1m0s\u001b[0m 16ms/step - accuracy: 0.7850 - loss: 0.3846 - val_accuracy: 0.6875 - val_loss: 0.3691\n",
      "Epoch 428/1000\n",
      "\u001b[1m9/9\u001b[0m \u001b[32m━━━━━━━━━━━━━━━━━━━━\u001b[0m\u001b[37m\u001b[0m \u001b[1m0s\u001b[0m 15ms/step - accuracy: 0.7805 - loss: 0.4065 - val_accuracy: 0.6875 - val_loss: 0.3711\n",
      "Epoch 429/1000\n",
      "\u001b[1m9/9\u001b[0m \u001b[32m━━━━━━━━━━━━━━━━━━━━\u001b[0m\u001b[37m\u001b[0m \u001b[1m0s\u001b[0m 15ms/step - accuracy: 0.7859 - loss: 0.3922 - val_accuracy: 0.6875 - val_loss: 0.3698\n",
      "Epoch 430/1000\n",
      "\u001b[1m9/9\u001b[0m \u001b[32m━━━━━━━━━━━━━━━━━━━━\u001b[0m\u001b[37m\u001b[0m \u001b[1m0s\u001b[0m 14ms/step - accuracy: 0.7998 - loss: 0.4019 - val_accuracy: 0.6875 - val_loss: 0.3712\n",
      "Epoch 431/1000\n",
      "\u001b[1m9/9\u001b[0m \u001b[32m━━━━━━━━━━━━━━━━━━━━\u001b[0m\u001b[37m\u001b[0m \u001b[1m0s\u001b[0m 15ms/step - accuracy: 0.7746 - loss: 0.3907 - val_accuracy: 0.6875 - val_loss: 0.3700\n",
      "Epoch 432/1000\n",
      "\u001b[1m9/9\u001b[0m \u001b[32m━━━━━━━━━━━━━━━━━━━━\u001b[0m\u001b[37m\u001b[0m \u001b[1m0s\u001b[0m 16ms/step - accuracy: 0.7485 - loss: 0.4127 - val_accuracy: 0.6875 - val_loss: 0.3695\n",
      "Epoch 433/1000\n",
      "\u001b[1m9/9\u001b[0m \u001b[32m━━━━━━━━━━━━━━━━━━━━\u001b[0m\u001b[37m\u001b[0m \u001b[1m0s\u001b[0m 14ms/step - accuracy: 0.8312 - loss: 0.3419 - val_accuracy: 0.6875 - val_loss: 0.3701\n",
      "Epoch 434/1000\n",
      "\u001b[1m9/9\u001b[0m \u001b[32m━━━━━━━━━━━━━━━━━━━━\u001b[0m\u001b[37m\u001b[0m \u001b[1m0s\u001b[0m 16ms/step - accuracy: 0.7932 - loss: 0.3713 - val_accuracy: 0.6875 - val_loss: 0.3709\n",
      "Epoch 435/1000\n",
      "\u001b[1m9/9\u001b[0m \u001b[32m━━━━━━━━━━━━━━━━━━━━\u001b[0m\u001b[37m\u001b[0m \u001b[1m0s\u001b[0m 22ms/step - accuracy: 0.8022 - loss: 0.3569 - val_accuracy: 0.6875 - val_loss: 0.3697\n",
      "Epoch 436/1000\n",
      "\u001b[1m9/9\u001b[0m \u001b[32m━━━━━━━━━━━━━━━━━━━━\u001b[0m\u001b[37m\u001b[0m \u001b[1m0s\u001b[0m 15ms/step - accuracy: 0.7811 - loss: 0.4039 - val_accuracy: 0.6875 - val_loss: 0.3694\n",
      "Epoch 437/1000\n",
      "\u001b[1m9/9\u001b[0m \u001b[32m━━━━━━━━━━━━━━━━━━━━\u001b[0m\u001b[37m\u001b[0m \u001b[1m0s\u001b[0m 15ms/step - accuracy: 0.8201 - loss: 0.3646 - val_accuracy: 0.6875 - val_loss: 0.3700\n"
     ]
    },
    {
     "data": {
      "text/plain": [
       "<keras.src.callbacks.history.History at 0x25677a03cd0>"
      ]
     },
     "execution_count": 4,
     "metadata": {},
     "output_type": "execute_result"
    }
   ],
   "source": [
    "# lstm architecture\n",
    "model = Sequential()\n",
    "input_shape = pp.get_shape()\n",
    "# First LSTM layer\n",
    "if lstm_layers > 1:\n",
    "    model.add(LSTM(lstm_units_per_layer, input_shape=input_shape, return_sequences=True))\n",
    "else:\n",
    "    model.add(LSTM(lstm_units_per_layer, input_shape=input_shape))  # single layer, no sequences returned\n",
    "# Intermediate LSTM layers (if any)\n",
    "for i in range(lstm_layers - 2):\n",
    "    model.add(LSTM(lstm_units_per_layer, return_sequences=True))\n",
    "# Last LSTM layer (no return_sequences, output fed into Dense)\n",
    "if lstm_layers > 1:\n",
    "    model.add(LSTM(lstm_units_per_layer))\n",
    "# Dense Layer\n",
    "num_classes = len(set(y_train))\n",
    "model.add(Dense(num_classes, activation='softmax'))\n",
    "# compile the model\n",
    "model.compile(optimizer=optimizer, loss='sparse_categorical_crossentropy', \n",
    "              metrics=['accuracy'])\n",
    "\n",
    "\n",
    "# train the model\n",
    "early_stopping = EarlyStopping(monitor=early_stopping_monitor, \n",
    "                               patience=early_stopping_patience, \n",
    "                               restore_best_weights=early_stopping_restore_best)\n",
    "model.fit(X_train, y_train, epochs=epochs, batch_size=batch_size, validation_split=validation_split, callbacks=[early_stopping])\n"
   ]
  },
  {
   "cell_type": "markdown",
   "id": "a5b1fd8d",
   "metadata": {},
   "source": [
    "Optionally save the weights of the model"
   ]
  },
  {
   "cell_type": "code",
   "execution_count": 5,
   "id": "dce5aa3f",
   "metadata": {},
   "outputs": [
    {
     "name": "stderr",
     "output_type": "stream",
     "text": [
      "WARNING:absl:You are saving your model as an HDF5 file via `model.save()` or `keras.saving.save_model(model)`. This file format is considered legacy. We recommend using instead the native Keras format, e.g. `model.save('my_model.keras')` or `keras.saving.save_model(model, 'my_model.keras')`. \n"
     ]
    }
   ],
   "source": [
    "filename = f\"lstm_{lstm_layers}x{lstm_units_per_layer}_drop{dropout}_rec{recurrent_dropout}_enc{message_encoder.__class__.__name__.lower()}_{logs_per_class}logs_win{window_size}_lr{learning_rate}_bs{batch_size}_ep{epochs}_{early_stopping_monitor}_{datetime.now().strftime('%Y%m%d_%H%M%S')}\"\n",
    "model.save(f\"{filename}.h5\")"
   ]
  },
  {
   "cell_type": "markdown",
   "id": "52041822",
   "metadata": {},
   "source": [
    "Evaluate model and print scores"
   ]
  },
  {
   "cell_type": "code",
   "execution_count": 6,
   "id": "80f7ba17",
   "metadata": {},
   "outputs": [
    {
     "data": {
      "text/html": [
       "<pre style=\"white-space:pre;overflow-x:auto;line-height:normal;font-family:Menlo,'DejaVu Sans Mono',consolas,'Courier New',monospace\"><span style=\"font-weight: bold\">Model: \"sequential\"</span>\n",
       "</pre>\n"
      ],
      "text/plain": [
       "\u001b[1mModel: \"sequential\"\u001b[0m\n"
      ]
     },
     "metadata": {},
     "output_type": "display_data"
    },
    {
     "data": {
      "text/html": [
       "<pre style=\"white-space:pre;overflow-x:auto;line-height:normal;font-family:Menlo,'DejaVu Sans Mono',consolas,'Courier New',monospace\">┏━━━━━━━━━━━━━━━━━━━━━━━━━━━━━━━━━┳━━━━━━━━━━━━━━━━━━━━━━━━┳━━━━━━━━━━━━━━━┓\n",
       "┃<span style=\"font-weight: bold\"> Layer (type)                    </span>┃<span style=\"font-weight: bold\"> Output Shape           </span>┃<span style=\"font-weight: bold\">       Param # </span>┃\n",
       "┡━━━━━━━━━━━━━━━━━━━━━━━━━━━━━━━━━╇━━━━━━━━━━━━━━━━━━━━━━━━╇━━━━━━━━━━━━━━━┩\n",
       "│ lstm (<span style=\"color: #0087ff; text-decoration-color: #0087ff\">LSTM</span>)                     │ (<span style=\"color: #00d7ff; text-decoration-color: #00d7ff\">None</span>, <span style=\"color: #00af00; text-decoration-color: #00af00\">50</span>)             │        <span style=\"color: #00af00; text-decoration-color: #00af00\">14,200</span> │\n",
       "├─────────────────────────────────┼────────────────────────┼───────────────┤\n",
       "│ dense (<span style=\"color: #0087ff; text-decoration-color: #0087ff\">Dense</span>)                   │ (<span style=\"color: #00d7ff; text-decoration-color: #00d7ff\">None</span>, <span style=\"color: #00af00; text-decoration-color: #00af00\">4</span>)              │           <span style=\"color: #00af00; text-decoration-color: #00af00\">204</span> │\n",
       "└─────────────────────────────────┴────────────────────────┴───────────────┘\n",
       "</pre>\n"
      ],
      "text/plain": [
       "┏━━━━━━━━━━━━━━━━━━━━━━━━━━━━━━━━━┳━━━━━━━━━━━━━━━━━━━━━━━━┳━━━━━━━━━━━━━━━┓\n",
       "┃\u001b[1m \u001b[0m\u001b[1mLayer (type)                   \u001b[0m\u001b[1m \u001b[0m┃\u001b[1m \u001b[0m\u001b[1mOutput Shape          \u001b[0m\u001b[1m \u001b[0m┃\u001b[1m \u001b[0m\u001b[1m      Param #\u001b[0m\u001b[1m \u001b[0m┃\n",
       "┡━━━━━━━━━━━━━━━━━━━━━━━━━━━━━━━━━╇━━━━━━━━━━━━━━━━━━━━━━━━╇━━━━━━━━━━━━━━━┩\n",
       "│ lstm (\u001b[38;5;33mLSTM\u001b[0m)                     │ (\u001b[38;5;45mNone\u001b[0m, \u001b[38;5;34m50\u001b[0m)             │        \u001b[38;5;34m14,200\u001b[0m │\n",
       "├─────────────────────────────────┼────────────────────────┼───────────────┤\n",
       "│ dense (\u001b[38;5;33mDense\u001b[0m)                   │ (\u001b[38;5;45mNone\u001b[0m, \u001b[38;5;34m4\u001b[0m)              │           \u001b[38;5;34m204\u001b[0m │\n",
       "└─────────────────────────────────┴────────────────────────┴───────────────┘\n"
      ]
     },
     "metadata": {},
     "output_type": "display_data"
    },
    {
     "data": {
      "text/html": [
       "<pre style=\"white-space:pre;overflow-x:auto;line-height:normal;font-family:Menlo,'DejaVu Sans Mono',consolas,'Courier New',monospace\"><span style=\"font-weight: bold\"> Total params: </span><span style=\"color: #00af00; text-decoration-color: #00af00\">43,214</span> (168.81 KB)\n",
       "</pre>\n"
      ],
      "text/plain": [
       "\u001b[1m Total params: \u001b[0m\u001b[38;5;34m43,214\u001b[0m (168.81 KB)\n"
      ]
     },
     "metadata": {},
     "output_type": "display_data"
    },
    {
     "data": {
      "text/html": [
       "<pre style=\"white-space:pre;overflow-x:auto;line-height:normal;font-family:Menlo,'DejaVu Sans Mono',consolas,'Courier New',monospace\"><span style=\"font-weight: bold\"> Trainable params: </span><span style=\"color: #00af00; text-decoration-color: #00af00\">14,404</span> (56.27 KB)\n",
       "</pre>\n"
      ],
      "text/plain": [
       "\u001b[1m Trainable params: \u001b[0m\u001b[38;5;34m14,404\u001b[0m (56.27 KB)\n"
      ]
     },
     "metadata": {},
     "output_type": "display_data"
    },
    {
     "data": {
      "text/html": [
       "<pre style=\"white-space:pre;overflow-x:auto;line-height:normal;font-family:Menlo,'DejaVu Sans Mono',consolas,'Courier New',monospace\"><span style=\"font-weight: bold\"> Non-trainable params: </span><span style=\"color: #00af00; text-decoration-color: #00af00\">0</span> (0.00 B)\n",
       "</pre>\n"
      ],
      "text/plain": [
       "\u001b[1m Non-trainable params: \u001b[0m\u001b[38;5;34m0\u001b[0m (0.00 B)\n"
      ]
     },
     "metadata": {},
     "output_type": "display_data"
    },
    {
     "data": {
      "text/html": [
       "<pre style=\"white-space:pre;overflow-x:auto;line-height:normal;font-family:Menlo,'DejaVu Sans Mono',consolas,'Courier New',monospace\"><span style=\"font-weight: bold\"> Optimizer params: </span><span style=\"color: #00af00; text-decoration-color: #00af00\">28,810</span> (112.54 KB)\n",
       "</pre>\n"
      ],
      "text/plain": [
       "\u001b[1m Optimizer params: \u001b[0m\u001b[38;5;34m28,810\u001b[0m (112.54 KB)\n"
      ]
     },
     "metadata": {},
     "output_type": "display_data"
    },
    {
     "name": "stdout",
     "output_type": "stream",
     "text": [
      "loss: 0.4246\n",
      "compile_metrics: 0.7625\n",
      "\u001b[1m3/3\u001b[0m \u001b[32m━━━━━━━━━━━━━━━━━━━━\u001b[0m\u001b[37m\u001b[0m \u001b[1m0s\u001b[0m 124ms/step\n",
      "\n",
      "Classification Report:\n",
      "              precision    recall  f1-score   support\n",
      "\n",
      "           0       1.00      1.00      1.00        20\n",
      "           1       0.54      0.65      0.59        20\n",
      "           2       0.53      0.40      0.46        20\n",
      "           3       0.95      1.00      0.98        20\n",
      "\n",
      "    accuracy                           0.76        80\n",
      "   macro avg       0.76      0.76      0.76        80\n",
      "weighted avg       0.76      0.76      0.76        80\n",
      "\n",
      "F1 Score (weighted): 0.7559\n"
     ]
    },
    {
     "data": {
      "image/png": "[encoded data removed]",
      "text/plain": [
       "<Figure size 1000x800 with 2 Axes>"
      ]
     },
     "metadata": {},
     "output_type": "display_data"
    }
   ],
   "source": [
    "# Summary of the model\n",
    "model.summary()\n",
    "\n",
    "# Evaluate the model on test data\n",
    "results = model.evaluate(X_test, y_test, verbose=0)\n",
    "for name, value in zip(model.metrics_names, results):\n",
    "    print(f\"{name}: {value:.4f}\")\n",
    "\n",
    "# Predictions\n",
    "predictions = model.predict(X_test)\n",
    "y_pred = np.argmax(predictions, axis=1)\n",
    "\n",
    "# Classification report and F1 score\n",
    "print(\"\\nClassification Report:\")\n",
    "print(classification_report(y_test, y_pred))\n",
    "\n",
    "f1 = f1_score(y_test, y_pred, average='weighted')\n",
    "print(f\"F1 Score (weighted): {f1:.4f}\")\n",
    "\n",
    "# Confusion matrix\n",
    "conf_matrix = confusion_matrix(y_test, y_pred)\n",
    "plt.figure(figsize=(10, 8))\n",
    "sns.heatmap(conf_matrix, annot=True, fmt='d', cmap='Blues')\n",
    "plt.xlabel('Predicted')\n",
    "plt.ylabel('Actual')\n",
    "plt.title('Confusion Matrix')\n",
    "plt.savefig(f\"{filename}.png\")\n",
    "plt.show()\n"
   ]
  },
  {
   "cell_type": "markdown",
   "id": "1508e8a1",
   "metadata": {},
   "source": [
    "Save the confusion matrix"
   ]
  }
 ],
 "metadata": {
  "kernelspec": {
   "display_name": "venv",
   "language": "python",
   "name": "python3"
  },
  "language_info": {
   "codemirror_mode": {
    "name": "ipython",
    "version": 3
   },
   "file_extension": ".py",
   "mimetype": "text/x-python",
   "name": "python",
   "nbconvert_exporter": "python",
   "pygments_lexer": "ipython3",
   "version": "3.11.9"
  }
 },
 "nbformat": 4,
 "nbformat_minor": 5
}
