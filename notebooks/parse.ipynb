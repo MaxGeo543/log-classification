{
 "cells": [
  {
   "cell_type": "markdown",
   "id": "aa9a9687",
   "metadata": {},
   "source": [
    "# Parsing and Extracting Log Keys\n",
    "This section will make use of src/parse.py to parse log files and extract the log keys from them. First we import the parse file. Make sure to have it installed, to install it execute `pip install -e .` in the root directory of the project. \n",
    "\n",
    "Then we import it. To do that we first import `sys` and `os` and add the src directory to path: "
   ]
  },
  {
   "cell_type": "code",
   "execution_count": 3,
   "id": "f1f6e4d9",
   "metadata": {},
   "outputs": [],
   "source": [
    "import sys\n",
    "import os\n",
    "sys.path.append(os.path.abspath(\"../src\"))\n",
    "from parse import *"
   ]
  },
  {
   "cell_type": "markdown",
   "id": "63132fe4",
   "metadata": {},
   "source": [
    "Then we can parse a logfile. You can change which logfile to parse by adjusting `n` or by changing the path altogether. Currently it loads from /data/selected/ which contains log files numbered 610, 606 and 582. "
   ]
  },
  {
   "cell_type": "code",
   "execution_count": 4,
   "id": "bba57682",
   "metadata": {},
   "outputs": [],
   "source": [
    "n = 606"
   ]
  },
  {
   "cell_type": "code",
   "execution_count": 5,
   "id": "3374f28d",
   "metadata": {},
   "outputs": [
    {
     "data": {
      "application/vnd.jupyter.widget-view+json": {
       "model_id": "c1e72162d95d4abfae7a0978881f9c94",
       "version_major": 2,
       "version_minor": 0
      },
      "text/plain": [
       "parsing log file:   0%|          | 0/2715594 [00:00<?, ?it/s]"
      ]
     },
     "metadata": {},
     "output_type": "display_data"
    }
   ],
   "source": [
    "e = parse_logfile(f\"{LOG_PATH}/CCLog-backup.{n}.log\")"
   ]
  },
  {
   "cell_type": "code",
   "execution_count": 6,
   "id": "ed8bd57f",
   "metadata": {},
   "outputs": [
    {
     "data": {
      "application/vnd.jupyter.widget-view+json": {
       "model_id": "2516bb9fd0064cd98582340993a2c2e4",
       "version_major": 2,
       "version_minor": 0
      },
      "text/plain": [
       "extracting messages:   0%|          | 0/2452713 [00:00<?, ?it/s]"
      ]
     },
     "metadata": {},
     "output_type": "display_data"
    }
   ],
   "source": [
    "extract_messages(e, f\"../data/messages{n}.txt\")"
   ]
  },
  {
   "cell_type": "code",
   "execution_count": null,
   "id": "9e8bcf59",
   "metadata": {},
   "outputs": [
    {
     "data": {
      "application/vnd.jupyter.widget-view+json": {
       "model_id": "4ad1c5ddf11a4a83b14fba907db07d39",
       "version_major": 2,
       "version_minor": 0
      },
      "text/plain": [
       "extracting log keys:   0%|          | 0/2452713 [00:00<?, ?it/s]"
      ]
     },
     "metadata": {},
     "output_type": "display_data"
    },
    {
     "name": "stdout",
     "output_type": "stream",
     "text": [
      "send Dewar EMS for: #SCN_SH0\n",
      "\n",
      "send Dewar EMS for: RET_SH_0\n",
      "\n"
     ]
    }
   ],
   "source": [
    "import sys\n",
    "import os\n",
    "sys.path.append(os.path.abspath(\"../src\"))\n",
    "from parse import *\n",
    "n=606\n",
    "extract_log_keys(f'../data/messages{n}.txt', f'../data/messages_types{n}.txt', PATTERNS)"
   ]
  }
 ],
 "metadata": {
  "kernelspec": {
   "display_name": "venv",
   "language": "python",
   "name": "python3"
  },
  "language_info": {
   "codemirror_mode": {
    "name": "ipython",
    "version": 3
   },
   "file_extension": ".py",
   "mimetype": "text/x-python",
   "name": "python",
   "nbconvert_exporter": "python",
   "pygments_lexer": "ipython3",
   "version": "3.11.9"
  }
 },
 "nbformat": 4,
 "nbformat_minor": 5
}
