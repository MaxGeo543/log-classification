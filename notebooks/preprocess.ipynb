{
 "cells": [
  {
   "cell_type": "markdown",
   "id": "aa9a9687",
   "metadata": {},
   "source": [
    "# Parsing and Extracting Log Keys\n",
    "This section will make use of src/parse.py to parse log files and extract the log keys from them. First we import the parse file. Make sure to have it installed, to install it execute `pip install -e .` in the root directory of the project. \n",
    "\n",
    "Then we import it. To do that we first import `sys` and `os` and add the src directory to path: "
   ]
  },
  {
   "cell_type": "code",
   "execution_count": 1,
   "id": "f1f6e4d9",
   "metadata": {},
   "outputs": [],
   "source": [
    "import sys\n",
    "import os\n",
    "sys.path.append(os.path.abspath(\"../src\"))\n",
    "\n",
    "from preprocessor import Preprocessor\n",
    "from message_encoder import *\n",
    "from util import get_sorted_log_numbers_by_size"
   ]
  },
  {
   "cell_type": "markdown",
   "id": "aa906dc8",
   "metadata": {},
   "source": [
    "# Preprocessing Parameters\n",
    "Here we can set several parameters for preprocessing. The effects will be explained here: \n",
    "- `log_files` - What log files to load for pre-processing. It will load all these Logfiles for message encoding, not all of the data will be used as data\n",
    "- `logs_per_class` - How many logs should be attempted to be labeled per class. The resulting Dataset will be of size `num_classes*logs_per_class` if the end of the log files wasn't reached before that\n",
    "- `window_size` - The size of the sliding window to use for the data set. `window_size` logs will be treated as one data entry\n",
    "- `encoding_output_size` - size to be passed to the message_encoder, note that this is not neccessairily the shape of the output (for `BERTEncodingEmbedding` the shape of the output is multiplied by the length of its hidden state, typically 768)\n",
    "- `message_encoder` - The type of message encoding to use, can be one of `TextVectorizationEncoder` (uses keras.layers.TextVectorizer), `BERTEncoder` (only uses the BERT tokenizer) or `BERTEmbeddingEncoder` (also uses the BERT model)\n",
    "- `extended_datetime_features` - Whether to use simple datetime features (days since epoch and seconds since midnight) or extended datetime features which includes a multitude of normalized features extracted from the datetime"
   ]
  },
  {
   "cell_type": "code",
   "execution_count": null,
   "id": "d47163d7",
   "metadata": {},
   "outputs": [],
   "source": [
    "# preprocessing parameters\n",
    "log_files = get_sorted_log_numbers_by_size(r\"C:\\Users\\Askion\\Documents\\agmge\\log-classification\\data\\CCI\")[:20]\n",
    "logs_per_class = 100\n",
    "window_size = 20\n",
    "encoding_output_size = 16\n",
    "message_encoder = BERTEncoder(max_length=encoding_output_size)\n",
    "extended_datetime_features = True"
   ]
  },
  {
   "cell_type": "markdown",
   "id": "9f97a7da",
   "metadata": {},
   "source": [
    "The next codeblock will create a Preprocessor instance and preprocess the data. Upon instanciating the Preprocessor, all Logs will be loaded from the specified log_files, the message_encoder will be initialized with the found log messages and the function_encoder will be initialized. Since all logs will be loaded, this process takes a while. Using a Keyboard interrupt the loading of new logs can be interrupted and the Preprocessor will work with the data loaded until that point. \n",
    "\n",
    "Then the preprocessing starts which lets a sliding window slide over the logs. Each window will be labeled. If the class of the label is already full (count reached `logs_per_class`) the window will be skipped and discarded, otherwise the window and its label will be added to the dataset. Once all classes are full or there is no more data the preprocessing will stop. "
   ]
  },
  {
   "cell_type": "code",
   "execution_count": 9,
   "id": "c7f8fcd8",
   "metadata": {},
   "outputs": [
    {
     "data": {
      "application/vnd.jupyter.widget-view+json": {
       "model_id": "e7de71fcfe21461f8e1f86a8410352f5",
       "version_major": 2,
       "version_minor": 0
      },
      "text/plain": [
       "parsing log file CCLog-backup.749.log:   0%|          | 0/86349 [00:00<?, ?it/s]"
      ]
     },
     "metadata": {},
     "output_type": "display_data"
    },
    {
     "data": {
      "application/vnd.jupyter.widget-view+json": {
       "model_id": "960b018263bf471aaad9c02521a0bfb0",
       "version_major": 2,
       "version_minor": 0
      },
      "text/plain": [
       "parsing log file CCLog-backup.751.log:   0%|          | 0/103334 [00:00<?, ?it/s]"
      ]
     },
     "metadata": {},
     "output_type": "display_data"
    },
    {
     "data": {
      "application/vnd.jupyter.widget-view+json": {
       "model_id": "8fc9ad5b1125466aaba9f1a11f4519f5",
       "version_major": 2,
       "version_minor": 0
      },
      "text/plain": [
       "parsing log file CCLog-backup.752.log:   0%|          | 0/102980 [00:00<?, ?it/s]"
      ]
     },
     "metadata": {},
     "output_type": "display_data"
    },
    {
     "data": {
      "application/vnd.jupyter.widget-view+json": {
       "model_id": "90e292599f81410f962de1724efb8edb",
       "version_major": 2,
       "version_minor": 0
      },
      "text/plain": [
       "parsing log file CCLog-backup.750.log:   0%|          | 0/104128 [00:00<?, ?it/s]"
      ]
     },
     "metadata": {},
     "output_type": "display_data"
    },
    {
     "data": {
      "application/vnd.jupyter.widget-view+json": {
       "model_id": "95d6a82697d64aa4b54bb076b2571c8a",
       "version_major": 2,
       "version_minor": 0
      },
      "text/plain": [
       "parsing log file CCLog-backup.610.log:   0%|          | 0/189786 [00:00<?, ?it/s]"
      ]
     },
     "metadata": {},
     "output_type": "display_data"
    },
    {
     "data": {
      "application/vnd.jupyter.widget-view+json": {
       "model_id": "fa699bff59c44a97aff20d9d688bb7c5",
       "version_major": 2,
       "version_minor": 0
      },
      "text/plain": [
       "parsing log file CCLog-backup.611.log:   0%|          | 0/197591 [00:00<?, ?it/s]"
      ]
     },
     "metadata": {},
     "output_type": "display_data"
    },
    {
     "data": {
      "application/vnd.jupyter.widget-view+json": {
       "model_id": "5f57cad1f4c1497e86e0d550055cd13e",
       "version_major": 2,
       "version_minor": 0
      },
      "text/plain": [
       "parsing log file CCLog-backup.595.log:   0%|          | 0/273676 [00:00<?, ?it/s]"
      ]
     },
     "metadata": {},
     "output_type": "display_data"
    },
    {
     "data": {
      "application/vnd.jupyter.widget-view+json": {
       "model_id": "bf73d13e98a744e4be4098c83d2d5187",
       "version_major": 2,
       "version_minor": 0
      },
      "text/plain": [
       "parsing log file CCLog-backup.596.log:   0%|          | 0/286621 [00:00<?, ?it/s]"
      ]
     },
     "metadata": {},
     "output_type": "display_data"
    },
    {
     "data": {
      "application/vnd.jupyter.widget-view+json": {
       "model_id": "7da2d646a4f24d8fb82a25fd8b2b7390",
       "version_major": 2,
       "version_minor": 0
      },
      "text/plain": [
       "parsing log file CCLog-backup.599.log:   0%|          | 0/257536 [00:00<?, ?it/s]"
      ]
     },
     "metadata": {},
     "output_type": "display_data"
    },
    {
     "data": {
      "application/vnd.jupyter.widget-view+json": {
       "model_id": "32f99b8a78964703ac07707f45cda1b7",
       "version_major": 2,
       "version_minor": 0
      },
      "text/plain": [
       "parsing log file CCLog-backup.585.log:   0%|          | 0/291334 [00:00<?, ?it/s]"
      ]
     },
     "metadata": {},
     "output_type": "display_data"
    },
    {
     "data": {
      "application/vnd.jupyter.widget-view+json": {
       "model_id": "9d38c570d268471188a773f00be76a41",
       "version_major": 2,
       "version_minor": 0
      },
      "text/plain": [
       "parsing log file CCLog-backup.598.log:   0%|          | 0/294818 [00:00<?, ?it/s]"
      ]
     },
     "metadata": {},
     "output_type": "display_data"
    },
    {
     "data": {
      "application/vnd.jupyter.widget-view+json": {
       "model_id": "280f96f369cd4eec983f2f5c099b194a",
       "version_major": 2,
       "version_minor": 0
      },
      "text/plain": [
       "parsing log file CCLog-backup.602.log:   0%|          | 0/410334 [00:00<?, ?it/s]"
      ]
     },
     "metadata": {},
     "output_type": "display_data"
    },
    {
     "data": {
      "application/vnd.jupyter.widget-view+json": {
       "model_id": "7bcf6015d7a345b09baad2406bac42d9",
       "version_major": 2,
       "version_minor": 0
      },
      "text/plain": [
       "parsing log file CCLog-backup.603.log:   0%|          | 0/415123 [00:00<?, ?it/s]"
      ]
     },
     "metadata": {},
     "output_type": "display_data"
    },
    {
     "data": {
      "application/vnd.jupyter.widget-view+json": {
       "model_id": "83bc9073766d412da09ec870f59aea9f",
       "version_major": 2,
       "version_minor": 0
      },
      "text/plain": [
       "parsing log file CCLog-backup.597.log:   0%|          | 0/338397 [00:00<?, ?it/s]"
      ]
     },
     "metadata": {},
     "output_type": "display_data"
    },
    {
     "data": {
      "application/vnd.jupyter.widget-view+json": {
       "model_id": "5f6fd58b8c644daf8055ce1acb65b1ee",
       "version_major": 2,
       "version_minor": 0
      },
      "text/plain": [
       "parsing log file CCLog-backup.589.log:   0%|          | 0/443758 [00:00<?, ?it/s]"
      ]
     },
     "metadata": {},
     "output_type": "display_data"
    },
    {
     "data": {
      "application/vnd.jupyter.widget-view+json": {
       "model_id": "1ed00e266fd446e288bbe944f34cb06c",
       "version_major": 2,
       "version_minor": 0
      },
      "text/plain": [
       "parsing log file CCLog-backup.588.log:   0%|          | 0/450698 [00:00<?, ?it/s]"
      ]
     },
     "metadata": {},
     "output_type": "display_data"
    },
    {
     "data": {
      "application/vnd.jupyter.widget-view+json": {
       "model_id": "cf4c97303deb46219a84e46d613e7275",
       "version_major": 2,
       "version_minor": 0
      },
      "text/plain": [
       "parsing log file CCLog-backup.768.log:   0%|          | 0/330362 [00:00<?, ?it/s]"
      ]
     },
     "metadata": {},
     "output_type": "display_data"
    },
    {
     "data": {
      "application/vnd.jupyter.widget-view+json": {
       "model_id": "5bc1a0941a10451a910ce975b0797638",
       "version_major": 2,
       "version_minor": 0
      },
      "text/plain": [
       "parsing log file CCLog-backup.590.log:   0%|          | 0/588384 [00:00<?, ?it/s]"
      ]
     },
     "metadata": {},
     "output_type": "display_data"
    },
    {
     "data": {
      "application/vnd.jupyter.widget-view+json": {
       "model_id": "39894fe031a6479db865066a433601d9",
       "version_major": 2,
       "version_minor": 0
      },
      "text/plain": [
       "parsing log file CCLog-backup.600.log:   0%|          | 0/706309 [00:00<?, ?it/s]"
      ]
     },
     "metadata": {},
     "output_type": "display_data"
    },
    {
     "data": {
      "application/vnd.jupyter.widget-view+json": {
       "model_id": "dd00ee802a1a4fefab01d7703c4f0215",
       "version_major": 2,
       "version_minor": 0
      },
      "text/plain": [
       "parsing log file CCLog-backup.591.log:   0%|          | 0/799535 [00:00<?, ?it/s]"
      ]
     },
     "metadata": {},
     "output_type": "display_data"
    },
    {
     "data": {
      "application/vnd.jupyter.widget-view+json": {
       "model_id": "28c83f88e074402ea0fe4e5cb4cf937f",
       "version_major": 2,
       "version_minor": 0
      },
      "text/plain": [
       "annotating events:   0%|          | 0/5753233 [00:00<?, ?it/s]"
      ]
     },
     "metadata": {},
     "output_type": "display_data"
    },
    {
     "name": "stdout",
     "output_type": "stream",
     "text": [
      "State counts:\n",
      "  - 0 : 100\n",
      "  - 3 : 100\n",
      "  - 2 : 100\n",
      "  - 1 : 100\n",
      "All states have the desired log count\n"
     ]
    }
   ],
   "source": [
    "# preprocessing\n",
    "pp = Preprocessor(log_files, message_encoder, logs_per_class, window_size, extended_datetime_features, True)\n",
    "pp.preprocess()"
   ]
  },
  {
   "cell_type": "markdown",
   "id": "6642b9d1",
   "metadata": {},
   "source": [
    "In the last step the preprocessor can be saved. Preprocessors are saved as a zip file containing all serialized data about the preprocessor as well as the complete data including preprocessed and unpreprocessed. The zip file will therefore will be relatively large. The naming scheme for the preprocessor zip files is `preprocessor_{len(loaded_files)}files_{logs_per_class}lpc_{window_size}ws_{message_encoder}x{encoding_output_size}{_extdt if extended_datetime_features}`.  "
   ]
  },
  {
   "cell_type": "code",
   "execution_count": 10,
   "id": "708f1ad3",
   "metadata": {},
   "outputs": [
    {
     "data": {
      "text/plain": [
       "'C:/Users/Askion/Documents/agmge/log-classification/data/preprocessors/preprocessor_20files_100lpc_20ws_BERTembx12288.zip'"
      ]
     },
     "execution_count": 10,
     "metadata": {},
     "output_type": "execute_result"
    }
   ],
   "source": [
    "pp.save()"
   ]
  }
 ],
 "metadata": {
  "kernelspec": {
   "display_name": "venv",
   "language": "python",
   "name": "python3"
  },
  "language_info": {
   "codemirror_mode": {
    "name": "ipython",
    "version": 3
   },
   "file_extension": ".py",
   "mimetype": "text/x-python",
   "name": "python",
   "nbconvert_exporter": "python",
   "pygments_lexer": "ipython3",
   "version": "3.11.9"
  }
 },
 "nbformat": 4,
 "nbformat_minor": 5
}
