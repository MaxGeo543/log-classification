{
 "cells": [
  {
   "cell_type": "code",
   "execution_count": 1,
   "id": "f56279b3",
   "metadata": {},
   "outputs": [],
   "source": [
    "import numpy as np\n",
    "import random\n",
    "import os\n",
    "import tensorflow as tf\n",
    "from preprocessor import Preprocessor\n",
    "from sklearn.metrics import accuracy_score, precision_score, recall_score, f1_score, confusion_matrix, ConfusionMatrixDisplay\n",
    "import matplotlib.pyplot as plt\n",
    "\n",
    "from test_models import load_model, test_random_line"
   ]
  },
  {
   "cell_type": "code",
   "execution_count": 2,
   "id": "62b91acc",
   "metadata": {},
   "outputs": [
    {
     "name": "stdout",
     "output_type": "stream",
     "text": [
      "defaultdict(<class 'int'>, {np.int64(0): 100, np.int64(3): 100, np.int64(2): 100, np.int64(1): 30})\n"
     ]
    }
   ],
   "source": [
    "# preprocessor_path = \"../data/preprocessors/preprocessor_20_smallest_files_100lpc_20ws_BERTencx16.zip\"\n",
    "preprocessor_path = \"../data/preprocessors/preprocessor_3_newest_files_100lpc_20ws_BERTencx16.zip\"\n",
    "pp = Preprocessor.load(preprocessor_path)\n",
    "print(pp.data.states_counts)\n",
    "X, y = pp.data.as_xy_arrays()"
   ]
  },
  {
   "cell_type": "code",
   "execution_count": 9,
   "id": "d519aa6f",
   "metadata": {},
   "outputs": [],
   "source": [
    "# m_name = \"../models/vary_lstm/lstm_1x50_drop0.0_rec0.0_lr0.001_bs32_ep1000_earlystpval_loss10True_20250624_145128\"\n",
    "m_name = \"../models/lstm_2x50_drop0.1_rec0.1_lr0.001_bs32_ep1000_earlystpval_accuracy50True_20250708_112046\"\n",
    "model_path = f\"{m_name}.keras\"\n",
    "\n",
    "\n",
    "\n",
    "# model_path = \"../models/vary_lstm/lstm_50x100_drop0.0_rec0.0_lr0.001_bs32_ep1000_earlystpval_loss10True_20250630_062218.keras\"\n",
    "# model_path = \"../models/vary_lstm/lstm_1x100_drop0.0_rec0.0_lr0.001_bs32_ep1000_earlystpval_loss10True_20250630_062041.keras\"\n",
    "#m_name = \"transformer_8x128_heads4_ffdim256_drop0_lr0.001_bs32_ep1000_earlystpval_loss10True_20250619_140737\"\n",
    "#model_path = f\"../models/vary_transformer_parameters/{m_name}.keras\"\n",
    "\n",
    "model = load_model(model_path)\n"
   ]
  },
  {
   "cell_type": "code",
   "execution_count": 10,
   "id": "dee565d9",
   "metadata": {},
   "outputs": [
    {
     "name": "stdout",
     "output_type": "stream",
     "text": [
      "\u001b[1m11/11\u001b[0m \u001b[32m━━━━━━━━━━━━━━━━━━━━\u001b[0m\u001b[37m\u001b[0m \u001b[1m2s\u001b[0m 77ms/step\n",
      "Accuracy : 0.5303\n",
      "Precision: 0.5265\n",
      "Recall   : 0.5303\n",
      "F1 Score : 0.5043\n"
     ]
    },
    {
     "name": "stderr",
     "output_type": "stream",
     "text": [
      "d:\\mgeo\\projects\\log-classification\\venv\\Lib\\site-packages\\sklearn\\metrics\\_classification.py:1565: UndefinedMetricWarning: Precision is ill-defined and being set to 0.0 in labels with no predicted samples. Use `zero_division` parameter to control this behavior.\n",
      "  _warn_prf(average, modifier, f\"{metric.capitalize()} is\", len(result))\n"
     ]
    }
   ],
   "source": [
    "# Get predictions\n",
    "y_pred_probs = model.predict(X)\n",
    "y_pred = y_pred_probs.argmax(axis=1)  # For softmax outputs\n",
    "\n",
    "# True labels\n",
    "y_true = y.argmax(axis=1) if y.ndim > 1 else y\n",
    "\n",
    "# Compute metrics\n",
    "accuracy = accuracy_score(y_true, y_pred)\n",
    "precision = precision_score(y_true, y_pred, average='weighted')\n",
    "recall = recall_score(y_true, y_pred, average='weighted')\n",
    "f1 = f1_score(y_true, y_pred, average='weighted')\n",
    "\n",
    "print(f\"Accuracy : {accuracy:.4f}\")\n",
    "print(f\"Precision: {precision:.4f}\")\n",
    "print(f\"Recall   : {recall:.4f}\")\n",
    "print(f\"F1 Score : {f1:.4f}\")"
   ]
  },
  {
   "cell_type": "code",
   "execution_count": 11,
   "id": "83e41a8e",
   "metadata": {},
   "outputs": [
    {
     "data": {
      "image/png": "[encoded data removed]",
      "text/plain": [
       "<Figure size 640x480 with 2 Axes>"
      ]
     },
     "metadata": {},
     "output_type": "display_data"
    }
   ],
   "source": [
    "# Compute and plot confusion matrix\n",
    "cm = confusion_matrix(y_true, y_pred)\n",
    "disp = ConfusionMatrixDisplay(confusion_matrix=cm)\n",
    "disp.plot(cmap=\"Blues\", xticks_rotation=45)\n",
    "plt.title(\"Confusion Matrix\")\n",
    "plt.savefig(f\"{m_name}_test-confusionmatrix.png\")\n",
    "plt.show()\n"
   ]
  }
 ],
 "metadata": {
  "kernelspec": {
   "display_name": "venv",
   "language": "python",
   "name": "python3"
  },
  "language_info": {
   "codemirror_mode": {
    "name": "ipython",
    "version": 3
   },
   "file_extension": ".py",
   "mimetype": "text/x-python",
   "name": "python",
   "nbconvert_exporter": "python",
   "pygments_lexer": "ipython3",
   "version": "3.11.9"
  }
 },
 "nbformat": 4,
 "nbformat_minor": 5
}
