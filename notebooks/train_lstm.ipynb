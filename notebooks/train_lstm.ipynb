{
 "cells": [
  {
   "cell_type": "markdown",
   "id": "a297fabe",
   "metadata": {},
   "source": [
    "First import all neccessary modules"
   ]
  },
  {
   "cell_type": "code",
   "execution_count": 1,
   "id": "ce1c93f3",
   "metadata": {},
   "outputs": [],
   "source": [
    "from datetime import datetime\n",
    "from preprocessor import Preprocessor\n",
    "import numpy as np\n",
    "from keras.models import Sequential\n",
    "from keras.layers import LSTM, Dense, Input\n",
    "from keras.metrics import Accuracy, Precision, Recall\n",
    "from keras.callbacks import EarlyStopping\n",
    "from sklearn.metrics import classification_report, confusion_matrix, f1_score\n",
    "import matplotlib.pyplot as plt\n",
    "import seaborn as sns\n",
    "from message_encoder import *\n",
    "from keras.optimizers import Adam, RMSprop, SGD, Nadam\n",
    "import os\n",
    "import sys\n",
    "import tensorflow as tf\n",
    "tf.config.run_functions_eagerly(True)"
   ]
  },
  {
   "cell_type": "markdown",
   "id": "dfee08c1",
   "metadata": {},
   "source": [
    "Next we define all hyperparameters for the Training of the LSTM module. "
   ]
  },
  {
   "cell_type": "code",
   "execution_count": 2,
   "id": "6f4b3568",
   "metadata": {},
   "outputs": [],
   "source": [
    "# hyper parameters\n",
    "# preprocessing\n",
    "log_files = [i for i in range(745, 754)]            # list of ints representing the numbers of log files to use\n",
    "logs_per_class = 100                                # How many datapoints per class should be collected if available\n",
    "window_size = 20                                    # how many log messages to be considered in a single data point from sliding window\n",
    "encoding_output_size = 16                           # size to be passed to the message_encoder, note that this is not neccessairily the shape of the output\n",
    "message_encoder = BERTEncoder(encoding_output_size) # the message_encoder to be used. Can be TextVectorizationEncoder (uses keras.layers.TextVectorizer), BERTEncoder (only uses the BERT tokenizer) or BERTEmbeddingEncoder (also uses the BERT model)\n",
    "extended_datetime_features = False                  # bool, whether the preprocessing should use a multitude of normalized features extracted from the date \n",
    "# preprocessor_file = r\"C:\\Users\\Askion\\Documents\\agmge\\log-classification\\data\\preprocessors\\preprocessor_20_smallest_files_100lpc_20ws_BERTencx16.zip\" # if this is a string with content, load the file instead of creating a new preprocessor\n",
    "preprocessor_file = \"../data/preprocessors/preprocessor_20_smallest_files_100lpc_20ws_BERTencx16.zip\"\n",
    "\n",
    "\n"
   ]
  },
  {
   "cell_type": "markdown",
   "id": "af08da64",
   "metadata": {},
   "source": [
    "Next we load logs and preprocess the data. "
   ]
  },
  {
   "cell_type": "code",
   "execution_count": 3,
   "id": "47994355",
   "metadata": {},
   "outputs": [
    {
     "name": "stdout",
     "output_type": "stream",
     "text": [
      "loading preprocessor from file...\n"
     ]
    }
   ],
   "source": [
    "# preprocessing\n",
    "if os.path.isfile(preprocessor_file):\n",
    "    print(\"loading preprocessor from file...\")\n",
    "    pp = Preprocessor.load(preprocessor_file)\n",
    "else:\n",
    "    pp = Preprocessor(log_files, \n",
    "                    message_encoder, \n",
    "                    logs_per_class=logs_per_class, \n",
    "                    window_size=window_size, \n",
    "                    extended_datetime_features=extended_datetime_features, \n",
    "                    volatile=True)\n",
    "    pp.preprocess()\n",
    "\n",
    "    # save the dataset if it doesn't exist already!\n",
    "    path = f\"./data/preprocessors/preprocessor_{len(pp.loaded_files)}files_\"\n",
    "    m = \"BERTenc\" if isinstance(pp.message_encoder, BERTEncoder) else \"BERTemb\" if isinstance(pp.message_encoder, BERTEmbeddingEncoder) else \"TextVec\" if isinstance(pp.message_encoder, TextVectorizationEncoder) else \"enc\"\n",
    "    path += f\"_{logs_per_class}lpc_{window_size}ws_{m}x{encoding_output_size}\"\n",
    "    if extended_datetime_features: path += \"_extdt\"\n",
    "    path += \".json\"\n",
    "    if not os.path.isfile(path):\n",
    "        pp.save(path)\n"
   ]
  },
  {
   "cell_type": "code",
   "execution_count": 4,
   "id": "8664e73f",
   "metadata": {},
   "outputs": [],
   "source": [
    "# lstm architecture\n",
    "lstm_layers = 10#1                                     # int, how many lstm layers to use\n",
    "lstm_units_per_layer = 10                           # int, how many lstm units per layer to use\n",
    "dropout = 0.0                                       # float, which dropout value to use, 0.0 is equivalent to not using any dropout\n",
    "recurrent_dropout = 0.0                             # float, same as with regular dropout\n",
    "\n",
    "# training\n",
    "split_ratios = (4, 1)                               # percantage of the collected data that should be used for testing rather than training\n",
    "epochs = 1000                                       # number of iterations to train\n",
    "batch_size = 32                                     # int, number of samples processed before updating the model weights.\n",
    "early_stopping_monitor = \"val_loss\"                 # what value to monitor for early_stopping. can be 'loss', 'val_loss', 'accuracy', 'val_accuracy', 'precision', 'val_precision', 'recall', 'val_recall', 'f1_score', 'val_f1_score'\n",
    "early_stopping_patience = 10                        # int, number of epochs to wait after no improvement, if this is greater than epochs, EarlyStopping will not apply\n",
    "early_stopping_restore_best = True                  # bool, if true keeps the best weights, not the final ones.\n",
    "validation_split = 0.1\n",
    "learning_rate = 0.001                               # float to specify learning rate of the optimizer\n",
    "optimizer = Adam(learning_rate=learning_rate)       # optimizer, can be one of Adam, RMSprop, SGD (can have momentum parameter), Nadam"
   ]
  },
  {
   "cell_type": "code",
   "execution_count": 5,
   "id": "ad60602a",
   "metadata": {},
   "outputs": [],
   "source": [
    "# defining data for training and testing\n",
    "train, test = pp.data.stratified_split((4, 1))\n",
    "X_train, y_train = train\n",
    "X_test, y_test = test\n",
    "input_shape = pp.data.entry_shape\n",
    "num_classes = len(set(y_train))"
   ]
  },
  {
   "cell_type": "markdown",
   "id": "dfdf3506",
   "metadata": {},
   "source": [
    "Define the model architecture for the LSTM, then train the LSTM model. "
   ]
  },
  {
   "cell_type": "code",
   "execution_count": 6,
   "id": "67e8f58a",
   "metadata": {},
   "outputs": [
    {
     "name": "stdout",
     "output_type": "stream",
     "text": [
      "(20, 20)\n"
     ]
    },
    {
     "name": "stderr",
     "output_type": "stream",
     "text": [
      "d:\\mgeo\\projects\\log-classification\\venv\\Lib\\site-packages\\tensorflow\\python\\data\\ops\\structured_function.py:258: UserWarning: Even though the `tf.config.experimental_run_functions_eagerly` option is set, this option does not apply to tf.data functions. To force eager execution of tf.data functions, please use `tf.data.experimental.enable_debug_mode()`.\n",
      "  warnings.warn(\n"
     ]
    },
    {
     "name": "stdout",
     "output_type": "stream",
     "text": [
      "Epoch 1/1000\n",
      "\u001b[1m9/9\u001b[0m \u001b[32m━━━━━━━━━━━━━━━━━━━━\u001b[0m\u001b[37m\u001b[0m \u001b[1m13s\u001b[0m 1s/step - accuracy: 0.2078 - loss: 1.3868 - val_accuracy: 0.2500 - val_loss: 1.3900\n",
      "Epoch 2/1000\n",
      "\u001b[1m9/9\u001b[0m \u001b[32m━━━━━━━━━━━━━━━━━━━━\u001b[0m\u001b[37m\u001b[0m \u001b[1m13s\u001b[0m 1s/step - accuracy: 0.2364 - loss: 1.3859 - val_accuracy: 0.2500 - val_loss: 1.3923\n",
      "Epoch 3/1000\n",
      "\u001b[1m9/9\u001b[0m \u001b[32m━━━━━━━━━━━━━━━━━━━━\u001b[0m\u001b[37m\u001b[0m \u001b[1m11s\u001b[0m 1s/step - accuracy: 0.2525 - loss: 1.3858 - val_accuracy: 0.2500 - val_loss: 1.3920\n",
      "Epoch 4/1000\n",
      "\u001b[1m9/9\u001b[0m \u001b[32m━━━━━━━━━━━━━━━━━━━━\u001b[0m\u001b[37m\u001b[0m \u001b[1m12s\u001b[0m 1s/step - accuracy: 0.2317 - loss: 1.3847 - val_accuracy: 0.3750 - val_loss: 1.3912\n",
      "Epoch 5/1000\n",
      "\u001b[1m9/9\u001b[0m \u001b[32m━━━━━━━━━━━━━━━━━━━━\u001b[0m\u001b[37m\u001b[0m \u001b[1m12s\u001b[0m 1s/step - accuracy: 0.2814 - loss: 1.3800 - val_accuracy: 0.3125 - val_loss: 1.3820\n",
      "Epoch 6/1000\n",
      "\u001b[1m9/9\u001b[0m \u001b[32m━━━━━━━━━━━━━━━━━━━━\u001b[0m\u001b[37m\u001b[0m \u001b[1m13s\u001b[0m 1s/step - accuracy: 0.3218 - loss: 1.3556 - val_accuracy: 0.4688 - val_loss: 1.3179\n",
      "Epoch 7/1000\n",
      "\u001b[1m9/9\u001b[0m \u001b[32m━━━━━━━━━━━━━━━━━━━━\u001b[0m\u001b[37m\u001b[0m \u001b[1m12s\u001b[0m 1s/step - accuracy: 0.4521 - loss: 1.2824 - val_accuracy: 0.5000 - val_loss: 1.2239\n",
      "Epoch 8/1000\n",
      "\u001b[1m9/9\u001b[0m \u001b[32m━━━━━━━━━━━━━━━━━━━━\u001b[0m\u001b[37m\u001b[0m \u001b[1m12s\u001b[0m 1s/step - accuracy: 0.4208 - loss: 1.1978 - val_accuracy: 0.5625 - val_loss: 1.0966\n",
      "Epoch 9/1000\n",
      "\u001b[1m9/9\u001b[0m \u001b[32m━━━━━━━━━━━━━━━━━━━━\u001b[0m\u001b[37m\u001b[0m \u001b[1m12s\u001b[0m 1s/step - accuracy: 0.4724 - loss: 1.1340 - val_accuracy: 0.5938 - val_loss: 1.0274\n",
      "Epoch 10/1000\n",
      "\u001b[1m9/9\u001b[0m \u001b[32m━━━━━━━━━━━━━━━━━━━━\u001b[0m\u001b[37m\u001b[0m \u001b[1m12s\u001b[0m 1s/step - accuracy: 0.4318 - loss: 1.0878 - val_accuracy: 0.5625 - val_loss: 1.0373\n",
      "Epoch 11/1000\n",
      "\u001b[1m9/9\u001b[0m \u001b[32m━━━━━━━━━━━━━━━━━━━━\u001b[0m\u001b[37m\u001b[0m \u001b[1m12s\u001b[0m 1s/step - accuracy: 0.4276 - loss: 1.0652 - val_accuracy: 0.6250 - val_loss: 0.9612\n",
      "Epoch 12/1000\n",
      "\u001b[1m9/9\u001b[0m \u001b[32m━━━━━━━━━━━━━━━━━━━━\u001b[0m\u001b[37m\u001b[0m \u001b[1m12s\u001b[0m 1s/step - accuracy: 0.4286 - loss: 1.0475 - val_accuracy: 0.6875 - val_loss: 0.9490\n",
      "Epoch 13/1000\n",
      "\u001b[1m9/9\u001b[0m \u001b[32m━━━━━━━━━━━━━━━━━━━━\u001b[0m\u001b[37m\u001b[0m \u001b[1m12s\u001b[0m 1s/step - accuracy: 0.4375 - loss: 0.9648 - val_accuracy: 0.6250 - val_loss: 0.9051\n",
      "Epoch 14/1000\n",
      "\u001b[1m9/9\u001b[0m \u001b[32m━━━━━━━━━━━━━━━━━━━━\u001b[0m\u001b[37m\u001b[0m \u001b[1m13s\u001b[0m 1s/step - accuracy: 0.4749 - loss: 0.9599 - val_accuracy: 0.5938 - val_loss: 0.9523\n",
      "Epoch 15/1000\n",
      "\u001b[1m9/9\u001b[0m \u001b[32m━━━━━━━━━━━━━━━━━━━━\u001b[0m\u001b[37m\u001b[0m \u001b[1m12s\u001b[0m 1s/step - accuracy: 0.4492 - loss: 0.9955 - val_accuracy: 0.4375 - val_loss: 0.9047\n",
      "Epoch 16/1000\n",
      "\u001b[1m9/9\u001b[0m \u001b[32m━━━━━━━━━━━━━━━━━━━━\u001b[0m\u001b[37m\u001b[0m \u001b[1m12s\u001b[0m 1s/step - accuracy: 0.4781 - loss: 0.9879 - val_accuracy: 0.4375 - val_loss: 0.9047\n",
      "Epoch 17/1000\n",
      "\u001b[1m9/9\u001b[0m \u001b[32m━━━━━━━━━━━━━━━━━━━━\u001b[0m\u001b[37m\u001b[0m \u001b[1m21s\u001b[0m 1s/step - accuracy: 0.4872 - loss: 0.9118 - val_accuracy: 0.3750 - val_loss: 1.0075\n",
      "Epoch 18/1000\n",
      "\u001b[1m9/9\u001b[0m \u001b[32m━━━━━━━━━━━━━━━━━━━━\u001b[0m\u001b[37m\u001b[0m \u001b[1m12s\u001b[0m 1s/step - accuracy: 0.4578 - loss: 0.9444 - val_accuracy: 0.4375 - val_loss: 0.9028\n",
      "Epoch 19/1000\n",
      "\u001b[1m9/9\u001b[0m \u001b[32m━━━━━━━━━━━━━━━━━━━━\u001b[0m\u001b[37m\u001b[0m \u001b[1m13s\u001b[0m 1s/step - accuracy: 0.4732 - loss: 0.9453 - val_accuracy: 0.4375 - val_loss: 0.9056\n",
      "Epoch 20/1000\n",
      "\u001b[1m9/9\u001b[0m \u001b[32m━━━━━━━━━━━━━━━━━━━━\u001b[0m\u001b[37m\u001b[0m \u001b[1m12s\u001b[0m 1s/step - accuracy: 0.5178 - loss: 0.8962 - val_accuracy: 0.4375 - val_loss: 0.9002\n",
      "Epoch 21/1000\n",
      "\u001b[1m9/9\u001b[0m \u001b[32m━━━━━━━━━━━━━━━━━━━━\u001b[0m\u001b[37m\u001b[0m \u001b[1m12s\u001b[0m 1s/step - accuracy: 0.4701 - loss: 0.9570 - val_accuracy: 0.4375 - val_loss: 0.9006\n",
      "Epoch 22/1000\n",
      "\u001b[1m9/9\u001b[0m \u001b[32m━━━━━━━━━━━━━━━━━━━━\u001b[0m\u001b[37m\u001b[0m \u001b[1m12s\u001b[0m 1s/step - accuracy: 0.4917 - loss: 0.9932 - val_accuracy: 0.4375 - val_loss: 0.8994\n",
      "Epoch 23/1000\n",
      "\u001b[1m9/9\u001b[0m \u001b[32m━━━━━━━━━━━━━━━━━━━━\u001b[0m\u001b[37m\u001b[0m \u001b[1m12s\u001b[0m 1s/step - accuracy: 0.4553 - loss: 0.9866 - val_accuracy: 0.4375 - val_loss: 0.9100\n",
      "Epoch 24/1000\n",
      "\u001b[1m9/9\u001b[0m \u001b[32m━━━━━━━━━━━━━━━━━━━━\u001b[0m\u001b[37m\u001b[0m \u001b[1m12s\u001b[0m 1s/step - accuracy: 0.4618 - loss: 0.9547 - val_accuracy: 0.4375 - val_loss: 0.9027\n",
      "Epoch 25/1000\n",
      "\u001b[1m9/9\u001b[0m \u001b[32m━━━━━━━━━━━━━━━━━━━━\u001b[0m\u001b[37m\u001b[0m \u001b[1m12s\u001b[0m 1s/step - accuracy: 0.4888 - loss: 0.9377 - val_accuracy: 0.4375 - val_loss: 0.9040\n",
      "Epoch 26/1000\n",
      "\u001b[1m9/9\u001b[0m \u001b[32m━━━━━━━━━━━━━━━━━━━━\u001b[0m\u001b[37m\u001b[0m \u001b[1m12s\u001b[0m 1s/step - accuracy: 0.5038 - loss: 0.9103 - val_accuracy: 0.4375 - val_loss: 0.9029\n",
      "Epoch 27/1000\n",
      "\u001b[1m9/9\u001b[0m \u001b[32m━━━━━━━━━━━━━━━━━━━━\u001b[0m\u001b[37m\u001b[0m \u001b[1m21s\u001b[0m 1s/step - accuracy: 0.4573 - loss: 0.9658 - val_accuracy: 0.4375 - val_loss: 0.8995\n",
      "Epoch 28/1000\n",
      "\u001b[1m9/9\u001b[0m \u001b[32m━━━━━━━━━━━━━━━━━━━━\u001b[0m\u001b[37m\u001b[0m \u001b[1m11s\u001b[0m 1s/step - accuracy: 0.4837 - loss: 0.9134 - val_accuracy: 0.4375 - val_loss: 0.8951\n",
      "Epoch 29/1000\n",
      "\u001b[1m9/9\u001b[0m \u001b[32m━━━━━━━━━━━━━━━━━━━━\u001b[0m\u001b[37m\u001b[0m \u001b[1m11s\u001b[0m 1s/step - accuracy: 0.4381 - loss: 0.9068 - val_accuracy: 0.4375 - val_loss: 0.8914\n",
      "Epoch 30/1000\n",
      "\u001b[1m9/9\u001b[0m \u001b[32m━━━━━━━━━━━━━━━━━━━━\u001b[0m\u001b[37m\u001b[0m \u001b[1m12s\u001b[0m 1s/step - accuracy: 0.4745 - loss: 0.9453 - val_accuracy: 0.4375 - val_loss: 0.8965\n",
      "Epoch 31/1000\n",
      "\u001b[1m9/9\u001b[0m \u001b[32m━━━━━━━━━━━━━━━━━━━━\u001b[0m\u001b[37m\u001b[0m \u001b[1m12s\u001b[0m 1s/step - accuracy: 0.5014 - loss: 0.8965 - val_accuracy: 0.4375 - val_loss: 0.8909\n",
      "Epoch 32/1000\n",
      "\u001b[1m9/9\u001b[0m \u001b[32m━━━━━━━━━━━━━━━━━━━━\u001b[0m\u001b[37m\u001b[0m \u001b[1m11s\u001b[0m 1s/step - accuracy: 0.4631 - loss: 0.9702 - val_accuracy: 0.4375 - val_loss: 0.8904\n",
      "Epoch 33/1000\n",
      "\u001b[1m9/9\u001b[0m \u001b[32m━━━━━━━━━━━━━━━━━━━━\u001b[0m\u001b[37m\u001b[0m \u001b[1m12s\u001b[0m 1s/step - accuracy: 0.4658 - loss: 0.9402 - val_accuracy: 0.4375 - val_loss: 0.8968\n",
      "Epoch 34/1000\n",
      "\u001b[1m9/9\u001b[0m \u001b[32m━━━━━━━━━━━━━━━━━━━━\u001b[0m\u001b[37m\u001b[0m \u001b[1m12s\u001b[0m 1s/step - accuracy: 0.4741 - loss: 0.9209 - val_accuracy: 0.4375 - val_loss: 0.8945\n",
      "Epoch 35/1000\n",
      "\u001b[1m9/9\u001b[0m \u001b[32m━━━━━━━━━━━━━━━━━━━━\u001b[0m\u001b[37m\u001b[0m \u001b[1m12s\u001b[0m 1s/step - accuracy: 0.5142 - loss: 0.9408 - val_accuracy: 0.4375 - val_loss: 0.8960\n",
      "Epoch 36/1000\n",
      "\u001b[1m9/9\u001b[0m \u001b[32m━━━━━━━━━━━━━━━━━━━━\u001b[0m\u001b[37m\u001b[0m \u001b[1m12s\u001b[0m 1s/step - accuracy: 0.4764 - loss: 0.9056 - val_accuracy: 0.4375 - val_loss: 0.8952\n",
      "Epoch 37/1000\n",
      "\u001b[1m9/9\u001b[0m \u001b[32m━━━━━━━━━━━━━━━━━━━━\u001b[0m\u001b[37m\u001b[0m \u001b[1m12s\u001b[0m 1s/step - accuracy: 0.4776 - loss: 0.9035 - val_accuracy: 0.4375 - val_loss: 0.8937\n",
      "Epoch 38/1000\n",
      "\u001b[1m9/9\u001b[0m \u001b[32m━━━━━━━━━━━━━━━━━━━━\u001b[0m\u001b[37m\u001b[0m \u001b[1m12s\u001b[0m 1s/step - accuracy: 0.4995 - loss: 0.8953 - val_accuracy: 0.4375 - val_loss: 0.8988\n",
      "Epoch 39/1000\n",
      "\u001b[1m9/9\u001b[0m \u001b[32m━━━━━━━━━━━━━━━━━━━━\u001b[0m\u001b[37m\u001b[0m \u001b[1m12s\u001b[0m 1s/step - accuracy: 0.5058 - loss: 0.9215 - val_accuracy: 0.4375 - val_loss: 0.9046\n",
      "Epoch 40/1000\n",
      "\u001b[1m9/9\u001b[0m \u001b[32m━━━━━━━━━━━━━━━━━━━━\u001b[0m\u001b[37m\u001b[0m \u001b[1m12s\u001b[0m 1s/step - accuracy: 0.5041 - loss: 0.8724 - val_accuracy: 0.4375 - val_loss: 0.8921\n",
      "Epoch 41/1000\n",
      "\u001b[1m9/9\u001b[0m \u001b[32m━━━━━━━━━━━━━━━━━━━━\u001b[0m\u001b[37m\u001b[0m \u001b[1m12s\u001b[0m 1s/step - accuracy: 0.4973 - loss: 0.9001 - val_accuracy: 0.4375 - val_loss: 0.8943\n",
      "Epoch 42/1000\n",
      "\u001b[1m9/9\u001b[0m \u001b[32m━━━━━━━━━━━━━━━━━━━━\u001b[0m\u001b[37m\u001b[0m \u001b[1m21s\u001b[0m 1s/step - accuracy: 0.5099 - loss: 0.9072 - val_accuracy: 0.4375 - val_loss: 0.8954\n"
     ]
    },
    {
     "data": {
      "text/plain": [
       "<keras.src.callbacks.history.History at 0x16f54854890>"
      ]
     },
     "execution_count": 6,
     "metadata": {},
     "output_type": "execute_result"
    }
   ],
   "source": [
    "# lstm architecture\n",
    "model = Sequential()\n",
    "input_shape = pp.data.entry_shape\n",
    "print(input_shape)\n",
    "model.add(Input(shape=input_shape))\n",
    "# First LSTM layer\n",
    "if lstm_layers > 1:\n",
    "    model.add(LSTM(lstm_units_per_layer, return_sequences=True, dropout=dropout, recurrent_dropout=recurrent_dropout))\n",
    "else:\n",
    "    model.add(LSTM(lstm_units_per_layer, dropout=dropout, recurrent_dropout=recurrent_dropout))  # single layer, no sequences returned\n",
    "# Intermediate LSTM layers (if any)\n",
    "for i in range(lstm_layers - 2):\n",
    "    model.add(LSTM(lstm_units_per_layer, return_sequences=True, dropout=dropout, recurrent_dropout=recurrent_dropout))\n",
    "# Last LSTM layer (no return_sequences, output fed into Dense)\n",
    "if lstm_layers > 1:\n",
    "    model.add(LSTM(lstm_units_per_layer, dropout=dropout, recurrent_dropout=recurrent_dropout))\n",
    "# Dense Layer\n",
    "num_classes = len(set(y_train))\n",
    "model.add(Dense(num_classes, activation='softmax'))\n",
    "# compile the model\n",
    "model.compile(optimizer=optimizer, loss='sparse_categorical_crossentropy', \n",
    "              metrics=['accuracy'])\n",
    "# train the model\n",
    "early_stopping = EarlyStopping(monitor=early_stopping_monitor, \n",
    "                               patience=early_stopping_patience, \n",
    "                               restore_best_weights=early_stopping_restore_best)\n",
    "model.fit(X_train, y_train, epochs=epochs, batch_size=batch_size, validation_split=validation_split, callbacks=[early_stopping])\n"
   ]
  },
  {
   "cell_type": "markdown",
   "id": "a5b1fd8d",
   "metadata": {},
   "source": [
    "Optionally save the weights of the model"
   ]
  },
  {
   "cell_type": "code",
   "execution_count": 7,
   "id": "dce5aa3f",
   "metadata": {},
   "outputs": [],
   "source": [
    "# optionally save the model weights\n",
    "filename = f\"../models/lstm_{lstm_layers}x{lstm_units_per_layer}_drop{dropout}_rec{recurrent_dropout}_lr{learning_rate}_bs{batch_size}_ep{epochs}_earlystp{early_stopping_monitor}{early_stopping_patience}{early_stopping_restore_best}_{datetime.now().strftime('%Y%m%d_%H%M%S')}\"\n",
    "model.save(f\"{filename}.keras\")"
   ]
  },
  {
   "cell_type": "markdown",
   "id": "52041822",
   "metadata": {},
   "source": [
    "Evaluate model and print scores"
   ]
  },
  {
   "cell_type": "code",
   "execution_count": 8,
   "id": "80f7ba17",
   "metadata": {},
   "outputs": [
    {
     "data": {
      "text/html": [
       "<pre style=\"white-space:pre;overflow-x:auto;line-height:normal;font-family:Menlo,'DejaVu Sans Mono',consolas,'Courier New',monospace\"></pre>\n"
      ],
      "text/plain": []
     },
     "metadata": {},
     "output_type": "display_data"
    },
    {
     "name": "stderr",
     "output_type": "stream",
     "text": [
      "d:\\mgeo\\projects\\log-classification\\venv\\Lib\\site-packages\\sklearn\\metrics\\_classification.py:1565: UndefinedMetricWarning: Precision is ill-defined and being set to 0.0 in labels with no predicted samples. Use `zero_division` parameter to control this behavior.\n",
      "  _warn_prf(average, modifier, f\"{metric.capitalize()} is\", len(result))\n",
      "d:\\mgeo\\projects\\log-classification\\venv\\Lib\\site-packages\\sklearn\\metrics\\_classification.py:1565: UndefinedMetricWarning: Precision is ill-defined and being set to 0.0 in labels with no predicted samples. Use `zero_division` parameter to control this behavior.\n",
      "  _warn_prf(average, modifier, f\"{metric.capitalize()} is\", len(result))\n",
      "d:\\mgeo\\projects\\log-classification\\venv\\Lib\\site-packages\\sklearn\\metrics\\_classification.py:1565: UndefinedMetricWarning: Precision is ill-defined and being set to 0.0 in labels with no predicted samples. Use `zero_division` parameter to control this behavior.\n",
      "  _warn_prf(average, modifier, f\"{metric.capitalize()} is\", len(result))\n"
     ]
    },
    {
     "data": {
      "image/png": "[encoded data removed]",
      "text/plain": [
       "<Figure size 1000x800 with 2 Axes>"
      ]
     },
     "metadata": {},
     "output_type": "display_data"
    }
   ],
   "source": [
    "f = open(f\"{filename}.txt\", \"w\")\n",
    "ostd = sys.stdout\n",
    "sys.stdout = f\n",
    "\n",
    "# Summary of the model\n",
    "model.summary(print_fn=f.write)\n",
    "\n",
    "# Evaluate the model on test data\n",
    "results = model.evaluate(X_test, y_test, verbose=0)\n",
    "for name, value in zip(model.metrics_names, results):\n",
    "    print(f\"{name}: {value:.4f}\")\n",
    "\n",
    "# Predictions\n",
    "predictions = model.predict(X_test)\n",
    "y_pred = np.argmax(predictions, axis=1)\n",
    "\n",
    "# Classification report and F1 score\n",
    "print(\"\\nClassification Report:\")\n",
    "print(classification_report(y_test, y_pred))\n",
    "\n",
    "f1 = f1_score(y_test, y_pred, average='weighted')\n",
    "print(f\"F1 Score (weighted): {f1:.4f}\")\n",
    "\n",
    "# Confusion matrix\n",
    "conf_matrix = confusion_matrix(y_test, y_pred)\n",
    "plt.figure(figsize=(10, 8))\n",
    "sns.heatmap(conf_matrix, annot=True, fmt='d', cmap='Blues')\n",
    "plt.xlabel('Predicted')\n",
    "plt.ylabel('Actual')\n",
    "plt.title('Confusion Matrix')\n",
    "plt.savefig(f\"{filename}.png\")\n",
    "plt.show()\n",
    "\n",
    "\n",
    "# === Preview Predictions ===\n",
    "for i in range(min(80, len(y_pred))):\n",
    "    print(f\"True: {y_test[i]}, Pred: {y_pred[i]}, Prob: {predictions[i]}\")\n",
    "\n",
    "sys.stdout = ostd\n"
   ]
  },
  {
   "cell_type": "markdown",
   "id": "1508e8a1",
   "metadata": {},
   "source": [
    "Save the confusion matrix"
   ]
  }
 ],
 "metadata": {
  "kernelspec": {
   "display_name": "venv",
   "language": "python",
   "name": "python3"
  },
  "language_info": {
   "codemirror_mode": {
    "name": "ipython",
    "version": 3
   },
   "file_extension": ".py",
   "mimetype": "text/x-python",
   "name": "python",
   "nbconvert_exporter": "python",
   "pygments_lexer": "ipython3",
   "version": "3.11.9"
  }
 },
 "nbformat": 4,
 "nbformat_minor": 5
}
