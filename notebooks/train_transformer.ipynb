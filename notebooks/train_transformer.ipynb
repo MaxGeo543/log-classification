{
 "cells": [
  {
   "cell_type": "markdown",
   "id": "a297fabe",
   "metadata": {},
   "source": [
    "First import all neccessary modules"
   ]
  },
  {
   "cell_type": "code",
   "execution_count": 1,
   "id": "ce1c93f3",
   "metadata": {},
   "outputs": [],
   "source": [
    "from datetime import datetime\n",
    "import numpy as np\n",
    "from keras.models import Model\n",
    "from keras.layers import Input, Dense, LayerNormalization, Dropout, MultiHeadAttention, Add, GlobalAveragePooling1D\n",
    "from keras.callbacks import EarlyStopping\n",
    "from keras.metrics import Accuracy, Precision, Recall\n",
    "from keras.optimizers import Adam, RMSprop, SGD, Nadam\n",
    "from sklearn.metrics import classification_report, confusion_matrix, f1_score\n",
    "import matplotlib.pyplot as plt\n",
    "import seaborn as sns\n",
    "import tensorflow as tf\n",
    "import os\n",
    "import keras\n",
    "from positional_encoding import PositionalEncoding\n",
    "\n",
    "from preprocessor import Preprocessor\n",
    "from message_encoder import *"
   ]
  },
  {
   "cell_type": "markdown",
   "id": "dfee08c1",
   "metadata": {},
   "source": [
    "Next we define all hyperparameters for the Training of the LSTM module. "
   ]
  },
  {
   "cell_type": "code",
   "execution_count": null,
   "id": "6f4b3568",
   "metadata": {},
   "outputs": [],
   "source": [
    "# === Preprocessing parameters ===\n",
    "log_files = [i for i in range(745, 754)]            # list of ints representing the numbers of log files to use\n",
    "logs_per_class = 100                                # int, how many datapoints per class should be collected if available\n",
    "window_size = 20                                    # int, how many log messages to be considered in a single data point from sliding window\n",
    "encoding_output_size = 16                           # int, dimensionality of each message's encoded vector representation\n",
    "message_encoder = BERTEncoder(encoding_output_size) # encoder object, can be TextVectorizationEncoder, BERTEncoder, or BERTEmbeddingEncoder\n",
    "extended_datetime_features = False                  # bool, whether to use additional normalized datetime features\n",
    "preprocessor_file = r\"C:\\Users\\Askion\\Documents\\agmge\\log-classification\\data\\preprocessors\\preprocessor_20_smallest_files_100lpc_20ws_BERTencx16.zip\"  # str (path), if not empty and exists, loads existing preprocessor file instead of creating one\n",
    "\n",
    "# === Transformer Hyperparameters ===\n",
    "model_dim = 128                                     # int, dimension of the transformer hidden layers; must be divisible by num_heads\n",
    "num_heads = 4                                       # int, number of attention heads in multi-head attention; must divide model_dim evenly\n",
    "ff_dim = 256                                        # int, dimension of the feed-forward layer inside each transformer block\n",
    "num_transformer_blocks = 2                          # int, how many stacked transformer blocks to use; generally 1–6 for lightweight models\n",
    "dropout_rate = 0                                  # float in range [0.0, 1.0], dropout rate for regularization; 0.0 disables dropout\n",
    "\n",
    "# === Training hyperparameters ===\n",
    "split_ratios = (4, 1)                               # tuple of ints, ratio of data split for training and testing\n",
    "epochs = 1000                                       # int, number of iterations (epochs) to train the model\n",
    "batch_size = 32                                     # int, number of samples per training batch\n",
    "early_stopping_monitor = \"val_loss\"                 # str, metric to monitor for early stopping; options: 'loss', 'val_loss', 'accuracy', 'val_accuracy', etc.\n",
    "early_stopping_patience = 10                        # int, number of epochs with no improvement after which training will be stopped\n",
    "early_stopping_restore_best = True                  # bool, whether to restore model weights from the epoch with the best monitored value\n",
    "validation_split = 0.1                              # float in range (0.0, 1.0), fraction of training data to reserve for validation\n",
    "learning_rate = 0.001                               # float > 0.0, learning rate used by the optimizer\n",
    "optimizer = Adam(learning_rate=learning_rate)       # optimizer instance, can be Adam, RMSprop, SGD (optionally with momentum), or Nadam\n"
   ]
  },
  {
   "cell_type": "markdown",
   "id": "af08da64",
   "metadata": {},
   "source": [
    "Next we load logs and preprocess the data. "
   ]
  },
  {
   "cell_type": "code",
   "execution_count": 3,
   "id": "47994355",
   "metadata": {},
   "outputs": [],
   "source": [
    "# === Load or preprocess data ===\n",
    "if os.path.isfile(preprocessor_file):\n",
    "    print(\"loading preprocessor from fil\")\n",
    "    pp = Preprocessor.load(preprocessor_file)\n",
    "else:\n",
    "    pp = Preprocessor(log_files, message_encoder,\n",
    "                      logs_per_class=logs_per_class,\n",
    "                      window_size=window_size,\n",
    "                      extended_datetime_features=extended_datetime_features,\n",
    "                      volatile=True)\n",
    "    pp.preprocess()\n",
    "    path = f\"./data/preprocessors/preprocessor_{len(pp.loaded_files)}files_\"\n",
    "    enc_type = \"BERTenc\" if isinstance(pp.message_encoder, BERTEncoder) else \"BERTemb\" if isinstance(pp.message_encoder, BERTEmbeddingEncoder) else \"TextVec\"\n",
    "    path += f\"{logs_per_class}lpc_{window_size}ws_{enc_type}x{encoding_output_size}\"\n",
    "    if extended_datetime_features:\n",
    "        path += \"_extdt\"\n",
    "    path += \".json\"\n",
    "    if not os.path.isfile(path):\n",
    "        pp.save(path)\n",
    "\n",
    "# === Prepare data ===\n",
    "train, test = pp.data.stratified_split(split_ratios)\n",
    "X_train, y_train = train\n",
    "X_test, y_test = test\n",
    "input_shape = pp.data.entry_shape\n",
    "num_classes = len(set(y_train))"
   ]
  },
  {
   "cell_type": "markdown",
   "id": "dfdf3506",
   "metadata": {},
   "source": [
    "Define the model architecture for the LSTM, then train the LSTM model. "
   ]
  },
  {
   "cell_type": "code",
   "execution_count": 4,
   "id": "67e8f58a",
   "metadata": {},
   "outputs": [
    {
     "name": "stdout",
     "output_type": "stream",
     "text": [
      "WARNING:tensorflow:From c:\\Users\\Askion\\Documents\\agmge\\log-classification\\venv\\Lib\\site-packages\\keras\\src\\backend\\tensorflow\\core.py:232: The name tf.placeholder is deprecated. Please use tf.compat.v1.placeholder instead.\n",
      "\n",
      "Epoch 1/1000\n",
      "\u001b[1m9/9\u001b[0m \u001b[32m━━━━━━━━━━━━━━━━━━━━\u001b[0m\u001b[37m\u001b[0m \u001b[1m8s\u001b[0m 92ms/step - accuracy: 0.4081 - loss: 1.2905 - val_accuracy: 0.6562 - val_loss: 0.8752\n",
      "Epoch 2/1000\n",
      "\u001b[1m9/9\u001b[0m \u001b[32m━━━━━━━━━━━━━━━━━━━━\u001b[0m\u001b[37m\u001b[0m \u001b[1m0s\u001b[0m 37ms/step - accuracy: 0.7247 - loss: 0.6038 - val_accuracy: 0.6562 - val_loss: 0.5485\n",
      "Epoch 3/1000\n",
      "\u001b[1m9/9\u001b[0m \u001b[32m━━━━━━━━━━━━━━━━━━━━\u001b[0m\u001b[37m\u001b[0m \u001b[1m0s\u001b[0m 36ms/step - accuracy: 0.7398 - loss: 0.5175 - val_accuracy: 0.7500 - val_loss: 0.4524\n",
      "Epoch 4/1000\n",
      "\u001b[1m9/9\u001b[0m \u001b[32m━━━━━━━━━━━━━━━━━━━━\u001b[0m\u001b[37m\u001b[0m \u001b[1m0s\u001b[0m 36ms/step - accuracy: 0.8482 - loss: 0.3528 - val_accuracy: 0.7188 - val_loss: 0.6842\n",
      "Epoch 5/1000\n",
      "\u001b[1m9/9\u001b[0m \u001b[32m━━━━━━━━━━━━━━━━━━━━\u001b[0m\u001b[37m\u001b[0m \u001b[1m0s\u001b[0m 39ms/step - accuracy: 0.8532 - loss: 0.2943 - val_accuracy: 0.8438 - val_loss: 0.5079\n",
      "Epoch 6/1000\n",
      "\u001b[1m9/9\u001b[0m \u001b[32m━━━━━━━━━━━━━━━━━━━━\u001b[0m\u001b[37m\u001b[0m \u001b[1m1s\u001b[0m 72ms/step - accuracy: 0.8810 - loss: 0.2817 - val_accuracy: 0.8438 - val_loss: 0.5614\n",
      "Epoch 7/1000\n",
      "\u001b[1m9/9\u001b[0m \u001b[32m━━━━━━━━━━━━━━━━━━━━\u001b[0m\u001b[37m\u001b[0m \u001b[1m1s\u001b[0m 60ms/step - accuracy: 0.9286 - loss: 0.2258 - val_accuracy: 0.8438 - val_loss: 0.3849\n",
      "Epoch 8/1000\n",
      "\u001b[1m9/9\u001b[0m \u001b[32m━━━━━━━━━━━━━━━━━━━━\u001b[0m\u001b[37m\u001b[0m \u001b[1m0s\u001b[0m 38ms/step - accuracy: 0.9653 - loss: 0.1585 - val_accuracy: 0.8438 - val_loss: 0.4980\n",
      "Epoch 9/1000\n",
      "\u001b[1m9/9\u001b[0m \u001b[32m━━━━━━━━━━━━━━━━━━━━\u001b[0m\u001b[37m\u001b[0m \u001b[1m0s\u001b[0m 37ms/step - accuracy: 0.9507 - loss: 0.1190 - val_accuracy: 0.8438 - val_loss: 0.5490\n",
      "Epoch 10/1000\n",
      "\u001b[1m9/9\u001b[0m \u001b[32m━━━━━━━━━━━━━━━━━━━━\u001b[0m\u001b[37m\u001b[0m \u001b[1m0s\u001b[0m 37ms/step - accuracy: 0.9546 - loss: 0.1365 - val_accuracy: 0.8438 - val_loss: 0.3279\n",
      "Epoch 11/1000\n",
      "\u001b[1m9/9\u001b[0m \u001b[32m━━━━━━━━━━━━━━━━━━━━\u001b[0m\u001b[37m\u001b[0m \u001b[1m0s\u001b[0m 39ms/step - accuracy: 0.9834 - loss: 0.0728 - val_accuracy: 0.9062 - val_loss: 0.3969\n",
      "Epoch 12/1000\n",
      "\u001b[1m9/9\u001b[0m \u001b[32m━━━━━━━━━━━━━━━━━━━━\u001b[0m\u001b[37m\u001b[0m \u001b[1m0s\u001b[0m 36ms/step - accuracy: 0.9842 - loss: 0.0553 - val_accuracy: 0.9062 - val_loss: 0.1688\n",
      "Epoch 13/1000\n",
      "\u001b[1m9/9\u001b[0m \u001b[32m━━━━━━━━━━━━━━━━━━━━\u001b[0m\u001b[37m\u001b[0m \u001b[1m0s\u001b[0m 41ms/step - accuracy: 0.9862 - loss: 0.0763 - val_accuracy: 0.9062 - val_loss: 0.4767\n",
      "Epoch 14/1000\n",
      "\u001b[1m9/9\u001b[0m \u001b[32m━━━━━━━━━━━━━━━━━━━━\u001b[0m\u001b[37m\u001b[0m \u001b[1m0s\u001b[0m 36ms/step - accuracy: 0.9898 - loss: 0.0502 - val_accuracy: 0.9062 - val_loss: 0.2462\n",
      "Epoch 15/1000\n",
      "\u001b[1m9/9\u001b[0m \u001b[32m━━━━━━━━━━━━━━━━━━━━\u001b[0m\u001b[37m\u001b[0m \u001b[1m0s\u001b[0m 34ms/step - accuracy: 0.9872 - loss: 0.0521 - val_accuracy: 0.9062 - val_loss: 0.4538\n",
      "Epoch 16/1000\n",
      "\u001b[1m9/9\u001b[0m \u001b[32m━━━━━━━━━━━━━━━━━━━━\u001b[0m\u001b[37m\u001b[0m \u001b[1m0s\u001b[0m 38ms/step - accuracy: 0.9894 - loss: 0.0547 - val_accuracy: 0.9062 - val_loss: 0.3493\n",
      "Epoch 17/1000\n",
      "\u001b[1m9/9\u001b[0m \u001b[32m━━━━━━━━━━━━━━━━━━━━\u001b[0m\u001b[37m\u001b[0m \u001b[1m0s\u001b[0m 40ms/step - accuracy: 0.9945 - loss: 0.0300 - val_accuracy: 0.9062 - val_loss: 0.2310\n",
      "Epoch 18/1000\n",
      "\u001b[1m9/9\u001b[0m \u001b[32m━━━━━━━━━━━━━━━━━━━━\u001b[0m\u001b[37m\u001b[0m \u001b[1m0s\u001b[0m 38ms/step - accuracy: 0.9949 - loss: 0.0280 - val_accuracy: 0.9062 - val_loss: 0.3359\n",
      "Epoch 19/1000\n",
      "\u001b[1m9/9\u001b[0m \u001b[32m━━━━━━━━━━━━━━━━━━━━\u001b[0m\u001b[37m\u001b[0m \u001b[1m0s\u001b[0m 36ms/step - accuracy: 0.9959 - loss: 0.0159 - val_accuracy: 0.9062 - val_loss: 0.3544\n",
      "Epoch 20/1000\n",
      "\u001b[1m9/9\u001b[0m \u001b[32m━━━━━━━━━━━━━━━━━━━━\u001b[0m\u001b[37m\u001b[0m \u001b[1m0s\u001b[0m 36ms/step - accuracy: 0.9940 - loss: 0.0276 - val_accuracy: 0.9062 - val_loss: 0.2676\n",
      "Epoch 21/1000\n",
      "\u001b[1m9/9\u001b[0m \u001b[32m━━━━━━━━━━━━━━━━━━━━\u001b[0m\u001b[37m\u001b[0m \u001b[1m0s\u001b[0m 39ms/step - accuracy: 0.9874 - loss: 0.0414 - val_accuracy: 0.9062 - val_loss: 0.2334\n",
      "Epoch 22/1000\n",
      "\u001b[1m9/9\u001b[0m \u001b[32m━━━━━━━━━━━━━━━━━━━━\u001b[0m\u001b[37m\u001b[0m \u001b[1m0s\u001b[0m 39ms/step - accuracy: 0.9881 - loss: 0.0297 - val_accuracy: 0.9062 - val_loss: 0.3054\n"
     ]
    },
    {
     "data": {
      "text/plain": [
       "<keras.src.callbacks.history.History at 0x239f75f5010>"
      ]
     },
     "execution_count": 4,
     "metadata": {},
     "output_type": "execute_result"
    }
   ],
   "source": [
    "# === Transformer Block ===\n",
    "def transformer_block(x, model_dim, num_heads, ff_dim, dropout_rate):\n",
    "    # Multi-Head Attention\n",
    "    attn_output = MultiHeadAttention(num_heads=num_heads, key_dim=model_dim // num_heads)(x, x)\n",
    "    attn_output = Dropout(dropout_rate)(attn_output)\n",
    "    x = Add()([x, attn_output])\n",
    "    x = LayerNormalization(epsilon=1e-6)(x)\n",
    "\n",
    "    # Feed-Forward Network\n",
    "    ff_output = Dense(ff_dim, activation='relu')(x)\n",
    "    ff_output = Dense(model_dim)(ff_output)\n",
    "    ff_output = Dropout(dropout_rate)(ff_output)\n",
    "    x = Add()([x, ff_output])\n",
    "    x = LayerNormalization(epsilon=1e-6)(x)\n",
    "\n",
    "    return x\n",
    "\n",
    "# === Build Transformer Model ===\n",
    "inputs = Input(shape=input_shape)\n",
    "x = Dense(model_dim)(inputs)  # Project to model dimension\n",
    "x = PositionalEncoding()(x)\n",
    "\n",
    "# Apply multiple transformer blocks\n",
    "for _ in range(num_transformer_blocks):\n",
    "    x = transformer_block(x, model_dim, num_heads, ff_dim, dropout_rate)\n",
    "\n",
    "x = GlobalAveragePooling1D()(x)\n",
    "x = Dense(64, activation='relu')(x)\n",
    "outputs = Dense(num_classes, activation='softmax')(x)\n",
    "\n",
    "model = Model(inputs=inputs, outputs=outputs)\n",
    "\n",
    "# Compile model\n",
    "model.compile(optimizer=optimizer,\n",
    "              loss='sparse_categorical_crossentropy',\n",
    "              metrics=['accuracy'])\n",
    "\n",
    "# === Training ===\n",
    "early_stopping = EarlyStopping(monitor=early_stopping_monitor,\n",
    "                               patience=early_stopping_patience,\n",
    "                               restore_best_weights=early_stopping_restore_best)\n",
    "\n",
    "model.fit(X_train, y_train,\n",
    "          epochs=epochs,\n",
    "          batch_size=batch_size,\n",
    "          validation_split=validation_split,\n",
    "          callbacks=[early_stopping])"
   ]
  },
  {
   "cell_type": "markdown",
   "id": "a5b1fd8d",
   "metadata": {},
   "source": [
    "Optionally save the weights of the model"
   ]
  },
  {
   "cell_type": "code",
   "execution_count": 5,
   "id": "dce5aa3f",
   "metadata": {},
   "outputs": [],
   "source": [
    "# === Save model ===\n",
    "filename = f\"../models/transformer_{num_transformer_blocks}x{model_dim}_drop{dropout_rate}_enc{message_encoder.__class__.__name__.lower()}_{logs_per_class}logs_win{window_size}_lr{learning_rate}_bs{batch_size}_ep{epochs}_{early_stopping_monitor}_{datetime.now().strftime('%Y%m%d_%H%M%S')}\"\n",
    "model.save(f\"{filename}.keras\")"
   ]
  },
  {
   "cell_type": "markdown",
   "id": "52041822",
   "metadata": {},
   "source": [
    "Evaluate model and print scores"
   ]
  },
  {
   "cell_type": "code",
   "execution_count": 6,
   "id": "80f7ba17",
   "metadata": {},
   "outputs": [
    {
     "data": {
      "text/html": [
       "<pre style=\"white-space:pre;overflow-x:auto;line-height:normal;font-family:Menlo,'DejaVu Sans Mono',consolas,'Courier New',monospace\"><span style=\"font-weight: bold\">Model: \"functional\"</span>\n",
       "</pre>\n"
      ],
      "text/plain": [
       "\u001b[1mModel: \"functional\"\u001b[0m\n"
      ]
     },
     "metadata": {},
     "output_type": "display_data"
    },
    {
     "data": {
      "text/html": [
       "<pre style=\"white-space:pre;overflow-x:auto;line-height:normal;font-family:Menlo,'DejaVu Sans Mono',consolas,'Courier New',monospace\">┏━━━━━━━━━━━━━━━━━━━━━┳━━━━━━━━━━━━━━━━━━━┳━━━━━━━━━━━━┳━━━━━━━━━━━━━━━━━━━┓\n",
       "┃<span style=\"font-weight: bold\"> Layer (type)        </span>┃<span style=\"font-weight: bold\"> Output Shape      </span>┃<span style=\"font-weight: bold\">    Param # </span>┃<span style=\"font-weight: bold\"> Connected to      </span>┃\n",
       "┡━━━━━━━━━━━━━━━━━━━━━╇━━━━━━━━━━━━━━━━━━━╇━━━━━━━━━━━━╇━━━━━━━━━━━━━━━━━━━┩\n",
       "│ input_layer         │ (<span style=\"color: #00d7ff; text-decoration-color: #00d7ff\">None</span>, <span style=\"color: #00af00; text-decoration-color: #00af00\">20</span>, <span style=\"color: #00af00; text-decoration-color: #00af00\">20</span>)    │          <span style=\"color: #00af00; text-decoration-color: #00af00\">0</span> │ -                 │\n",
       "│ (<span style=\"color: #0087ff; text-decoration-color: #0087ff\">InputLayer</span>)        │                   │            │                   │\n",
       "├─────────────────────┼───────────────────┼────────────┼───────────────────┤\n",
       "│ dense (<span style=\"color: #0087ff; text-decoration-color: #0087ff\">Dense</span>)       │ (<span style=\"color: #00d7ff; text-decoration-color: #00d7ff\">None</span>, <span style=\"color: #00af00; text-decoration-color: #00af00\">20</span>, <span style=\"color: #00af00; text-decoration-color: #00af00\">128</span>)   │      <span style=\"color: #00af00; text-decoration-color: #00af00\">2,688</span> │ input_layer[<span style=\"color: #00af00; text-decoration-color: #00af00\">0</span>][<span style=\"color: #00af00; text-decoration-color: #00af00\">0</span>] │\n",
       "├─────────────────────┼───────────────────┼────────────┼───────────────────┤\n",
       "│ positional_encoding │ (<span style=\"color: #00d7ff; text-decoration-color: #00d7ff\">None</span>, <span style=\"color: #00af00; text-decoration-color: #00af00\">20</span>, <span style=\"color: #00af00; text-decoration-color: #00af00\">128</span>)   │          <span style=\"color: #00af00; text-decoration-color: #00af00\">0</span> │ dense[<span style=\"color: #00af00; text-decoration-color: #00af00\">0</span>][<span style=\"color: #00af00; text-decoration-color: #00af00\">0</span>]       │\n",
       "│ (<span style=\"color: #0087ff; text-decoration-color: #0087ff\">PositionalEncodin…</span> │                   │            │                   │\n",
       "├─────────────────────┼───────────────────┼────────────┼───────────────────┤\n",
       "│ multi_head_attenti… │ (<span style=\"color: #00d7ff; text-decoration-color: #00d7ff\">None</span>, <span style=\"color: #00af00; text-decoration-color: #00af00\">20</span>, <span style=\"color: #00af00; text-decoration-color: #00af00\">128</span>)   │     <span style=\"color: #00af00; text-decoration-color: #00af00\">66,048</span> │ positional_encod… │\n",
       "│ (<span style=\"color: #0087ff; text-decoration-color: #0087ff\">MultiHeadAttentio…</span> │                   │            │ positional_encod… │\n",
       "├─────────────────────┼───────────────────┼────────────┼───────────────────┤\n",
       "│ dropout_1 (<span style=\"color: #0087ff; text-decoration-color: #0087ff\">Dropout</span>) │ (<span style=\"color: #00d7ff; text-decoration-color: #00d7ff\">None</span>, <span style=\"color: #00af00; text-decoration-color: #00af00\">20</span>, <span style=\"color: #00af00; text-decoration-color: #00af00\">128</span>)   │          <span style=\"color: #00af00; text-decoration-color: #00af00\">0</span> │ multi_head_atten… │\n",
       "├─────────────────────┼───────────────────┼────────────┼───────────────────┤\n",
       "│ add (<span style=\"color: #0087ff; text-decoration-color: #0087ff\">Add</span>)           │ (<span style=\"color: #00d7ff; text-decoration-color: #00d7ff\">None</span>, <span style=\"color: #00af00; text-decoration-color: #00af00\">20</span>, <span style=\"color: #00af00; text-decoration-color: #00af00\">128</span>)   │          <span style=\"color: #00af00; text-decoration-color: #00af00\">0</span> │ positional_encod… │\n",
       "│                     │                   │            │ dropout_1[<span style=\"color: #00af00; text-decoration-color: #00af00\">0</span>][<span style=\"color: #00af00; text-decoration-color: #00af00\">0</span>]   │\n",
       "├─────────────────────┼───────────────────┼────────────┼───────────────────┤\n",
       "│ layer_normalization │ (<span style=\"color: #00d7ff; text-decoration-color: #00d7ff\">None</span>, <span style=\"color: #00af00; text-decoration-color: #00af00\">20</span>, <span style=\"color: #00af00; text-decoration-color: #00af00\">128</span>)   │        <span style=\"color: #00af00; text-decoration-color: #00af00\">256</span> │ add[<span style=\"color: #00af00; text-decoration-color: #00af00\">0</span>][<span style=\"color: #00af00; text-decoration-color: #00af00\">0</span>]         │\n",
       "│ (<span style=\"color: #0087ff; text-decoration-color: #0087ff\">LayerNormalizatio…</span> │                   │            │                   │\n",
       "├─────────────────────┼───────────────────┼────────────┼───────────────────┤\n",
       "│ dense_1 (<span style=\"color: #0087ff; text-decoration-color: #0087ff\">Dense</span>)     │ (<span style=\"color: #00d7ff; text-decoration-color: #00d7ff\">None</span>, <span style=\"color: #00af00; text-decoration-color: #00af00\">20</span>, <span style=\"color: #00af00; text-decoration-color: #00af00\">256</span>)   │     <span style=\"color: #00af00; text-decoration-color: #00af00\">33,024</span> │ layer_normalizat… │\n",
       "├─────────────────────┼───────────────────┼────────────┼───────────────────┤\n",
       "│ dense_2 (<span style=\"color: #0087ff; text-decoration-color: #0087ff\">Dense</span>)     │ (<span style=\"color: #00d7ff; text-decoration-color: #00d7ff\">None</span>, <span style=\"color: #00af00; text-decoration-color: #00af00\">20</span>, <span style=\"color: #00af00; text-decoration-color: #00af00\">128</span>)   │     <span style=\"color: #00af00; text-decoration-color: #00af00\">32,896</span> │ dense_1[<span style=\"color: #00af00; text-decoration-color: #00af00\">0</span>][<span style=\"color: #00af00; text-decoration-color: #00af00\">0</span>]     │\n",
       "├─────────────────────┼───────────────────┼────────────┼───────────────────┤\n",
       "│ dropout_2 (<span style=\"color: #0087ff; text-decoration-color: #0087ff\">Dropout</span>) │ (<span style=\"color: #00d7ff; text-decoration-color: #00d7ff\">None</span>, <span style=\"color: #00af00; text-decoration-color: #00af00\">20</span>, <span style=\"color: #00af00; text-decoration-color: #00af00\">128</span>)   │          <span style=\"color: #00af00; text-decoration-color: #00af00\">0</span> │ dense_2[<span style=\"color: #00af00; text-decoration-color: #00af00\">0</span>][<span style=\"color: #00af00; text-decoration-color: #00af00\">0</span>]     │\n",
       "├─────────────────────┼───────────────────┼────────────┼───────────────────┤\n",
       "│ add_1 (<span style=\"color: #0087ff; text-decoration-color: #0087ff\">Add</span>)         │ (<span style=\"color: #00d7ff; text-decoration-color: #00d7ff\">None</span>, <span style=\"color: #00af00; text-decoration-color: #00af00\">20</span>, <span style=\"color: #00af00; text-decoration-color: #00af00\">128</span>)   │          <span style=\"color: #00af00; text-decoration-color: #00af00\">0</span> │ layer_normalizat… │\n",
       "│                     │                   │            │ dropout_2[<span style=\"color: #00af00; text-decoration-color: #00af00\">0</span>][<span style=\"color: #00af00; text-decoration-color: #00af00\">0</span>]   │\n",
       "├─────────────────────┼───────────────────┼────────────┼───────────────────┤\n",
       "│ layer_normalizatio… │ (<span style=\"color: #00d7ff; text-decoration-color: #00d7ff\">None</span>, <span style=\"color: #00af00; text-decoration-color: #00af00\">20</span>, <span style=\"color: #00af00; text-decoration-color: #00af00\">128</span>)   │        <span style=\"color: #00af00; text-decoration-color: #00af00\">256</span> │ add_1[<span style=\"color: #00af00; text-decoration-color: #00af00\">0</span>][<span style=\"color: #00af00; text-decoration-color: #00af00\">0</span>]       │\n",
       "│ (<span style=\"color: #0087ff; text-decoration-color: #0087ff\">LayerNormalizatio…</span> │                   │            │                   │\n",
       "├─────────────────────┼───────────────────┼────────────┼───────────────────┤\n",
       "│ multi_head_attenti… │ (<span style=\"color: #00d7ff; text-decoration-color: #00d7ff\">None</span>, <span style=\"color: #00af00; text-decoration-color: #00af00\">20</span>, <span style=\"color: #00af00; text-decoration-color: #00af00\">128</span>)   │     <span style=\"color: #00af00; text-decoration-color: #00af00\">66,048</span> │ layer_normalizat… │\n",
       "│ (<span style=\"color: #0087ff; text-decoration-color: #0087ff\">MultiHeadAttentio…</span> │                   │            │ layer_normalizat… │\n",
       "├─────────────────────┼───────────────────┼────────────┼───────────────────┤\n",
       "│ dropout_4 (<span style=\"color: #0087ff; text-decoration-color: #0087ff\">Dropout</span>) │ (<span style=\"color: #00d7ff; text-decoration-color: #00d7ff\">None</span>, <span style=\"color: #00af00; text-decoration-color: #00af00\">20</span>, <span style=\"color: #00af00; text-decoration-color: #00af00\">128</span>)   │          <span style=\"color: #00af00; text-decoration-color: #00af00\">0</span> │ multi_head_atten… │\n",
       "├─────────────────────┼───────────────────┼────────────┼───────────────────┤\n",
       "│ add_2 (<span style=\"color: #0087ff; text-decoration-color: #0087ff\">Add</span>)         │ (<span style=\"color: #00d7ff; text-decoration-color: #00d7ff\">None</span>, <span style=\"color: #00af00; text-decoration-color: #00af00\">20</span>, <span style=\"color: #00af00; text-decoration-color: #00af00\">128</span>)   │          <span style=\"color: #00af00; text-decoration-color: #00af00\">0</span> │ layer_normalizat… │\n",
       "│                     │                   │            │ dropout_4[<span style=\"color: #00af00; text-decoration-color: #00af00\">0</span>][<span style=\"color: #00af00; text-decoration-color: #00af00\">0</span>]   │\n",
       "├─────────────────────┼───────────────────┼────────────┼───────────────────┤\n",
       "│ layer_normalizatio… │ (<span style=\"color: #00d7ff; text-decoration-color: #00d7ff\">None</span>, <span style=\"color: #00af00; text-decoration-color: #00af00\">20</span>, <span style=\"color: #00af00; text-decoration-color: #00af00\">128</span>)   │        <span style=\"color: #00af00; text-decoration-color: #00af00\">256</span> │ add_2[<span style=\"color: #00af00; text-decoration-color: #00af00\">0</span>][<span style=\"color: #00af00; text-decoration-color: #00af00\">0</span>]       │\n",
       "│ (<span style=\"color: #0087ff; text-decoration-color: #0087ff\">LayerNormalizatio…</span> │                   │            │                   │\n",
       "├─────────────────────┼───────────────────┼────────────┼───────────────────┤\n",
       "│ dense_3 (<span style=\"color: #0087ff; text-decoration-color: #0087ff\">Dense</span>)     │ (<span style=\"color: #00d7ff; text-decoration-color: #00d7ff\">None</span>, <span style=\"color: #00af00; text-decoration-color: #00af00\">20</span>, <span style=\"color: #00af00; text-decoration-color: #00af00\">256</span>)   │     <span style=\"color: #00af00; text-decoration-color: #00af00\">33,024</span> │ layer_normalizat… │\n",
       "├─────────────────────┼───────────────────┼────────────┼───────────────────┤\n",
       "│ dense_4 (<span style=\"color: #0087ff; text-decoration-color: #0087ff\">Dense</span>)     │ (<span style=\"color: #00d7ff; text-decoration-color: #00d7ff\">None</span>, <span style=\"color: #00af00; text-decoration-color: #00af00\">20</span>, <span style=\"color: #00af00; text-decoration-color: #00af00\">128</span>)   │     <span style=\"color: #00af00; text-decoration-color: #00af00\">32,896</span> │ dense_3[<span style=\"color: #00af00; text-decoration-color: #00af00\">0</span>][<span style=\"color: #00af00; text-decoration-color: #00af00\">0</span>]     │\n",
       "├─────────────────────┼───────────────────┼────────────┼───────────────────┤\n",
       "│ dropout_5 (<span style=\"color: #0087ff; text-decoration-color: #0087ff\">Dropout</span>) │ (<span style=\"color: #00d7ff; text-decoration-color: #00d7ff\">None</span>, <span style=\"color: #00af00; text-decoration-color: #00af00\">20</span>, <span style=\"color: #00af00; text-decoration-color: #00af00\">128</span>)   │          <span style=\"color: #00af00; text-decoration-color: #00af00\">0</span> │ dense_4[<span style=\"color: #00af00; text-decoration-color: #00af00\">0</span>][<span style=\"color: #00af00; text-decoration-color: #00af00\">0</span>]     │\n",
       "├─────────────────────┼───────────────────┼────────────┼───────────────────┤\n",
       "│ add_3 (<span style=\"color: #0087ff; text-decoration-color: #0087ff\">Add</span>)         │ (<span style=\"color: #00d7ff; text-decoration-color: #00d7ff\">None</span>, <span style=\"color: #00af00; text-decoration-color: #00af00\">20</span>, <span style=\"color: #00af00; text-decoration-color: #00af00\">128</span>)   │          <span style=\"color: #00af00; text-decoration-color: #00af00\">0</span> │ layer_normalizat… │\n",
       "│                     │                   │            │ dropout_5[<span style=\"color: #00af00; text-decoration-color: #00af00\">0</span>][<span style=\"color: #00af00; text-decoration-color: #00af00\">0</span>]   │\n",
       "├─────────────────────┼───────────────────┼────────────┼───────────────────┤\n",
       "│ layer_normalizatio… │ (<span style=\"color: #00d7ff; text-decoration-color: #00d7ff\">None</span>, <span style=\"color: #00af00; text-decoration-color: #00af00\">20</span>, <span style=\"color: #00af00; text-decoration-color: #00af00\">128</span>)   │        <span style=\"color: #00af00; text-decoration-color: #00af00\">256</span> │ add_3[<span style=\"color: #00af00; text-decoration-color: #00af00\">0</span>][<span style=\"color: #00af00; text-decoration-color: #00af00\">0</span>]       │\n",
       "│ (<span style=\"color: #0087ff; text-decoration-color: #0087ff\">LayerNormalizatio…</span> │                   │            │                   │\n",
       "├─────────────────────┼───────────────────┼────────────┼───────────────────┤\n",
       "│ global_average_poo… │ (<span style=\"color: #00d7ff; text-decoration-color: #00d7ff\">None</span>, <span style=\"color: #00af00; text-decoration-color: #00af00\">128</span>)       │          <span style=\"color: #00af00; text-decoration-color: #00af00\">0</span> │ layer_normalizat… │\n",
       "│ (<span style=\"color: #0087ff; text-decoration-color: #0087ff\">GlobalAveragePool…</span> │                   │            │                   │\n",
       "├─────────────────────┼───────────────────┼────────────┼───────────────────┤\n",
       "│ dense_5 (<span style=\"color: #0087ff; text-decoration-color: #0087ff\">Dense</span>)     │ (<span style=\"color: #00d7ff; text-decoration-color: #00d7ff\">None</span>, <span style=\"color: #00af00; text-decoration-color: #00af00\">64</span>)        │      <span style=\"color: #00af00; text-decoration-color: #00af00\">8,256</span> │ global_average_p… │\n",
       "├─────────────────────┼───────────────────┼────────────┼───────────────────┤\n",
       "│ dense_6 (<span style=\"color: #0087ff; text-decoration-color: #0087ff\">Dense</span>)     │ (<span style=\"color: #00d7ff; text-decoration-color: #00d7ff\">None</span>, <span style=\"color: #00af00; text-decoration-color: #00af00\">4</span>)         │        <span style=\"color: #00af00; text-decoration-color: #00af00\">260</span> │ dense_5[<span style=\"color: #00af00; text-decoration-color: #00af00\">0</span>][<span style=\"color: #00af00; text-decoration-color: #00af00\">0</span>]     │\n",
       "└─────────────────────┴───────────────────┴────────────┴───────────────────┘\n",
       "</pre>\n"
      ],
      "text/plain": [
       "┏━━━━━━━━━━━━━━━━━━━━━┳━━━━━━━━━━━━━━━━━━━┳━━━━━━━━━━━━┳━━━━━━━━━━━━━━━━━━━┓\n",
       "┃\u001b[1m \u001b[0m\u001b[1mLayer (type)       \u001b[0m\u001b[1m \u001b[0m┃\u001b[1m \u001b[0m\u001b[1mOutput Shape     \u001b[0m\u001b[1m \u001b[0m┃\u001b[1m \u001b[0m\u001b[1m   Param #\u001b[0m\u001b[1m \u001b[0m┃\u001b[1m \u001b[0m\u001b[1mConnected to     \u001b[0m\u001b[1m \u001b[0m┃\n",
       "┡━━━━━━━━━━━━━━━━━━━━━╇━━━━━━━━━━━━━━━━━━━╇━━━━━━━━━━━━╇━━━━━━━━━━━━━━━━━━━┩\n",
       "│ input_layer         │ (\u001b[38;5;45mNone\u001b[0m, \u001b[38;5;34m20\u001b[0m, \u001b[38;5;34m20\u001b[0m)    │          \u001b[38;5;34m0\u001b[0m │ -                 │\n",
       "│ (\u001b[38;5;33mInputLayer\u001b[0m)        │                   │            │                   │\n",
       "├─────────────────────┼───────────────────┼────────────┼───────────────────┤\n",
       "│ dense (\u001b[38;5;33mDense\u001b[0m)       │ (\u001b[38;5;45mNone\u001b[0m, \u001b[38;5;34m20\u001b[0m, \u001b[38;5;34m128\u001b[0m)   │      \u001b[38;5;34m2,688\u001b[0m │ input_layer[\u001b[38;5;34m0\u001b[0m][\u001b[38;5;34m0\u001b[0m] │\n",
       "├─────────────────────┼───────────────────┼────────────┼───────────────────┤\n",
       "│ positional_encoding │ (\u001b[38;5;45mNone\u001b[0m, \u001b[38;5;34m20\u001b[0m, \u001b[38;5;34m128\u001b[0m)   │          \u001b[38;5;34m0\u001b[0m │ dense[\u001b[38;5;34m0\u001b[0m][\u001b[38;5;34m0\u001b[0m]       │\n",
       "│ (\u001b[38;5;33mPositionalEncodin…\u001b[0m │                   │            │                   │\n",
       "├─────────────────────┼───────────────────┼────────────┼───────────────────┤\n",
       "│ multi_head_attenti… │ (\u001b[38;5;45mNone\u001b[0m, \u001b[38;5;34m20\u001b[0m, \u001b[38;5;34m128\u001b[0m)   │     \u001b[38;5;34m66,048\u001b[0m │ positional_encod… │\n",
       "│ (\u001b[38;5;33mMultiHeadAttentio…\u001b[0m │                   │            │ positional_encod… │\n",
       "├─────────────────────┼───────────────────┼────────────┼───────────────────┤\n",
       "│ dropout_1 (\u001b[38;5;33mDropout\u001b[0m) │ (\u001b[38;5;45mNone\u001b[0m, \u001b[38;5;34m20\u001b[0m, \u001b[38;5;34m128\u001b[0m)   │          \u001b[38;5;34m0\u001b[0m │ multi_head_atten… │\n",
       "├─────────────────────┼───────────────────┼────────────┼───────────────────┤\n",
       "│ add (\u001b[38;5;33mAdd\u001b[0m)           │ (\u001b[38;5;45mNone\u001b[0m, \u001b[38;5;34m20\u001b[0m, \u001b[38;5;34m128\u001b[0m)   │          \u001b[38;5;34m0\u001b[0m │ positional_encod… │\n",
       "│                     │                   │            │ dropout_1[\u001b[38;5;34m0\u001b[0m][\u001b[38;5;34m0\u001b[0m]   │\n",
       "├─────────────────────┼───────────────────┼────────────┼───────────────────┤\n",
       "│ layer_normalization │ (\u001b[38;5;45mNone\u001b[0m, \u001b[38;5;34m20\u001b[0m, \u001b[38;5;34m128\u001b[0m)   │        \u001b[38;5;34m256\u001b[0m │ add[\u001b[38;5;34m0\u001b[0m][\u001b[38;5;34m0\u001b[0m]         │\n",
       "│ (\u001b[38;5;33mLayerNormalizatio…\u001b[0m │                   │            │                   │\n",
       "├─────────────────────┼───────────────────┼────────────┼───────────────────┤\n",
       "│ dense_1 (\u001b[38;5;33mDense\u001b[0m)     │ (\u001b[38;5;45mNone\u001b[0m, \u001b[38;5;34m20\u001b[0m, \u001b[38;5;34m256\u001b[0m)   │     \u001b[38;5;34m33,024\u001b[0m │ layer_normalizat… │\n",
       "├─────────────────────┼───────────────────┼────────────┼───────────────────┤\n",
       "│ dense_2 (\u001b[38;5;33mDense\u001b[0m)     │ (\u001b[38;5;45mNone\u001b[0m, \u001b[38;5;34m20\u001b[0m, \u001b[38;5;34m128\u001b[0m)   │     \u001b[38;5;34m32,896\u001b[0m │ dense_1[\u001b[38;5;34m0\u001b[0m][\u001b[38;5;34m0\u001b[0m]     │\n",
       "├─────────────────────┼───────────────────┼────────────┼───────────────────┤\n",
       "│ dropout_2 (\u001b[38;5;33mDropout\u001b[0m) │ (\u001b[38;5;45mNone\u001b[0m, \u001b[38;5;34m20\u001b[0m, \u001b[38;5;34m128\u001b[0m)   │          \u001b[38;5;34m0\u001b[0m │ dense_2[\u001b[38;5;34m0\u001b[0m][\u001b[38;5;34m0\u001b[0m]     │\n",
       "├─────────────────────┼───────────────────┼────────────┼───────────────────┤\n",
       "│ add_1 (\u001b[38;5;33mAdd\u001b[0m)         │ (\u001b[38;5;45mNone\u001b[0m, \u001b[38;5;34m20\u001b[0m, \u001b[38;5;34m128\u001b[0m)   │          \u001b[38;5;34m0\u001b[0m │ layer_normalizat… │\n",
       "│                     │                   │            │ dropout_2[\u001b[38;5;34m0\u001b[0m][\u001b[38;5;34m0\u001b[0m]   │\n",
       "├─────────────────────┼───────────────────┼────────────┼───────────────────┤\n",
       "│ layer_normalizatio… │ (\u001b[38;5;45mNone\u001b[0m, \u001b[38;5;34m20\u001b[0m, \u001b[38;5;34m128\u001b[0m)   │        \u001b[38;5;34m256\u001b[0m │ add_1[\u001b[38;5;34m0\u001b[0m][\u001b[38;5;34m0\u001b[0m]       │\n",
       "│ (\u001b[38;5;33mLayerNormalizatio…\u001b[0m │                   │            │                   │\n",
       "├─────────────────────┼───────────────────┼────────────┼───────────────────┤\n",
       "│ multi_head_attenti… │ (\u001b[38;5;45mNone\u001b[0m, \u001b[38;5;34m20\u001b[0m, \u001b[38;5;34m128\u001b[0m)   │     \u001b[38;5;34m66,048\u001b[0m │ layer_normalizat… │\n",
       "│ (\u001b[38;5;33mMultiHeadAttentio…\u001b[0m │                   │            │ layer_normalizat… │\n",
       "├─────────────────────┼───────────────────┼────────────┼───────────────────┤\n",
       "│ dropout_4 (\u001b[38;5;33mDropout\u001b[0m) │ (\u001b[38;5;45mNone\u001b[0m, \u001b[38;5;34m20\u001b[0m, \u001b[38;5;34m128\u001b[0m)   │          \u001b[38;5;34m0\u001b[0m │ multi_head_atten… │\n",
       "├─────────────────────┼───────────────────┼────────────┼───────────────────┤\n",
       "│ add_2 (\u001b[38;5;33mAdd\u001b[0m)         │ (\u001b[38;5;45mNone\u001b[0m, \u001b[38;5;34m20\u001b[0m, \u001b[38;5;34m128\u001b[0m)   │          \u001b[38;5;34m0\u001b[0m │ layer_normalizat… │\n",
       "│                     │                   │            │ dropout_4[\u001b[38;5;34m0\u001b[0m][\u001b[38;5;34m0\u001b[0m]   │\n",
       "├─────────────────────┼───────────────────┼────────────┼───────────────────┤\n",
       "│ layer_normalizatio… │ (\u001b[38;5;45mNone\u001b[0m, \u001b[38;5;34m20\u001b[0m, \u001b[38;5;34m128\u001b[0m)   │        \u001b[38;5;34m256\u001b[0m │ add_2[\u001b[38;5;34m0\u001b[0m][\u001b[38;5;34m0\u001b[0m]       │\n",
       "│ (\u001b[38;5;33mLayerNormalizatio…\u001b[0m │                   │            │                   │\n",
       "├─────────────────────┼───────────────────┼────────────┼───────────────────┤\n",
       "│ dense_3 (\u001b[38;5;33mDense\u001b[0m)     │ (\u001b[38;5;45mNone\u001b[0m, \u001b[38;5;34m20\u001b[0m, \u001b[38;5;34m256\u001b[0m)   │     \u001b[38;5;34m33,024\u001b[0m │ layer_normalizat… │\n",
       "├─────────────────────┼───────────────────┼────────────┼───────────────────┤\n",
       "│ dense_4 (\u001b[38;5;33mDense\u001b[0m)     │ (\u001b[38;5;45mNone\u001b[0m, \u001b[38;5;34m20\u001b[0m, \u001b[38;5;34m128\u001b[0m)   │     \u001b[38;5;34m32,896\u001b[0m │ dense_3[\u001b[38;5;34m0\u001b[0m][\u001b[38;5;34m0\u001b[0m]     │\n",
       "├─────────────────────┼───────────────────┼────────────┼───────────────────┤\n",
       "│ dropout_5 (\u001b[38;5;33mDropout\u001b[0m) │ (\u001b[38;5;45mNone\u001b[0m, \u001b[38;5;34m20\u001b[0m, \u001b[38;5;34m128\u001b[0m)   │          \u001b[38;5;34m0\u001b[0m │ dense_4[\u001b[38;5;34m0\u001b[0m][\u001b[38;5;34m0\u001b[0m]     │\n",
       "├─────────────────────┼───────────────────┼────────────┼───────────────────┤\n",
       "│ add_3 (\u001b[38;5;33mAdd\u001b[0m)         │ (\u001b[38;5;45mNone\u001b[0m, \u001b[38;5;34m20\u001b[0m, \u001b[38;5;34m128\u001b[0m)   │          \u001b[38;5;34m0\u001b[0m │ layer_normalizat… │\n",
       "│                     │                   │            │ dropout_5[\u001b[38;5;34m0\u001b[0m][\u001b[38;5;34m0\u001b[0m]   │\n",
       "├─────────────────────┼───────────────────┼────────────┼───────────────────┤\n",
       "│ layer_normalizatio… │ (\u001b[38;5;45mNone\u001b[0m, \u001b[38;5;34m20\u001b[0m, \u001b[38;5;34m128\u001b[0m)   │        \u001b[38;5;34m256\u001b[0m │ add_3[\u001b[38;5;34m0\u001b[0m][\u001b[38;5;34m0\u001b[0m]       │\n",
       "│ (\u001b[38;5;33mLayerNormalizatio…\u001b[0m │                   │            │                   │\n",
       "├─────────────────────┼───────────────────┼────────────┼───────────────────┤\n",
       "│ global_average_poo… │ (\u001b[38;5;45mNone\u001b[0m, \u001b[38;5;34m128\u001b[0m)       │          \u001b[38;5;34m0\u001b[0m │ layer_normalizat… │\n",
       "│ (\u001b[38;5;33mGlobalAveragePool…\u001b[0m │                   │            │                   │\n",
       "├─────────────────────┼───────────────────┼────────────┼───────────────────┤\n",
       "│ dense_5 (\u001b[38;5;33mDense\u001b[0m)     │ (\u001b[38;5;45mNone\u001b[0m, \u001b[38;5;34m64\u001b[0m)        │      \u001b[38;5;34m8,256\u001b[0m │ global_average_p… │\n",
       "├─────────────────────┼───────────────────┼────────────┼───────────────────┤\n",
       "│ dense_6 (\u001b[38;5;33mDense\u001b[0m)     │ (\u001b[38;5;45mNone\u001b[0m, \u001b[38;5;34m4\u001b[0m)         │        \u001b[38;5;34m260\u001b[0m │ dense_5[\u001b[38;5;34m0\u001b[0m][\u001b[38;5;34m0\u001b[0m]     │\n",
       "└─────────────────────┴───────────────────┴────────────┴───────────────────┘\n"
      ]
     },
     "metadata": {},
     "output_type": "display_data"
    },
    {
     "data": {
      "text/html": [
       "<pre style=\"white-space:pre;overflow-x:auto;line-height:normal;font-family:Menlo,'DejaVu Sans Mono',consolas,'Courier New',monospace\"><span style=\"font-weight: bold\"> Total params: </span><span style=\"color: #00af00; text-decoration-color: #00af00\">828,494</span> (3.16 MB)\n",
       "</pre>\n"
      ],
      "text/plain": [
       "\u001b[1m Total params: \u001b[0m\u001b[38;5;34m828,494\u001b[0m (3.16 MB)\n"
      ]
     },
     "metadata": {},
     "output_type": "display_data"
    },
    {
     "data": {
      "text/html": [
       "<pre style=\"white-space:pre;overflow-x:auto;line-height:normal;font-family:Menlo,'DejaVu Sans Mono',consolas,'Courier New',monospace\"><span style=\"font-weight: bold\"> Trainable params: </span><span style=\"color: #00af00; text-decoration-color: #00af00\">276,164</span> (1.05 MB)\n",
       "</pre>\n"
      ],
      "text/plain": [
       "\u001b[1m Trainable params: \u001b[0m\u001b[38;5;34m276,164\u001b[0m (1.05 MB)\n"
      ]
     },
     "metadata": {},
     "output_type": "display_data"
    },
    {
     "data": {
      "text/html": [
       "<pre style=\"white-space:pre;overflow-x:auto;line-height:normal;font-family:Menlo,'DejaVu Sans Mono',consolas,'Courier New',monospace\"><span style=\"font-weight: bold\"> Non-trainable params: </span><span style=\"color: #00af00; text-decoration-color: #00af00\">0</span> (0.00 B)\n",
       "</pre>\n"
      ],
      "text/plain": [
       "\u001b[1m Non-trainable params: \u001b[0m\u001b[38;5;34m0\u001b[0m (0.00 B)\n"
      ]
     },
     "metadata": {},
     "output_type": "display_data"
    },
    {
     "data": {
      "text/html": [
       "<pre style=\"white-space:pre;overflow-x:auto;line-height:normal;font-family:Menlo,'DejaVu Sans Mono',consolas,'Courier New',monospace\"><span style=\"font-weight: bold\"> Optimizer params: </span><span style=\"color: #00af00; text-decoration-color: #00af00\">552,330</span> (2.11 MB)\n",
       "</pre>\n"
      ],
      "text/plain": [
       "\u001b[1m Optimizer params: \u001b[0m\u001b[38;5;34m552,330\u001b[0m (2.11 MB)\n"
      ]
     },
     "metadata": {},
     "output_type": "display_data"
    },
    {
     "name": "stdout",
     "output_type": "stream",
     "text": [
      "loss: 0.0740\n",
      "compile_metrics: 0.9750\n",
      "\u001b[1m3/3\u001b[0m \u001b[32m━━━━━━━━━━━━━━━━━━━━\u001b[0m\u001b[37m\u001b[0m \u001b[1m1s\u001b[0m 169ms/step\n",
      "\n",
      "Classification Report:\n",
      "              precision    recall  f1-score   support\n",
      "\n",
      "           0       1.00      0.95      0.97        20\n",
      "           1       1.00      0.95      0.97        20\n",
      "           2       0.95      1.00      0.98        20\n",
      "           3       0.95      1.00      0.98        20\n",
      "\n",
      "    accuracy                           0.97        80\n",
      "   macro avg       0.98      0.97      0.97        80\n",
      "weighted avg       0.98      0.97      0.97        80\n",
      "\n",
      "F1 Score (weighted): 0.9750\n"
     ]
    },
    {
     "data": {
      "image/png": "[encoded data removed]",
      "text/plain": [
       "<Figure size 1000x800 with 2 Axes>"
      ]
     },
     "metadata": {},
     "output_type": "display_data"
    },
    {
     "name": "stdout",
     "output_type": "stream",
     "text": [
      "True: 0, Pred: 0, Prob: [9.9626309e-01 2.5397635e-03 2.2413180e-04 9.7301521e-04]\n",
      "True: 0, Pred: 0, Prob: [9.9832791e-01 6.9226214e-04 1.1712154e-04 8.6273532e-04]\n",
      "True: 3, Pred: 3, Prob: [2.0212302e-02 1.0871238e-03 4.3781311e-04 9.7826278e-01]\n",
      "True: 2, Pred: 2, Prob: [4.5721230e-05 3.1788391e-03 9.9659133e-01 1.8410919e-04]\n",
      "True: 0, Pred: 0, Prob: [9.9749583e-01 4.3038832e-04 8.5140935e-05 1.9885693e-03]\n",
      "True: 2, Pred: 2, Prob: [4.7797046e-05 3.8740782e-03 9.9602604e-01 5.1973133e-05]\n",
      "True: 3, Pred: 3, Prob: [0.05431926 0.00789947 0.0020375  0.9357438 ]\n",
      "True: 1, Pred: 1, Prob: [2.0641395e-05 9.9956971e-01 3.7668628e-04 3.3012515e-05]\n",
      "True: 2, Pred: 2, Prob: [1.2004068e-05 3.5397485e-03 9.9639785e-01 5.0422939e-05]\n",
      "True: 1, Pred: 1, Prob: [4.6495165e-04 9.9915409e-01 7.3093390e-05 3.0789350e-04]\n",
      "True: 0, Pred: 0, Prob: [9.984883e-01 5.189416e-04 8.008478e-05 9.126342e-04]\n",
      "True: 3, Pred: 3, Prob: [1.3105832e-01 2.7513353e-04 3.2486772e-04 8.6834168e-01]\n",
      "True: 0, Pred: 0, Prob: [9.9817812e-01 2.3661136e-04 9.5974523e-05 1.4892787e-03]\n",
      "True: 1, Pred: 1, Prob: [2.3357990e-05 9.9984479e-01 9.1271097e-05 4.0526844e-05]\n",
      "True: 1, Pred: 1, Prob: [1.3104692e-04 8.0221903e-01 1.9657484e-01 1.0751357e-03]\n",
      "True: 2, Pred: 2, Prob: [2.3818497e-05 5.3241645e-04 9.9938977e-01 5.4003078e-05]\n",
      "True: 1, Pred: 1, Prob: [4.2551619e-05 9.9979585e-01 8.8692126e-05 7.2900919e-05]\n",
      "True: 0, Pred: 0, Prob: [9.9326843e-01 5.8435025e-03 3.0423416e-04 5.8381067e-04]\n",
      "True: 2, Pred: 2, Prob: [1.4353061e-05 1.3695544e-03 9.9856961e-01 4.6444085e-05]\n",
      "True: 2, Pred: 2, Prob: [8.1278951e-05 8.5478695e-04 9.9880850e-01 2.5535547e-04]\n",
      "True: 3, Pred: 3, Prob: [3.8792592e-02 3.9290381e-04 2.5235282e-04 9.6056223e-01]\n",
      "True: 1, Pred: 1, Prob: [1.9374898e-03 9.9785668e-01 1.6261461e-04 4.3144417e-05]\n",
      "True: 2, Pred: 2, Prob: [1.2760870e-05 6.6765486e-03 9.9325919e-01 5.1470364e-05]\n",
      "True: 1, Pred: 1, Prob: [6.4421314e-05 8.6952168e-01 1.3026564e-01 1.4820062e-04]\n",
      "True: 2, Pred: 2, Prob: [1.6758228e-05 3.4917225e-03 9.9644059e-01 5.0973100e-05]\n",
      "True: 0, Pred: 0, Prob: [9.9898452e-01 3.0246773e-04 8.4978928e-05 6.2800391e-04]\n",
      "True: 0, Pred: 0, Prob: [9.9899644e-01 4.1952851e-04 5.8955793e-05 5.2513438e-04]\n",
      "True: 0, Pred: 0, Prob: [9.9902451e-01 4.1400074e-04 6.3553409e-05 4.9792364e-04]\n",
      "True: 1, Pred: 1, Prob: [4.7076945e-04 9.9604273e-01 3.4306396e-03 5.5958833e-05]\n",
      "True: 1, Pred: 1, Prob: [6.4705149e-05 8.6449677e-01 1.3528356e-01 1.5496595e-04]\n",
      "True: 1, Pred: 1, Prob: [9.37883917e-04 9.98924673e-01 1.03851904e-04 3.35729965e-05]\n",
      "True: 1, Pred: 1, Prob: [3.92300310e-03 9.95564342e-01 4.02487756e-04 1.10161294e-04]\n",
      "True: 3, Pred: 3, Prob: [9.7238705e-02 1.0208046e-03 5.7931175e-04 9.0116125e-01]\n",
      "True: 0, Pred: 3, Prob: [1.9432552e-01 2.4691931e-04 3.6171358e-04 8.0506581e-01]\n",
      "True: 3, Pred: 3, Prob: [3.151522e-02 4.526184e-04 2.461402e-04 9.677861e-01]\n",
      "True: 0, Pred: 0, Prob: [9.9901450e-01 4.2163569e-04 6.1036386e-05 5.0281145e-04]\n",
      "True: 2, Pred: 2, Prob: [4.8761649e-05 3.9412067e-03 9.9595743e-01 5.2500178e-05]\n",
      "True: 1, Pred: 1, Prob: [5.2141706e-05 9.9505144e-01 4.8408294e-03 5.5645858e-05]\n",
      "True: 3, Pred: 3, Prob: [1.0056403e-01 2.4045706e-04 2.6749182e-04 8.9892799e-01]\n",
      "True: 2, Pred: 2, Prob: [7.0478541e-06 4.4466861e-04 9.9953270e-01 1.5628835e-05]\n",
      "True: 1, Pred: 1, Prob: [5.0106097e-04 9.9819320e-01 1.2587641e-03 4.6975540e-05]\n",
      "True: 0, Pred: 0, Prob: [9.987122e-01 6.577011e-04 8.539358e-05 5.447343e-04]\n",
      "True: 1, Pred: 1, Prob: [7.4906292e-04 9.9614799e-01 3.0167263e-03 8.6261382e-05]\n",
      "True: 3, Pred: 3, Prob: [8.5544303e-02 4.6113235e-04 4.5470436e-04 9.1353995e-01]\n",
      "True: 0, Pred: 0, Prob: [9.9648201e-01 5.1201048e-04 1.5468043e-04 2.8512655e-03]\n",
      "True: 1, Pred: 1, Prob: [2.9258797e-05 9.9942112e-01 5.0573191e-04 4.3998712e-05]\n",
      "True: 2, Pred: 2, Prob: [2.7540579e-04 2.1452366e-01 7.8482306e-01 3.7788588e-04]\n",
      "True: 1, Pred: 2, Prob: [1.8702069e-04 3.7214249e-01 6.2735450e-01 3.1602482e-04]\n",
      "True: 0, Pred: 0, Prob: [9.9661642e-01 1.7853084e-03 3.2119424e-04 1.2770408e-03]\n",
      "True: 3, Pred: 3, Prob: [3.8589742e-02 8.5547444e-04 3.1324965e-04 9.6024156e-01]\n",
      "True: 2, Pred: 2, Prob: [3.2819516e-05 6.0405652e-04 9.9929118e-01 7.1849150e-05]\n",
      "True: 3, Pred: 3, Prob: [1.14041775e-01 2.45792180e-04 2.88981071e-04 8.85423422e-01]\n",
      "True: 3, Pred: 3, Prob: [2.2811444e-02 1.0547818e-03 4.5289067e-04 9.7568083e-01]\n",
      "True: 3, Pred: 3, Prob: [6.5773763e-02 1.3497974e-03 5.8766454e-04 9.3228883e-01]\n",
      "True: 0, Pred: 0, Prob: [9.9733573e-01 1.5546854e-03 9.2605311e-05 1.0169981e-03]\n",
      "True: 2, Pred: 2, Prob: [2.1322536e-05 1.3886660e-02 9.8603445e-01 5.7586720e-05]\n",
      "True: 3, Pred: 3, Prob: [6.7316711e-02 4.8273543e-04 4.2255217e-04 9.3177795e-01]\n",
      "True: 1, Pred: 1, Prob: [4.2044114e-05 9.9896824e-01 9.4705005e-04 4.2592608e-05]\n",
      "True: 0, Pred: 0, Prob: [9.1371757e-01 4.9789442e-04 1.2700183e-03 8.4514491e-02]\n",
      "True: 2, Pred: 2, Prob: [3.5634122e-04 8.0429185e-03 9.9049532e-01 1.1053983e-03]\n",
      "True: 1, Pred: 1, Prob: [1.8796787e-05 9.9938118e-01 5.6873407e-04 3.1217856e-05]\n",
      "True: 2, Pred: 2, Prob: [3.0418241e-05 3.5601459e-02 9.6430135e-01 6.6703906e-05]\n",
      "True: 2, Pred: 2, Prob: [2.0786922e-05 2.1856917e-02 9.7803432e-01 8.8024724e-05]\n",
      "True: 3, Pred: 3, Prob: [0.05199105 0.0015072  0.00104549 0.94545627]\n",
      "True: 1, Pred: 1, Prob: [4.2039435e-05 9.7969168e-01 2.0057149e-02 2.0913203e-04]\n",
      "True: 3, Pred: 3, Prob: [6.4105868e-02 9.6997828e-04 3.9949513e-04 9.3452466e-01]\n",
      "True: 0, Pred: 0, Prob: [9.9383789e-01 1.6612989e-03 4.6624019e-04 4.0345700e-03]\n",
      "True: 3, Pred: 3, Prob: [2.6126331e-02 4.6779157e-04 2.3221518e-04 9.7317368e-01]\n",
      "True: 2, Pred: 2, Prob: [6.2279960e-06 6.6007022e-04 9.9931931e-01 1.4396462e-05]\n",
      "True: 2, Pred: 2, Prob: [1.2999640e-05 6.4130705e-03 9.9352515e-01 4.8742171e-05]\n",
      "True: 1, Pred: 1, Prob: [2.2808117e-05 9.9985063e-01 7.8456200e-05 4.7989641e-05]\n",
      "True: 0, Pred: 0, Prob: [9.9901092e-01 3.0349020e-04 8.7811146e-05 5.9781148e-04]\n",
      "True: 0, Pred: 0, Prob: [9.9721485e-01 1.7256201e-03 9.6514646e-05 9.6303417e-04]\n",
      "True: 3, Pred: 3, Prob: [3.1442809e-01 4.8497479e-04 3.6572534e-04 6.8472129e-01]\n",
      "True: 3, Pred: 3, Prob: [0.46204928 0.02018973 0.00362925 0.5141317 ]\n",
      "True: 0, Pred: 0, Prob: [9.9430567e-01 4.7193603e-03 2.3527929e-04 7.3972240e-04]\n",
      "True: 3, Pred: 3, Prob: [4.7798809e-02 5.7426107e-04 4.0976293e-04 9.5121723e-01]\n",
      "True: 2, Pred: 2, Prob: [1.3702686e-04 5.3442684e-03 9.9443346e-01 8.5269799e-05]\n",
      "True: 3, Pred: 3, Prob: [5.3411901e-02 5.5352901e-04 4.1980293e-04 9.4561487e-01]\n",
      "True: 2, Pred: 2, Prob: [1.4681359e-05 5.5065183e-03 9.9442899e-01 4.9841910e-05]\n"
     ]
    }
   ],
   "source": [
    "# === Evaluate ===\n",
    "model.summary()\n",
    "results = model.evaluate(X_test, y_test, verbose=0)\n",
    "for name, value in zip(model.metrics_names, results):\n",
    "    print(f\"{name}: {value:.4f}\")\n",
    "\n",
    "# === Predictions & Report ===\n",
    "predictions = model.predict(X_test)\n",
    "y_pred = np.argmax(predictions, axis=1)\n",
    "\n",
    "print(\"\\nClassification Report:\")\n",
    "print(classification_report(y_test, y_pred))\n",
    "f1 = f1_score(y_test, y_pred, average='weighted')\n",
    "print(f\"F1 Score (weighted): {f1:.4f}\")\n",
    "\n",
    "# === Confusion Matrix ===\n",
    "conf_matrix = confusion_matrix(y_test, y_pred)\n",
    "plt.figure(figsize=(10, 8))\n",
    "sns.heatmap(conf_matrix, annot=True, fmt='d', cmap='Blues')\n",
    "plt.xlabel('Predicted')\n",
    "plt.ylabel('Actual')\n",
    "plt.title('Confusion Matrix')\n",
    "plt.savefig(f\"{filename}.png\")\n",
    "plt.show()\n",
    "\n",
    "# === Preview Predictions ===\n",
    "for i in range(min(80, len(y_pred))):\n",
    "    print(f\"True: {y_test[i]}, Pred: {y_pred[i]}, Prob: {predictions[i]}\")"
   ]
  },
  {
   "cell_type": "markdown",
   "id": "1508e8a1",
   "metadata": {},
   "source": [
    "Save the confusion matrix"
   ]
  }
 ],
 "metadata": {
  "kernelspec": {
   "display_name": "venv",
   "language": "python",
   "name": "python3"
  },
  "language_info": {
   "codemirror_mode": {
    "name": "ipython",
    "version": 3
   },
   "file_extension": ".py",
   "mimetype": "text/x-python",
   "name": "python",
   "nbconvert_exporter": "python",
   "pygments_lexer": "ipython3",
   "version": "3.11.9"
  }
 },
 "nbformat": 4,
 "nbformat_minor": 5
}
