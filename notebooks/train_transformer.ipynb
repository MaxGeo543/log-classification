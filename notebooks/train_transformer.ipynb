{
 "cells": [
  {
   "cell_type": "markdown",
   "id": "a297fabe",
   "metadata": {},
   "source": [
    "First import all neccessary modules"
   ]
  },
  {
   "cell_type": "code",
   "execution_count": 96,
   "id": "ce1c93f3",
   "metadata": {},
   "outputs": [],
   "source": [
    "from datetime import datetime\n",
    "import numpy as np\n",
    "from keras.models import Model\n",
    "from keras.layers import Input, Dense, LayerNormalization, Dropout, MultiHeadAttention, Add, GlobalAveragePooling1D\n",
    "from keras.callbacks import EarlyStopping\n",
    "from keras.metrics import Accuracy, Precision, Recall\n",
    "from keras.optimizers import Adam, RMSprop, SGD, Nadam\n",
    "from sklearn.metrics import classification_report, confusion_matrix, f1_score\n",
    "import matplotlib.pyplot as plt\n",
    "import seaborn as sns\n",
    "import sys\n",
    "import os\n",
    "import keras\n",
    "from positional_encoding import PositionalEncoding\n",
    "\n",
    "from preprocessor import Preprocessor\n",
    "from message_encoder import *"
   ]
  },
  {
   "cell_type": "markdown",
   "id": "dfee08c1",
   "metadata": {},
   "source": [
    "Next we define all hyperparameters for the Training of the LSTM module. "
   ]
  },
  {
   "cell_type": "code",
   "execution_count": 97,
   "id": "6f4b3568",
   "metadata": {},
   "outputs": [],
   "source": [
    "# === Preprocessing parameters ===\n",
    "log_files = [i for i in range(745, 754)]            # list of ints representing the numbers of log files to use\n",
    "logs_per_class = 100                                # int, how many datapoints per class should be collected if available\n",
    "window_size = 20                                    # int, how many log messages to be considered in a single data point from sliding window\n",
    "encoding_output_size = 16                           # int, dimensionality of each message's encoded vector representation\n",
    "message_encoder = BERTEncoder(encoding_output_size) # encoder object, can be TextVectorizationEncoder, BERTEncoder, or BERTEmbeddingEncoder\n",
    "extended_datetime_features = False                  # bool, whether to use additional normalized datetime features\n",
    "preprocessor_file = \"../data/preprocessors/preprocessor_20_smallest_files_100lpc_20ws_BERTencx16.zip\"  # str (path), if not empty and exists, loads existing preprocessor file instead of creating one"
   ]
  },
  {
   "cell_type": "markdown",
   "id": "af08da64",
   "metadata": {},
   "source": [
    "Next we load logs and preprocess the data. "
   ]
  },
  {
   "cell_type": "code",
   "execution_count": null,
   "id": "47994355",
   "metadata": {},
   "outputs": [
    {
     "name": "stderr",
     "output_type": "stream",
     "text": [
      "/home/a_gerw500/agmge/log-classification/venv/lib/python3.11/site-packages/sklearn/base.py:440: InconsistentVersionWarning: Trying to unpickle estimator LabelEncoder from version 1.6.1 when using version 1.7.0. This might lead to breaking code or invalid results. Use at your own risk. For more info please refer to:\n",
      "https://scikit-learn.org/stable/model_persistence.html#security-maintainability-limitations\n",
      "  warnings.warn(\n"
     ]
    }
   ],
   "source": [
    "# === Load or preprocess data ===\n",
    "if os.path.isfile(preprocessor_file):\n",
    "    print(\"loading preprocessor from file\")\n",
    "    pp = Preprocessor.load(preprocessor_file)\n",
    "else:\n",
    "    pp = Preprocessor(log_files, message_encoder,\n",
    "                      logs_per_class=logs_per_class,\n",
    "                      window_size=window_size,\n",
    "                      extended_datetime_features=extended_datetime_features,\n",
    "                      volatile=True)\n",
    "    pp.preprocess()\n",
    "    path = f\"./data/preprocessors/preprocessor_{len(pp.loaded_files)}files_\"\n",
    "    enc_type = \"BERTenc\" if isinstance(pp.message_encoder, BERTEncoder) else \"BERTemb\" if isinstance(pp.message_encoder, BERTEmbeddingEncoder) else \"TextVec\"\n",
    "    path += f\"{logs_per_class}lpc_{window_size}ws_{enc_type}x{encoding_output_size}\"\n",
    "    if extended_datetime_features:\n",
    "        path += \"_extdt\"\n",
    "    path += \".json\"\n",
    "    if not os.path.isfile(path):\n",
    "        pp.save(path)\n"
   ]
  },
  {
   "cell_type": "markdown",
   "id": "dfdf3506",
   "metadata": {},
   "source": [
    "Define the model architecture for the Transformer, then train the Transformer model. "
   ]
  },
  {
   "cell_type": "code",
   "execution_count": 151,
   "id": "938418e7",
   "metadata": {},
   "outputs": [],
   "source": [
    "# === Transformer Hyperparameters ===\n",
    "model_dim = 128                                     # int, dimension of the transformer hidden layers; must be divisible by num_heads\n",
    "num_heads = 4                                       # int, number of attention heads in multi-head attention; must divide model_dim evenly\n",
    "ff_dim = 256                                        # int, dimension of the feed-forward layer inside each transformer block\n",
    "num_transformer_blocks = 2                          # int, how many stacked transformer blocks to use; generally 1–6 for lightweight models\n",
    "dropout_rate = 0                                  # float in range [0.0, 1.0], dropout rate for regularization; 0.0 disables dropout\n",
    "\n",
    "\n",
    "# === Training hyperparameters ===\n",
    "split_ratios = (9, 1)                               # tuple of ints, ratio of data split for training and testing\n",
    "epochs = 1000                                       # int, number of iterations (epochs) to train the model\n",
    "batch_size = 32                                     # int, number of samples per training batch\n",
    "early_stopping_monitor = \"val_loss\"                 # str, metric to monitor for early stopping; options: 'loss', 'val_loss', 'accuracy', 'val_accuracy', etc.\n",
    "early_stopping_patience = 10                        # int, number of epochs with no improvement after which training will be stopped\n",
    "early_stopping_restore_best = True                  # bool, whether to restore model weights from the epoch with the best monitored value\n",
    "validation_split = 0.1                              # float in range (0.0, 1.0), fraction of training data to reserve for validation\n",
    "learning_rate = 0.001                               # float > 0.0, learning rate used by the optimizer\n",
    "optimizer = Adam(learning_rate=learning_rate)       # optimizer instance, can be Adam, RMSprop, SGD (optionally with momentum), or Nadam\n"
   ]
  },
  {
   "cell_type": "code",
   "execution_count": 152,
   "id": "e933d7b4",
   "metadata": {},
   "outputs": [],
   "source": [
    "# === Prepare data ===\n",
    "train, test = pp.data.stratified_split(split_ratios)\n",
    "X_train, y_train = train\n",
    "X_test, y_test = test\n",
    "input_shape = pp.data.entry_shape\n",
    "num_classes = len(set(y_train))"
   ]
  },
  {
   "cell_type": "code",
   "execution_count": 153,
   "id": "67e8f58a",
   "metadata": {},
   "outputs": [
    {
     "name": "stderr",
     "output_type": "stream",
     "text": [
      "2025-06-19 14:17:27.194825: I external/local_xla/xla/stream_executor/cuda/subprocess_compilation.cc:346] ptxas warning : Registers are spilled to local memory in function 'gemm_fusion_dot_8_0', 128 bytes spill stores, 128 bytes spill loads\n",
      "\n",
      "2025-06-19 14:17:27.337304: I external/local_xla/xla/stream_executor/cuda/subprocess_compilation.cc:346] ptxas warning : Registers are spilled to local memory in function 'gemm_fusion_dot_1861', 8 bytes spill stores, 8 bytes spill loads\n",
      "\n",
      "2025-06-19 14:17:27.490337: I external/local_xla/xla/stream_executor/cuda/subprocess_compilation.cc:346] ptxas warning : Registers are spilled to local memory in function 'gemm_fusion_dot_56', 416 bytes spill stores, 352 bytes spill loads\n",
      "\n",
      "2025-06-19 14:17:27.590031: I external/local_xla/xla/stream_executor/cuda/subprocess_compilation.cc:346] ptxas warning : Registers are spilled to local memory in function 'gemm_fusion_dot_58', 416 bytes spill stores, 352 bytes spill loads\n",
      "\n",
      "2025-06-19 14:17:28.135252: I external/local_xla/xla/stream_executor/cuda/subprocess_compilation.cc:346] ptxas warning : Registers are spilled to local memory in function 'gemm_fusion_dot_26', 416 bytes spill stores, 352 bytes spill loads\n",
      "\n",
      "2025-06-19 14:17:28.264611: I external/local_xla/xla/stream_executor/cuda/subprocess_compilation.cc:346] ptxas warning : Registers are spilled to local memory in function 'gemm_fusion_dot_8_0', 144 bytes spill stores, 144 bytes spill loads\n",
      "\n",
      "2025-06-19 14:17:28.438689: I external/local_xla/xla/stream_executor/cuda/subprocess_compilation.cc:346] ptxas warning : Registers are spilled to local memory in function 'gemm_fusion_dot_8', 128 bytes spill stores, 128 bytes spill loads\n",
      "\n"
     ]
    },
    {
     "data": {
      "text/plain": [
       "<keras.src.callbacks.history.History at 0x77b235a4d210>"
      ]
     },
     "execution_count": 153,
     "metadata": {},
     "output_type": "execute_result"
    }
   ],
   "source": [
    "# === Transformer Block ===\n",
    "def transformer_block(x, model_dim, num_heads, ff_dim, dropout_rate):\n",
    "    # Multi-Head Attention\n",
    "    attn_output = MultiHeadAttention(num_heads=num_heads, key_dim=model_dim // num_heads)(x, x)\n",
    "    attn_output = Dropout(dropout_rate)(attn_output)\n",
    "    x = Add()([x, attn_output])\n",
    "    x = LayerNormalization(epsilon=1e-6)(x)\n",
    "\n",
    "    # Feed-Forward Network\n",
    "    ff_output = Dense(ff_dim, activation='relu')(x)\n",
    "    ff_output = Dense(model_dim)(ff_output)\n",
    "    ff_output = Dropout(dropout_rate)(ff_output)\n",
    "    x = Add()([x, ff_output])\n",
    "    x = LayerNormalization(epsilon=1e-6)(x)\n",
    "\n",
    "    return x\n",
    "\n",
    "# === Build Transformer Model ===\n",
    "inputs = Input(shape=input_shape)\n",
    "x = Dense(model_dim)(inputs)  # Project to model dimension\n",
    "x = PositionalEncoding()(x)\n",
    "\n",
    "# Apply multiple transformer blocks\n",
    "for _ in range(num_transformer_blocks):\n",
    "    x = transformer_block(x, model_dim, num_heads, ff_dim, dropout_rate)\n",
    "\n",
    "x = GlobalAveragePooling1D()(x)\n",
    "x = Dense(64, activation='relu')(x)\n",
    "outputs = Dense(num_classes, activation='softmax')(x)\n",
    "\n",
    "model = Model(inputs=inputs, outputs=outputs)\n",
    "\n",
    "# Compile model\n",
    "model.compile(optimizer=optimizer,\n",
    "              loss='sparse_categorical_crossentropy',\n",
    "              metrics=['accuracy'])\n",
    "\n",
    "# === Training ===\n",
    "early_stopping = EarlyStopping(monitor=early_stopping_monitor,\n",
    "                               patience=early_stopping_patience,\n",
    "                               restore_best_weights=early_stopping_restore_best)\n",
    "\n",
    "model.fit(X_train, y_train,\n",
    "          epochs=epochs,\n",
    "          batch_size=batch_size,\n",
    "          validation_split=validation_split,\n",
    "          callbacks=[early_stopping],\n",
    "          verbose=0)"
   ]
  },
  {
   "cell_type": "markdown",
   "id": "a5b1fd8d",
   "metadata": {},
   "source": [
    "Optionally save the weights of the model"
   ]
  },
  {
   "cell_type": "code",
   "execution_count": 154,
   "id": "dce5aa3f",
   "metadata": {},
   "outputs": [],
   "source": [
    "# === Save model ===\n",
    "filename = f\"../models/transformer_{num_transformer_blocks}x{model_dim}_heads{num_heads}_ffdim{ff_dim}_drop{dropout_rate}_lr{learning_rate}_bs{batch_size}_ep{epochs}_earlystp{early_stopping_monitor}{early_stopping_patience}{early_stopping_restore_best}_{datetime.now().strftime('%Y%m%d_%H%M%S')}\"\n",
    "model.save(f\"{filename}.keras\")"
   ]
  },
  {
   "cell_type": "markdown",
   "id": "52041822",
   "metadata": {},
   "source": [
    "Evaluate model and print scores"
   ]
  },
  {
   "cell_type": "code",
   "execution_count": 155,
   "id": "80f7ba17",
   "metadata": {},
   "outputs": [
    {
     "data": {
      "text/html": [
       "<pre style=\"white-space:pre;overflow-x:auto;line-height:normal;font-family:Menlo,'DejaVu Sans Mono',consolas,'Courier New',monospace\"></pre>\n"
      ],
      "text/plain": []
     },
     "metadata": {},
     "output_type": "display_data"
    },
    {
     "name": "stderr",
     "output_type": "stream",
     "text": [
      "2025-06-19 14:17:37.647026: I external/local_xla/xla/stream_executor/cuda/subprocess_compilation.cc:346] ptxas warning : Registers are spilled to local memory in function 'gemm_fusion_dot_8_0', 128 bytes spill stores, 128 bytes spill loads\n",
      "\n",
      "2025-06-19 14:17:37.744727: I external/local_xla/xla/stream_executor/cuda/subprocess_compilation.cc:346] ptxas warning : Registers are spilled to local memory in function 'gemm_fusion_dot_18', 428 bytes spill stores, 340 bytes spill loads\n",
      "\n",
      "2025-06-19 14:17:38.006401: I external/local_xla/xla/stream_executor/cuda/subprocess_compilation.cc:346] ptxas warning : Registers are spilled to local memory in function 'gemm_fusion_dot_20', 428 bytes spill stores, 340 bytes spill loads\n",
      "\n",
      "2025-06-19 14:17:38.016969: I external/local_xla/xla/stream_executor/cuda/subprocess_compilation.cc:346] ptxas warning : Registers are spilled to local memory in function 'gemm_fusion_dot_483', 8 bytes spill stores, 8 bytes spill loads\n",
      "\n",
      "2025-06-19 14:17:38.164753: I external/local_xla/xla/stream_executor/cuda/subprocess_compilation.cc:346] ptxas warning : Registers are spilled to local memory in function 'gemm_fusion_dot_20', 416 bytes spill stores, 352 bytes spill loads\n",
      "\n",
      "2025-06-19 14:17:38.170318: I external/local_xla/xla/stream_executor/cuda/subprocess_compilation.cc:346] ptxas warning : Registers are spilled to local memory in function 'gemm_fusion_dot_18', 416 bytes spill stores, 352 bytes spill loads\n",
      "\n",
      "2025-06-19 14:17:38.175708: I external/local_xla/xla/stream_executor/cuda/subprocess_compilation.cc:346] ptxas warning : Registers are spilled to local memory in function 'gemm_fusion_dot_8_0', 144 bytes spill stores, 144 bytes spill loads\n",
      "\n",
      "2025-06-19 14:17:38.371980: I external/local_xla/xla/stream_executor/cuda/subprocess_compilation.cc:346] ptxas warning : Registers are spilled to local memory in function 'gemm_fusion_dot_8', 128 bytes spill stores, 128 bytes spill loads\n",
      "\n"
     ]
    },
    {
     "data": {
      "image/png": "[encoded data removed]",
      "text/plain": [
       "<Figure size 1000x800 with 2 Axes>"
      ]
     },
     "metadata": {},
     "output_type": "display_data"
    }
   ],
   "source": [
    "f = open(f\"{filename}.txt\", \"w\")\n",
    "ostd = sys.stdout\n",
    "sys.stdout = f\n",
    "\n",
    "\n",
    "# === Evaluate ===\n",
    "model.summary(print_fn=f.write)\n",
    "results = model.evaluate(X_test, y_test, verbose=0)\n",
    "for name, value in zip(model.metrics_names, results):\n",
    "    print(f\"{name}: {value:.4f}\")\n",
    "\n",
    "# === Predictions & Report ===\n",
    "predictions = model.predict(X_test)\n",
    "y_pred = np.argmax(predictions, axis=1)\n",
    "\n",
    "print(\"\\nClassification Report:\")\n",
    "print(classification_report(y_test, y_pred))\n",
    "f1 = f1_score(y_test, y_pred, average='weighted')\n",
    "print(f\"F1 Score (weighted): {f1:.4f}\")\n",
    "\n",
    "# === Confusion Matrix ===\n",
    "conf_matrix = confusion_matrix(y_test, y_pred)\n",
    "plt.figure(figsize=(10, 8))\n",
    "sns.heatmap(conf_matrix, annot=True, fmt='d', cmap='Blues')\n",
    "plt.xlabel('Predicted')\n",
    "plt.ylabel('Actual')\n",
    "plt.title('Confusion Matrix')\n",
    "plt.savefig(f\"{filename}.png\")\n",
    "plt.show()\n",
    "\n",
    "# === Preview Predictions ===\n",
    "for i in range(min(80, len(y_pred))):\n",
    "    print(f\"True: {y_test[i]}, Pred: {y_pred[i]}, Prob: {predictions[i]}\")\n",
    "\n",
    "\n",
    "\n",
    "\n",
    "\n",
    "sys.stdout = ostd\n",
    "f.close()"
   ]
  },
  {
   "cell_type": "markdown",
   "id": "1508e8a1",
   "metadata": {},
   "source": [
    "Save the confusion matrix"
   ]
  }
 ],
 "metadata": {
  "kernelspec": {
   "display_name": "venv",
   "language": "python",
   "name": "python3"
  },
  "language_info": {
   "codemirror_mode": {
    "name": "ipython",
    "version": 3
   },
   "file_extension": ".py",
   "mimetype": "text/x-python",
   "name": "python",
   "nbconvert_exporter": "python",
   "pygments_lexer": "ipython3",
   "version": "3.11.9"
  }
 },
 "nbformat": 4,
 "nbformat_minor": 5
}
